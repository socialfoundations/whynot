{
 "cells": [
  {
   "cell_type": "code",
   "execution_count": 1,
   "metadata": {
    "scrolled": false
   },
   "outputs": [],
   "source": [
    "import whynot as wn\n",
    "import numpy as np\n",
    "from sklearn.svm import SVC\n",
    "from whynot import repeated_classification\n",
    "import matplotlib.pyplot as plt\n",
    "%matplotlib inline\n",
    "import warnings\n",
    "warnings.filterwarnings('ignore')"
   ]
  },
  {
   "cell_type": "markdown",
   "metadata": {},
   "source": [
    "# Two Gaussians"
   ]
  },
  {
   "cell_type": "markdown",
   "metadata": {},
   "source": [
    "Visualize generated distribution, intended to look like graph on [page 3](https://arxiv.org/pdf/1806.08010.pdf)"
   ]
  },
  {
   "cell_type": "code",
   "execution_count": 2,
   "metadata": {},
   "outputs": [
    {
     "name": "stdout",
     "output_type": "stream",
     "text": [
      "init:\n",
      "State(expected_populations=array([1000, 1000]), populations=array([1000, 1000]), features=array([[-1.13816802, -0.16071357],\n",
      "       [-1.43872886, -0.01037741],\n",
      "       [-0.66165873,  0.64558574],\n",
      "       ...,\n",
      "       [ 1.12437081, -0.08508197],\n",
      "       [ 1.23598464, -0.15238307],\n",
      "       [ 0.86702631,  0.38144057]]), labels=array([0, 1, 1, ..., 0, 1, 1]), classifier_params=array([-0.1570947 ,  6.74687162, -0.05352655]), risks=array([0.174, 0.204]))\n"
     ]
    },
    {
     "data": {
      "image/png": "[encoded data removed]",
      "text/plain": [
       "<Figure size 648x432 with 1 Axes>"
      ]
     },
     "metadata": {
      "needs_background": "light"
     },
     "output_type": "display_data"
    }
   ],
   "source": [
    "def graph_two_gaussians(features, labels, params=None):\n",
    "    plt.figure(figsize=(9, 6))\n",
    "\n",
    "    plt.scatter(*features[labels.astype(bool)].T, marker='+', color='k')\n",
    "    plt.scatter(*features[(1 - labels).astype(bool)].T, marker='_', color='r')\n",
    "    \n",
    "    xlims = np.array([-3, 3])\n",
    "    if params is not None:\n",
    "        plt.plot(xlims, -params[0] / params[1] * xlims - params[2] / params[1], color='b')\n",
    "\n",
    "    plt.xlim(xlims)\n",
    "    plt.ylim((-2, 2))\n",
    "\n",
    "    plt.show()\n",
    "\n",
    "\n",
    "init = repeated_classification.experiments.sample_initial_states_gaussians(np.random.RandomState())\n",
    "print('init:\\n' + str(init))\n",
    "\n",
    "graph_two_gaussians(init.features, init.labels)"
   ]
  },
  {
   "cell_type": "markdown",
   "metadata": {},
   "source": [
    "Run to see progress at each step"
   ]
  },
  {
   "cell_type": "code",
   "execution_count": 3,
   "metadata": {
    "scrolled": false
   },
   "outputs": [
    {
     "name": "stdout",
     "output_type": "stream",
     "text": [
      "\n",
      "0: expected pops [1825.3069 1815.4624], risks [0.177  0.1913], params [5.7007e-02 6.7584e+00 2.5124e-03]\n",
      "20: expected pops [5728.356  5733.1003], risks [0.1919 0.1862], params [-0.0215  6.6776 -0.017 ]\n",
      "40: expected pops [5841.8956 5791.9658], risks [0.1828 0.1891], params [-0.01    6.8085  0.0274]\n",
      "60: expected pops [5908.157  5831.1771], risks [0.1848 0.1863], params [0.0156 6.8494 0.0224]\n",
      "80: expected pops [5848.3992 5846.5205], risks [0.1811 0.1794], params [0.0494 6.8062 0.0337]\n",
      "100: expected pops [5867.1214 5901.1554], risks [0.1902 0.1895], params [0.0759 6.715  0.0135]\n",
      "120: expected pops [5890.9524 5878.4282], risks [0.1884 0.1854], params [ 0.      6.4692 -0.0161]\n",
      "140: expected pops [5787.7383 5828.0844], risks [0.1859 0.1888], params [-0.0184  6.8583 -0.0143]\n",
      "160: expected pops [5974.4215 5922.9909], risks [0.1853 0.1875], params [-0.009   6.7794  0.0217]\n",
      "180: expected pops [5788.3077 5806.1655], risks [0.184  0.1941], params [0.0074 6.6993 0.0244]\n",
      "200: expected pops [5875.0234 5846.6542], risks [0.1859 0.1906], params [-0.0177  6.703  -0.0159]\n",
      "220: expected pops [5925.4404 5826.2103], risks [0.1817 0.1864], params [-0.0305  6.8416  0.0162]\n",
      "240: expected pops [5869.1794 5845.2946], risks [0.1944 0.1942], params [ 0.0109  6.6224 -0.0192]\n",
      "260: expected pops [5780.8486 5764.8991], risks [0.1854 0.1913], params [-0.0153  6.8387 -0.0244]\n",
      "280: expected pops [5774.8802 5876.5501], risks [0.1806 0.183 ], params [2.1122e-02 6.7734e+00 5.0651e-03]\n",
      "300: expected pops [5844.6989 5887.38  ], risks [0.1916 0.1915], params [4.1414e-04 6.5203e+00 1.6797e-02]\n",
      "320: expected pops [5829.6467 5893.354 ], risks [0.1807 0.184 ], params [ 0.0074  7.0094 -0.0114]\n",
      "340: expected pops [5922.3393 5890.2691], risks [0.1863 0.1871], params [0.0166 6.7286 0.0219]\n",
      "360: expected pops [5801.7966 5898.8422], risks [0.1843 0.1969], params [1.9358e-03 6.5772e+00 2.7490e-02]\n",
      "380: expected pops [5908.6371 5914.2803], risks [0.1886 0.1847], params [-4.0286e-03  6.8416e+00 -9.2162e-03]\n",
      "400: expected pops [5902.0712 5832.4399], risks [0.1793 0.1854], params [6.4553e-03 6.6892e+00 1.1424e-02]\n",
      "420: expected pops [5874.7802 5894.6079], risks [0.1874 0.1854], params [ 0.0294  6.8792 -0.0105]\n",
      "440: expected pops [5825.3231 5831.4147], risks [0.1908 0.1866], params [-9.8715e-03  6.8376e+00  3.5335e-03]\n",
      "460: expected pops [5884.1353 5889.3391], risks [0.18   0.1868], params [-1.2896e-02  6.7925e+00  6.0028e-03]\n",
      "480: expected pops [5880.8239 5910.1184], risks [0.1899 0.1782], params [7.5243e-02 6.7544e+00 3.2097e-03]\n",
      "\n",
      "0: expected pops [1825.3069 1815.4624], risks [0.177  0.1913], params [5.7006e-02 6.7584e+00 2.5136e-03]\n",
      "20: expected pops [5728.356  5733.1003], risks [0.1919 0.1862], params [-0.0216  6.6776 -0.017 ]\n",
      "40: expected pops [5841.8956 5791.9658], risks [0.1828 0.1891], params [-0.01    6.8085  0.0274]\n",
      "60: expected pops [5908.157  5831.1771], risks [0.1848 0.1863], params [0.0156 6.8494 0.0224]\n",
      "80: expected pops [5847.5615 5846.5205], risks [0.18   0.1817], params [0.0232 6.8254 0.0329]\n",
      "100: expected pops [5852.2931 5909.5019], risks [0.1899 0.1899], params [0.0807 6.7172 0.0119]\n",
      "120: expected pops [5870.5618 5863.9045], risks [0.1923 0.1863], params [-0.0256  6.4759 -0.0439]\n",
      "140: expected pops [5777.3444 5832.4385], risks [0.1846 0.1885], params [-3.9049e-03  6.8170e+00 -1.9835e-02]\n",
      "160: expected pops [5951.2688 5910.2865], risks [0.1867 0.1851], params [-6.1863e-03  6.7213e+00  2.4981e-02]\n",
      "180: expected pops [5802.9665 5828.296 ], risks [0.1917 0.1877], params [0.0279 6.6537 0.013 ]\n",
      "200: expected pops [5857.1154 5845.1073], risks [0.1872 0.1899], params [-6.4909e-03  6.6826e+00 -1.4225e-02]\n",
      "220: expected pops [5866.7031 5823.1542], risks [0.1844 0.1863], params [-0.0218  6.8234  0.0092]\n",
      "240: expected pops [5873.4423 5819.0371], risks [0.1906 0.1934], params [-6.7283e-04  6.6775e+00 -3.6307e-02]\n",
      "260: expected pops [5797.096  5776.5011], risks [0.1865 0.189 ], params [-0.0182  6.7902 -0.0455]\n",
      "280: expected pops [5777.1512 5889.1581], risks [0.1801 0.1843], params [ 4.4256e-02  6.7450e+00 -4.4222e-03]\n",
      "300: expected pops [5849.8548 5855.164 ], risks [0.1888 0.1878], params [0.     6.6062 0.0229]\n",
      "320: expected pops [5823.7011 5919.8034], risks [0.1806 0.1846], params [ 1.7914e-02  6.9291e+00 -3.1341e-03]\n",
      "340: expected pops [5882.0081 5893.3473], risks [0.1804 0.1873], params [0.0081 6.7393 0.0353]\n",
      "360: expected pops [5841.7832 5898.3017], risks [0.1857 0.1971], params [0.0281 6.6204 0.0639]\n",
      "380: expected pops [5903.7857 5920.9726], risks [0.187  0.1852], params [-0.0148  6.8117  0.0329]\n",
      "400: expected pops [5893.3567 5828.2935], risks [0.1808 0.189 ], params [ 1.3944e-02  6.6553e+00 -3.7811e-03]\n",
      "420: expected pops [5914.0317 5927.4948], risks [0.1849 0.1886], params [0.013  6.881  0.0119]\n",
      "440: expected pops [5791.5101 5808.5196], risks [0.1878 0.1874], params [-0.0258  6.7757  0.0138]\n",
      "460: expected pops [5886.7888 5873.5549], risks [0.1792 0.1906], params [-0.0102  6.6836 -0.03  ]\n",
      "480: expected pops [5824.2905 5905.4359], risks [0.1927 0.1792], params [ 0.0714  6.7014 -0.0215]\n"
     ]
    },
    {
     "data": {
      "text/plain": [
       "Dataset(covariates=array([[0]]), treatments=array([0]), outcomes=array([0.18775438]), true_effects=array([0.00410403]), causal_graph=None)"
      ]
     },
     "execution_count": 3,
     "metadata": {},
     "output_type": "execute_result"
    }
   ],
   "source": [
    "import whynot as wn\n",
    "import numpy as np\n",
    "from sklearn.svm import SVC\n",
    "from sklearn.linear_model import LogisticRegression\n",
    "from whynot import repeated_classification\n",
    "import matplotlib.pyplot as plt\n",
    "%matplotlib inline\n",
    "import warnings\n",
    "warnings.filterwarnings('ignore')\n",
    "\n",
    "repeated_classification.TwoGaussiansExperiment.run(1)"
   ]
  },
  {
   "cell_type": "markdown",
   "metadata": {},
   "source": [
    "Using `scipy.optimize.minimize` generally fits slightly better than using linear SVM"
   ]
  },
  {
   "cell_type": "code",
   "execution_count": 4,
   "metadata": {},
   "outputs": [
    {
     "name": "stdout",
     "output_type": "stream",
     "text": [
      "linear SVM with C =   0.01 :    2034 / 2500 correct\n",
      "linear SVM with C =   0.10 :    2032 / 2500 correct\n",
      "linear SVM with C =   1.00 :    2032 / 2500 correct\n",
      "linear SVM with C =  10.00 :    2028 / 2500 correct\n",
      "Logistic regression with l1 :    2030 / 2500 correct\n",
      "Logistic regression with l2 :    2031 / 2500 correct\n",
      "scipy.optimize.minimize    :    2041 / 2500 correct\n"
     ]
    }
   ],
   "source": [
    "config = repeated_classification.experiments.construct_config_gaussians()\n",
    "rng = np.random.RandomState()\n",
    "\n",
    "POPULATIONS = [2000, 500]  # modify\n",
    "\n",
    "features, labels = [], []\n",
    "for pop, dist in list(zip(POPULATIONS, config.group_distributions)):\n",
    "    features_k, labels_k = dist(pop, rng)\n",
    "    features.append(features_k)\n",
    "    labels.append(labels_k)\n",
    "features = np.concatenate(features, axis=0)\n",
    "labels = np.concatenate(labels, axis=0)\n",
    "\n",
    "# SVM\n",
    "c_values = [0.01, 0.1, 1, 10]\n",
    "models = [SVC(C=c, kernel='linear').fit(features, labels) for c in c_values]\n",
    "params = [np.concatenate([m.coef_.flatten(), m.intercept_.flatten()]) for m in models]\n",
    "accuracies = [\n",
    "    np.count_nonzero(labels == repeated_classification.experiments.linear_classifier_2d(features, p, None))\n",
    "    for p in params\n",
    "]\n",
    "for (c, acc) in zip(c_values, accuracies):\n",
    "    print('linear SVM with C = {: >6.2f} :  {:>6d} / {} correct'.format(c, acc, len(labels)))\n",
    "\n",
    "# Logistic regression\n",
    "penalties = ['l1', 'l2']\n",
    "models = [LogisticRegression(penalty=p).fit(features, labels) for p in penalties]\n",
    "params = [np.concatenate([m.coef_.flatten(), m.intercept_.flatten()]) for m in models]\n",
    "accuracies = [\n",
    "    np.count_nonzero(labels == repeated_classification.experiments.linear_classifier_2d(features, p, None))\n",
    "    for p in params\n",
    "]\n",
    "for (p, acc) in zip(penalties, accuracies):\n",
    "    print('Logistic regression with {} :  {:>6d} / {} correct'.format(p, acc, len(labels)))\n",
    "\n",
    "# ERM with scipy.optimize.minimize\n",
    "erm_params = repeated_classification.experiments.erm(\n",
    "    config,\n",
    "    features,\n",
    "    labels,\n",
    "    [0, 1, 0],\n",
    "    rng,\n",
    "    method='Powell'\n",
    ")\n",
    "erm_acc = np.count_nonzero(\n",
    "    labels == repeated_classification.experiments.linear_classifier_2d(features, erm_params, None)\n",
    ")\n",
    "print('scipy.optimize.minimize    :  {: >6d} / {} correct'.format(erm_acc, len(labels)))"
   ]
  },
  {
   "cell_type": "markdown",
   "metadata": {},
   "source": [
    "# Median Estimation"
   ]
  },
  {
   "cell_type": "code",
   "execution_count": 5,
   "metadata": {},
   "outputs": [
    {
     "data": {
      "image/png": "[encoded data removed]",
      "text/plain": [
       "<Figure size 648x432 with 1 Axes>"
      ]
     },
     "metadata": {
      "needs_background": "light"
     },
     "output_type": "display_data"
    }
   ],
   "source": [
    "def graph_median_setup(pop1, pop2):\n",
    "    data = np.concatenate([np.random.normal(-1, 0.2, pop1), np.random.normal(1, 0.2, pop2)], axis=0)\n",
    "    plt.figure(figsize=(9, 6))\n",
    "    plt.hist(data, bins=50)\n",
    "    plt.show()\n",
    "\n",
    "\n",
    "graph_median_setup(1000, 500)"
   ]
  },
  {
   "cell_type": "code",
   "execution_count": 1,
   "metadata": {
    "scrolled": false
   },
   "outputs": [
    {
     "name": "stdout",
     "output_type": "stream",
     "text": [
      "\n",
      "0: expected pops [1763.0291  473.6134  470.3503], risks [0.2629 0.5738 0.5506], params [0.6538 0.1713 0.1695]\n",
      "20: expected pops [5011.3615  601.2402  607.2913], risks [0.2216 0.6949 0.7065], params [0.8089 0.0899 0.106 ]\n",
      "40: expected pops [5078.013   599.2435  603.2358], risks [0.216  0.6792 0.6814], params [0.8096 0.0934 0.0891]\n",
      "60: expected pops [5075.9921  598.3903  605.8382], risks [0.2134 0.6926 0.6756], params [0.8033 0.1009 0.0873]\n",
      "80: expected pops [5092.1612  595.6738  593.5897], risks [0.2163 0.6958 0.6823], params [0.8054 0.0929 0.094 ]\n",
      "100: expected pops [5118.597   611.5346  593.9166], risks [0.2174 0.6708 0.7097], params [0.8056 0.0913 0.0919]\n",
      "120: expected pops [5126.7475  591.2798  597.7295], risks [0.2136 0.7167 0.6919], params [0.8124 0.1087 0.0881]\n",
      "140: expected pops [5111.5864  595.4863  600.8806], risks [0.2149 0.7024 0.7156], params [0.8134 0.0889 0.0831]\n",
      "160: expected pops [5099.3511  595.6381  605.9089], risks [0.2189 0.6888 0.669 ], params [0.8101 0.0878 0.0858]\n",
      "180: expected pops [5095.6906  602.1944  606.7095], risks [0.2189 0.7225 0.7015], params [0.8053 0.097  0.0865]\n",
      "\n",
      "0: expected pops [1763.0291  473.6134  470.3503], risks [0.3503 0.4822 0.4656], params [0.5772 0.3633 0.3563]\n",
      "20: expected pops [3384.0278  761.7895  787.2313], risks [0.3339 0.5089 0.4746], params [0.5809 0.2909 0.3766]\n",
      "40: expected pops [3428.9027  774.2045  769.5838], risks [0.3471 0.4968 0.4709], params [0.5687 0.3508 0.3865]\n",
      "60: expected pops [3444.8888  756.1028  778.1971], risks [0.3361 0.4902 0.5042], params [0.5742 0.3446 0.3117]\n",
      "80: expected pops [3431.9137  775.0194  773.0843], risks [0.3524 0.5196 0.4686], params [0.5625 0.335  0.3874]\n",
      "100: expected pops [3431.7509  785.1045  774.956 ], risks [0.3506 0.4876 0.4937], params [0.5594 0.3662 0.3439]\n",
      "120: expected pops [3442.5602  756.7441  770.7634], risks [0.3393 0.497  0.4777], params [0.5833 0.3586 0.3506]\n",
      "140: expected pops [3335.3298  773.1003  784.7703], risks [0.3517 0.4673 0.5004], params [0.5593 0.3698 0.3489]\n",
      "160: expected pops [3412.1347  778.275   762.9145], risks [0.3517 0.4831 0.4913], params [0.5596 0.3775 0.3527]\n",
      "180: expected pops [3452.0432  783.4175  794.6476], risks [0.3541 0.4761 0.5124], params [0.5552 0.3643 0.3501]\n"
     ]
    },
    {
     "data": {
      "text/plain": [
       "Dataset(covariates=array([[0.60170019, 0.21340439, 0.20397633]]), treatments=array([0]), outcomes=array([0.72056836]), true_effects=array([-0.21986478]), causal_graph=None)"
      ]
     },
     "execution_count": 1,
     "metadata": {},
     "output_type": "execute_result"
    }
   ],
   "source": [
    "import whynot as wn\n",
    "import numpy as np\n",
    "from whynot import repeated_classification\n",
    "\n",
    "repeated_classification.MedianEstimationExperiment.run(1)"
   ]
  },
  {
   "cell_type": "markdown",
   "metadata": {},
   "source": [
    "two gaussians:\n",
    "logistic regression with not 0-1 loss\n",
    "different retention\n",
    "\n",
    "\n",
    "\n",
    "\n",
    "Walk through how to run this experiment\n",
    "\n",
    "Intervention on retention dynamics\n",
    "\n",
    "some kind of dynamic intervention to showcase more of whynot\n",
    "\n",
    "performative prediction"
   ]
  },
  {
   "cell_type": "code",
   "execution_count": 8,
   "metadata": {},
   "outputs": [
    {
     "ename": "NameError",
     "evalue": "name 'DynamicsExperiment' is not defined",
     "output_type": "error",
     "traceback": [
      "\u001b[0;31m---------------------------------------------------------------------------\u001b[0m",
      "\u001b[0;31mNameError\u001b[0m                                 Traceback (most recent call last)",
      "\u001b[0;32m<ipython-input-8-8d63db320b65>\u001b[0m in \u001b[0;36m<module>\u001b[0;34m\u001b[0m\n\u001b[0;32m----> 1\u001b[0;31m MedianEstimationExperiment = DynamicsExperiment(\n\u001b[0m\u001b[1;32m      2\u001b[0m     \u001b[0mname\u001b[0m\u001b[0;34m=\u001b[0m\u001b[0;34m\"MedianEstimationExperiment\"\u001b[0m\u001b[0;34m,\u001b[0m\u001b[0;34m\u001b[0m\u001b[0;34m\u001b[0m\u001b[0m\n\u001b[1;32m      3\u001b[0m     \u001b[0mdescription\u001b[0m\u001b[0;34m=\u001b[0m\u001b[0;34m\"\"\u001b[0m\u001b[0;34m,\u001b[0m  \u001b[0;31m# TODO: description\u001b[0m\u001b[0;34m\u001b[0m\u001b[0;34m\u001b[0m\u001b[0m\n\u001b[1;32m      4\u001b[0m     \u001b[0msimulator\u001b[0m\u001b[0;34m=\u001b[0m\u001b[0mrepeated_classification\u001b[0m\u001b[0;34m,\u001b[0m\u001b[0;34m\u001b[0m\u001b[0;34m\u001b[0m\u001b[0m\n\u001b[1;32m      5\u001b[0m     \u001b[0msimulator_config\u001b[0m\u001b[0;34m=\u001b[0m\u001b[0mconstruct_config_median\u001b[0m\u001b[0;34m,\u001b[0m\u001b[0;34m\u001b[0m\u001b[0;34m\u001b[0m\u001b[0m\n",
      "\u001b[0;31mNameError\u001b[0m: name 'DynamicsExperiment' is not defined"
     ]
    }
   ],
   "source": [
    "MedianEstimationExperiment = DynamicsExperiment(\n",
    "    name=\"MedianEstimationExperiment\",\n",
    "    description=\"\",  # TODO: description\n",
    "    simulator=repeated_classification,\n",
    "    simulator_config=construct_config_median,\n",
    "    intervention=repeated_classification.Intervention(time=0, train_classifier=dro),\n",
    "    state_sampler=sample_initial_states_median,\n",
    "    propensity_scorer=0.5,\n",
    "    outcome_extractor=extract_outcomes,\n",
    "    covariate_builder=lambda run: 0,  # TODO: change\n",
    ")"
   ]
  },
  {
   "cell_type": "code",
   "execution_count": null,
   "metadata": {},
   "outputs": [],
   "source": []
  }
 ],
 "metadata": {
  "kernelspec": {
   "display_name": "Python 3",
   "language": "python",
   "name": "python3"
  },
  "language_info": {
   "codemirror_mode": {
    "name": "ipython",
    "version": 3
   },
   "file_extension": ".py",
   "mimetype": "text/x-python",
   "name": "python",
   "nbconvert_exporter": "python",
   "pygments_lexer": "ipython3",
   "version": "3.7.4"
  }
 },
 "nbformat": 4,
 "nbformat_minor": 2
}

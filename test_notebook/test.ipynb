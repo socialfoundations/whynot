{
 "cells": [
  {
   "cell_type": "code",
   "execution_count": 1,
   "metadata": {
    "scrolled": false
   },
   "outputs": [],
   "source": [
    "import whynot as wn\n",
    "import numpy as np\n",
    "from sklearn.svm import SVC\n",
    "from whynot import repeated_classification\n",
    "import matplotlib.pyplot as plt\n",
    "%matplotlib inline"
   ]
  },
  {
   "cell_type": "markdown",
   "metadata": {},
   "source": [
    "# Two Gaussians"
   ]
  },
  {
   "cell_type": "markdown",
   "metadata": {},
   "source": [
    "Visualize generated distribution, intended to look like graph on [page 3](https://arxiv.org/pdf/1806.08010.pdf)"
   ]
  },
  {
   "cell_type": "code",
   "execution_count": 3,
   "metadata": {},
   "outputs": [
    {
     "name": "stdout",
     "output_type": "stream",
     "text": [
      "init:\n",
      "State(expected_populations=array([1000, 1000]), populations=array([1000, 1000]), features=array([[-0.84113303, -0.04550119],\n",
      "       [-0.51369486,  0.06333652],\n",
      "       [-1.51063639,  0.89141384],\n",
      "       ...,\n",
      "       [ 1.03075088,  0.31471478],\n",
      "       [ 0.93540911, -0.59829042],\n",
      "       [ 0.90124038, -0.35091837]]), labels=array([0, 0, 1, ..., 1, 0, 0]), classifier_params=array([-0.04347356,  0.99459759, -0.00214993]), risks=array([0.174, 0.231]))\n"
     ]
    },
    {
     "data": {
      "image/png": "[encoded data removed]",
      "text/plain": [
       "<Figure size 648x432 with 1 Axes>"
      ]
     },
     "metadata": {
      "needs_background": "light"
     },
     "output_type": "display_data"
    }
   ],
   "source": [
    "def graph_two_gaussians(features, labels, params=None):\n",
    "    plt.figure(figsize=(9, 6))\n",
    "\n",
    "    plt.scatter(*features[labels.astype(bool)].T, marker='+', color='k')\n",
    "    plt.scatter(*features[(1 - labels).astype(bool)].T, marker='_', color='r')\n",
    "    \n",
    "    xlims = np.array([-3, 3])\n",
    "    if params is not None:\n",
    "        plt.plot(xlims, -params[0] / params[1] * xlims - params[2] / params[1], color='b')\n",
    "\n",
    "    plt.xlim(xlims)\n",
    "    plt.ylim((-2, 2))\n",
    "\n",
    "    plt.show()\n",
    "\n",
    "\n",
    "init = repeated_classification.experiments.sample_initial_states_gaussians(np.random.RandomState())\n",
    "print('init:\\n' + str(init))\n",
    "\n",
    "graph_two_gaussians(init.features, init.labels)"
   ]
  },
  {
   "cell_type": "markdown",
   "metadata": {},
   "source": [
    "Run to see progress at each step"
   ]
  },
  {
   "cell_type": "code",
   "execution_count": 4,
   "metadata": {
    "scrolled": false
   },
   "outputs": [
    {
     "name": "stdout",
     "output_type": "stream",
     "text": [
      "\n",
      "0: expected pops [1818. 1836.], risks [0.1675 0.1953], params [-0.0493  1.3045 -0.0125]\n",
      "20: expected pops [5347.1495 5210.921 ], risks [0.1795 0.1748], params [-0.106  14.3079 -0.2591]\n",
      "40: expected pops [5448.9787 5263.8002], risks [0.1922 0.1824], params [ 0.0902 12.4147  0.0292]\n",
      "60: expected pops [5392.2388 5371.3604], risks [0.1857 0.1833], params [-0.0673 12.0032 -0.0372]\n",
      "80: expected pops [5551.3915 5357.0219], risks [0.185  0.1965], params [-0.5669 22.062  -0.1473]\n"
     ]
    },
    {
     "name": "stderr",
     "output_type": "stream",
     "text": [
      "Process ForkProcess-3:\n",
      "Process ForkProcess-2:\n",
      "Process ForkProcess-4:\n",
      "Traceback (most recent call last):\n",
      "Traceback (most recent call last):\n",
      "Traceback (most recent call last):\n",
      "  File \"//anaconda3/envs/whynot/lib/python3.7/multiprocessing/process.py\", line 297, in _bootstrap\n",
      "    self.run()\n",
      "  File \"//anaconda3/envs/whynot/lib/python3.7/multiprocessing/process.py\", line 297, in _bootstrap\n",
      "    self.run()\n",
      "  File \"//anaconda3/envs/whynot/lib/python3.7/multiprocessing/process.py\", line 297, in _bootstrap\n",
      "    self.run()\n",
      "  File \"//anaconda3/envs/whynot/lib/python3.7/multiprocessing/process.py\", line 99, in run\n",
      "    self._target(*self._args, **self._kwargs)\n",
      "  File \"//anaconda3/envs/whynot/lib/python3.7/multiprocessing/process.py\", line 99, in run\n",
      "    self._target(*self._args, **self._kwargs)\n",
      "  File \"//anaconda3/envs/whynot/lib/python3.7/multiprocessing/process.py\", line 99, in run\n",
      "    self._target(*self._args, **self._kwargs)\n",
      "  File \"//anaconda3/envs/whynot/lib/python3.7/concurrent/futures/process.py\", line 233, in _process_worker\n",
      "    call_item = call_queue.get(block=True)\n",
      "  File \"//anaconda3/envs/whynot/lib/python3.7/concurrent/futures/process.py\", line 233, in _process_worker\n",
      "    call_item = call_queue.get(block=True)\n",
      "  File \"//anaconda3/envs/whynot/lib/python3.7/concurrent/futures/process.py\", line 233, in _process_worker\n",
      "    call_item = call_queue.get(block=True)\n",
      "  File \"//anaconda3/envs/whynot/lib/python3.7/multiprocessing/queues.py\", line 93, in get\n",
      "    with self._rlock:\n",
      "  File \"//anaconda3/envs/whynot/lib/python3.7/multiprocessing/queues.py\", line 94, in get\n",
      "    res = self._recv_bytes()\n",
      "  File \"//anaconda3/envs/whynot/lib/python3.7/multiprocessing/queues.py\", line 93, in get\n",
      "    with self._rlock:\n",
      "  File \"//anaconda3/envs/whynot/lib/python3.7/multiprocessing/synchronize.py\", line 95, in __enter__\n",
      "    return self._semlock.__enter__()\n",
      "  File \"//anaconda3/envs/whynot/lib/python3.7/multiprocessing/synchronize.py\", line 95, in __enter__\n",
      "    return self._semlock.__enter__()\n",
      "  File \"//anaconda3/envs/whynot/lib/python3.7/multiprocessing/connection.py\", line 216, in recv_bytes\n",
      "    buf = self._recv_bytes(maxlength)\n",
      "KeyboardInterrupt\n",
      "KeyboardInterrupt\n",
      "  File \"//anaconda3/envs/whynot/lib/python3.7/multiprocessing/connection.py\", line 407, in _recv_bytes\n",
      "    buf = self._recv(4)\n",
      "  File \"//anaconda3/envs/whynot/lib/python3.7/multiprocessing/connection.py\", line 379, in _recv\n",
      "    chunk = read(handle, remaining)\n",
      "KeyboardInterrupt\n"
     ]
    },
    {
     "ename": "KeyboardInterrupt",
     "evalue": "",
     "output_type": "error",
     "traceback": [
      "\u001b[0;31m---------------------------------------------------------------------------\u001b[0m",
      "\u001b[0;31mKeyboardInterrupt\u001b[0m                         Traceback (most recent call last)",
      "\u001b[0;32m<ipython-input-4-be8332756084>\u001b[0m in \u001b[0;36m<module>\u001b[0;34m\u001b[0m\n\u001b[0;32m----> 1\u001b[0;31m \u001b[0mrepeated_classification\u001b[0m\u001b[0;34m.\u001b[0m\u001b[0mTwoGaussiansExperiment\u001b[0m\u001b[0;34m.\u001b[0m\u001b[0mrun\u001b[0m\u001b[0;34m(\u001b[0m\u001b[0;36m1\u001b[0m\u001b[0;34m)\u001b[0m\u001b[0;34m\u001b[0m\u001b[0;34m\u001b[0m\u001b[0m\n\u001b[0m",
      "\u001b[0;32m~/Desktop/whynot/whynot/dynamics.py\u001b[0m in \u001b[0;36mrun\u001b[0;34m(self, num_samples, seed, parallelize, show_progress, causal_graph, **parameter_args)\u001b[0m\n\u001b[1;32m    911\u001b[0m         \u001b[0;31m# Run the model\u001b[0m\u001b[0;34m\u001b[0m\u001b[0;34m\u001b[0m\u001b[0;34m\u001b[0m\u001b[0m\n\u001b[1;32m    912\u001b[0m         untreated_runs, treated_runs = self._run_all_simulations(\n\u001b[0;32m--> 913\u001b[0;31m             \u001b[0minitial_states\u001b[0m\u001b[0;34m,\u001b[0m \u001b[0mconfig\u001b[0m\u001b[0;34m,\u001b[0m \u001b[0mintervention\u001b[0m\u001b[0;34m,\u001b[0m \u001b[0mrng\u001b[0m\u001b[0;34m,\u001b[0m \u001b[0mparallelize\u001b[0m\u001b[0;34m,\u001b[0m \u001b[0mshow_progress\u001b[0m\u001b[0;34m\u001b[0m\u001b[0;34m\u001b[0m\u001b[0m\n\u001b[0m\u001b[1;32m    914\u001b[0m         )\n\u001b[1;32m    915\u001b[0m \u001b[0;34m\u001b[0m\u001b[0m\n",
      "\u001b[0;32m~/Desktop/whynot/whynot/dynamics.py\u001b[0m in \u001b[0;36m_run_all_simulations\u001b[0;34m(self, initial_states, config, intervention, rng, parallelize, show_progress)\u001b[0m\n\u001b[1;32m    498\u001b[0m         \u001b[0;32mif\u001b[0m \u001b[0mparallelize\u001b[0m\u001b[0;34m:\u001b[0m\u001b[0;34m\u001b[0m\u001b[0;34m\u001b[0m\u001b[0m\n\u001b[1;32m    499\u001b[0m             runs = utils.parallelize(\n\u001b[0;32m--> 500\u001b[0;31m                 \u001b[0mself\u001b[0m\u001b[0;34m.\u001b[0m\u001b[0m_run_dynamics_simulator\u001b[0m\u001b[0;34m,\u001b[0m \u001b[0mparallel_args\u001b[0m\u001b[0;34m,\u001b[0m \u001b[0mshow_progress\u001b[0m\u001b[0;34m=\u001b[0m\u001b[0mshow_progress\u001b[0m\u001b[0;34m\u001b[0m\u001b[0;34m\u001b[0m\u001b[0m\n\u001b[0m\u001b[1;32m    501\u001b[0m             )\n\u001b[1;32m    502\u001b[0m         \u001b[0;32melif\u001b[0m \u001b[0mshow_progress\u001b[0m\u001b[0;34m:\u001b[0m\u001b[0;34m\u001b[0m\u001b[0;34m\u001b[0m\u001b[0m\n",
      "\u001b[0;32m~/Desktop/whynot/whynot/utils.py\u001b[0m in \u001b[0;36mparallelize\u001b[0;34m(func, arg_lst, show_progress, max_workers)\u001b[0m\n\u001b[1;32m     67\u001b[0m             \u001b[0mfutures\u001b[0m\u001b[0;34m.\u001b[0m\u001b[0mappend\u001b[0m\u001b[0;34m(\u001b[0m\u001b[0mexecutor\u001b[0m\u001b[0;34m.\u001b[0m\u001b[0msubmit\u001b[0m\u001b[0;34m(\u001b[0m\u001b[0mfunc\u001b[0m\u001b[0;34m,\u001b[0m \u001b[0;34m*\u001b[0m\u001b[0margs\u001b[0m\u001b[0;34m)\u001b[0m\u001b[0;34m)\u001b[0m\u001b[0;34m\u001b[0m\u001b[0;34m\u001b[0m\u001b[0m\n\u001b[1;32m     68\u001b[0m         \u001b[0;32mfor\u001b[0m \u001b[0mfuture\u001b[0m \u001b[0;32min\u001b[0m \u001b[0mdisplay\u001b[0m\u001b[0;34m(\u001b[0m\u001b[0mfutures\u001b[0m\u001b[0;34m)\u001b[0m\u001b[0;34m:\u001b[0m\u001b[0;34m\u001b[0m\u001b[0;34m\u001b[0m\u001b[0m\n\u001b[0;32m---> 69\u001b[0;31m             \u001b[0mdata\u001b[0m \u001b[0;34m=\u001b[0m \u001b[0mfuture\u001b[0m\u001b[0;34m.\u001b[0m\u001b[0mresult\u001b[0m\u001b[0;34m(\u001b[0m\u001b[0;34m)\u001b[0m\u001b[0;34m\u001b[0m\u001b[0;34m\u001b[0m\u001b[0m\n\u001b[0m\u001b[1;32m     70\u001b[0m             \u001b[0mresults\u001b[0m\u001b[0;34m.\u001b[0m\u001b[0mappend\u001b[0m\u001b[0;34m(\u001b[0m\u001b[0mdata\u001b[0m\u001b[0;34m)\u001b[0m\u001b[0;34m\u001b[0m\u001b[0;34m\u001b[0m\u001b[0m\n\u001b[1;32m     71\u001b[0m     \u001b[0;32mreturn\u001b[0m \u001b[0mresults\u001b[0m\u001b[0;34m\u001b[0m\u001b[0;34m\u001b[0m\u001b[0m\n",
      "\u001b[0;32m//anaconda3/envs/whynot/lib/python3.7/concurrent/futures/_base.py\u001b[0m in \u001b[0;36mresult\u001b[0;34m(self, timeout)\u001b[0m\n\u001b[1;32m    428\u001b[0m                 \u001b[0;32mreturn\u001b[0m \u001b[0mself\u001b[0m\u001b[0;34m.\u001b[0m\u001b[0m__get_result\u001b[0m\u001b[0;34m(\u001b[0m\u001b[0;34m)\u001b[0m\u001b[0;34m\u001b[0m\u001b[0;34m\u001b[0m\u001b[0m\n\u001b[1;32m    429\u001b[0m \u001b[0;34m\u001b[0m\u001b[0m\n\u001b[0;32m--> 430\u001b[0;31m             \u001b[0mself\u001b[0m\u001b[0;34m.\u001b[0m\u001b[0m_condition\u001b[0m\u001b[0;34m.\u001b[0m\u001b[0mwait\u001b[0m\u001b[0;34m(\u001b[0m\u001b[0mtimeout\u001b[0m\u001b[0;34m)\u001b[0m\u001b[0;34m\u001b[0m\u001b[0;34m\u001b[0m\u001b[0m\n\u001b[0m\u001b[1;32m    431\u001b[0m \u001b[0;34m\u001b[0m\u001b[0m\n\u001b[1;32m    432\u001b[0m             \u001b[0;32mif\u001b[0m \u001b[0mself\u001b[0m\u001b[0;34m.\u001b[0m\u001b[0m_state\u001b[0m \u001b[0;32min\u001b[0m \u001b[0;34m[\u001b[0m\u001b[0mCANCELLED\u001b[0m\u001b[0;34m,\u001b[0m \u001b[0mCANCELLED_AND_NOTIFIED\u001b[0m\u001b[0;34m]\u001b[0m\u001b[0;34m:\u001b[0m\u001b[0;34m\u001b[0m\u001b[0;34m\u001b[0m\u001b[0m\n",
      "\u001b[0;32m//anaconda3/envs/whynot/lib/python3.7/threading.py\u001b[0m in \u001b[0;36mwait\u001b[0;34m(self, timeout)\u001b[0m\n\u001b[1;32m    294\u001b[0m         \u001b[0;32mtry\u001b[0m\u001b[0;34m:\u001b[0m    \u001b[0;31m# restore state no matter what (e.g., KeyboardInterrupt)\u001b[0m\u001b[0;34m\u001b[0m\u001b[0;34m\u001b[0m\u001b[0m\n\u001b[1;32m    295\u001b[0m             \u001b[0;32mif\u001b[0m \u001b[0mtimeout\u001b[0m \u001b[0;32mis\u001b[0m \u001b[0;32mNone\u001b[0m\u001b[0;34m:\u001b[0m\u001b[0;34m\u001b[0m\u001b[0;34m\u001b[0m\u001b[0m\n\u001b[0;32m--> 296\u001b[0;31m                 \u001b[0mwaiter\u001b[0m\u001b[0;34m.\u001b[0m\u001b[0macquire\u001b[0m\u001b[0;34m(\u001b[0m\u001b[0;34m)\u001b[0m\u001b[0;34m\u001b[0m\u001b[0;34m\u001b[0m\u001b[0m\n\u001b[0m\u001b[1;32m    297\u001b[0m                 \u001b[0mgotit\u001b[0m \u001b[0;34m=\u001b[0m \u001b[0;32mTrue\u001b[0m\u001b[0;34m\u001b[0m\u001b[0;34m\u001b[0m\u001b[0m\n\u001b[1;32m    298\u001b[0m             \u001b[0;32melse\u001b[0m\u001b[0;34m:\u001b[0m\u001b[0;34m\u001b[0m\u001b[0;34m\u001b[0m\u001b[0m\n",
      "\u001b[0;31mKeyboardInterrupt\u001b[0m: "
     ]
    }
   ],
   "source": [
    "repeated_classification.TwoGaussiansExperiment.run(1)"
   ]
  },
  {
   "cell_type": "markdown",
   "metadata": {},
   "source": [
    "Using `scipy.optimize.minimize` generally fits slightly better than using linear SVM"
   ]
  },
  {
   "cell_type": "code",
   "execution_count": 5,
   "metadata": {},
   "outputs": [
    {
     "name": "stdout",
     "output_type": "stream",
     "text": [
      "linear SVM with C =   0.01 :    3290 / 4000 correct\n",
      "linear SVM with C =   0.10 :    3298 / 4000 correct\n",
      "linear SVM with C =   1.00 :    3295 / 4000 correct\n",
      "linear SVM with C =  10.00 :    3297 / 4000 correct\n",
      "scipy.optimize.minimize    :    3307 / 4000 correct\n"
     ]
    }
   ],
   "source": [
    "config = repeated_classification.experiments.construct_config_gaussians()\n",
    "rng = np.random.RandomState()\n",
    "\n",
    "POPULATIONS = [2000, 2000]  # modify\n",
    "\n",
    "features, labels = [], []\n",
    "for pop, dist in list(zip(POPULATIONS, config.group_distributions)):\n",
    "    features_k, labels_k = dist(pop, rng)\n",
    "    features.append(features_k)\n",
    "    labels.append(labels_k)\n",
    "features = np.concatenate(features, axis=0)\n",
    "labels = np.concatenate(labels, axis=0)\n",
    "\n",
    "# SVM\n",
    "c_values = [0.01, 0.1, 1, 10]\n",
    "models = [SVC(C=c, kernel='linear').fit(features, labels) for c in c_values]\n",
    "params = [np.concatenate([m.coef_.flatten(), m.intercept_.flatten()]) for m in models]\n",
    "accuracies = [\n",
    "    np.count_nonzero(labels == repeated_classification.experiments.linear_classifier_2d(features, p, None))\n",
    "    for p in params\n",
    "]\n",
    "for (c, acc) in zip(c_values, accuracies):\n",
    "    print('linear SVM with C = {: >6.2f} :  {:>6d} / {} correct'.format(c, acc, len(labels)))\n",
    "\n",
    "# ERM with scipy.optimize.minimize\n",
    "erm_params = repeated_classification.experiments.erm(\n",
    "    config,\n",
    "    features,\n",
    "    labels,\n",
    "    [0, 1, 0],\n",
    "    rng,\n",
    "    method='Powell'\n",
    ")\n",
    "erm_acc = np.count_nonzero(\n",
    "    labels == repeated_classification.experiments.linear_classifier_2d(features, erm_params, None)\n",
    ")\n",
    "print('scipy.optimize.minimize    :  {: >6d} / {} correct'.format(erm_acc, len(labels)))"
   ]
  },
  {
   "cell_type": "markdown",
   "metadata": {},
   "source": [
    "# Median Estimation"
   ]
  },
  {
   "cell_type": "code",
   "execution_count": 6,
   "metadata": {},
   "outputs": [
    {
     "data": {
      "image/png": "[encoded data removed]",
      "text/plain": [
       "<Figure size 648x432 with 1 Axes>"
      ]
     },
     "metadata": {
      "needs_background": "light"
     },
     "output_type": "display_data"
    }
   ],
   "source": [
    "def graph_median_setup(pop1, pop2):\n",
    "    data = np.concatenate([np.random.normal(-1, 0.2, pop1), np.random.normal(1, 0.2, pop2)], axis=0)\n",
    "    plt.figure(figsize=(9, 6))\n",
    "    plt.hist(data, bins=50)\n",
    "    plt.show()\n",
    "\n",
    "\n",
    "graph_median_setup(1000, 500)"
   ]
  },
  {
   "cell_type": "code",
   "execution_count": 7,
   "metadata": {
    "scrolled": false
   },
   "outputs": [
    {
     "name": "stdout",
     "output_type": "stream",
     "text": [
      "\n",
      "0: expected pops [1365.5552 1362.1342], risks [0.4823 1.5168], params [-0.5147]\n",
      "20: expected pops [6368.319  1166.4715], risks [0.1645 1.9597], params [-0.9537]\n",
      "40: expected pops [6620.6543 1165.8878], risks [0.1603 1.9497], params [-0.9493]\n",
      "60: expected pops [6606.7429 1165.0504], risks [0.1613 1.9535], params [-0.9569]\n",
      "80: expected pops [6600.8614 1165.4812], risks [0.1604 1.9514], params [-0.9563]\n",
      "100: expected pops [6629.886 1166.805], risks [0.1636 1.9475], params [-0.9524]\n",
      "120: expected pops [6633.8233 1165.6729], risks [0.1633 1.9533], params [-0.9539]\n",
      "140: expected pops [6617.6033 1164.9357], risks [0.1623 1.9602], params [-0.9581]\n",
      "160: expected pops [6632.8483 1164.2678], risks [0.1617 1.9501], params [-0.9549]\n",
      "180: expected pops [6644.8713 1166.2583], risks [0.1636 1.9634], params [-0.9558]\n",
      "\n",
      "0: expected pops [1365.5552 1362.1342], risks [0.9905 1.0074], params [-0.0054]\n",
      "20: expected pops [1580.0383 1586.7064], risks [0.9952 1.0017], params [-0.0067]\n",
      "40: expected pops [1579.7242 1580.2432], risks [1.0013 0.9926], params [0.0052]\n",
      "60: expected pops [1578.6976 1590.01  ], risks [0.9989 0.9955], params [-0.003]\n",
      "80: expected pops [1578.8092 1584.9011], risks [1.004  1.0091], params [-0.0058]\n",
      "100: expected pops [1579.3347 1577.8924], risks [1.0015 0.9952], params [0.0105]\n",
      "120: expected pops [1586.913  1581.8053], risks [0.9973 1.006 ], params [-0.0072]\n",
      "140: expected pops [1582.5821 1583.5694], risks [0.9832 0.9982], params [-0.0099]\n",
      "160: expected pops [1583.0684 1582.0189], risks [1.0041 1.0115], params [-0.0071]\n",
      "180: expected pops [1584.0865 1586.1204], risks [0.9938 1.0094], params [-0.0013]\n"
     ]
    },
    {
     "data": {
      "text/plain": [
       "Dataset(covariates=array([[0]]), treatments=array([1]), outcomes=array([1.0085]), true_effects=array([-0.9414]), causal_graph=None)"
      ]
     },
     "execution_count": 7,
     "metadata": {},
     "output_type": "execute_result"
    }
   ],
   "source": [
    "import whynot as wn\n",
    "import numpy as np\n",
    "from sklearn.svm import SVC\n",
    "from whynot import repeated_classification\n",
    "import matplotlib.pyplot as plt\n",
    "%matplotlib inline\n",
    "\n",
    "repeated_classification.MedianEstimationExperiment.run(1, parallelize=False)"
   ]
  },
  {
   "cell_type": "markdown",
   "metadata": {},
   "source": [
    "two gaussians:\n",
    "logistic regression with not 0-1 loss\n",
    "different retention\n",
    "\n",
    "\n",
    "\n",
    "\n",
    "Walk through how to run this experiment\n",
    "\n",
    "Intervention on retention dynamics\n",
    "\n",
    "some kind of dynamic intervention to showcase more of whynot\n",
    "\n",
    "performative prediction"
   ]
  },
  {
   "cell_type": "code",
   "execution_count": 8,
   "metadata": {},
   "outputs": [
    {
     "ename": "NameError",
     "evalue": "name 'DynamicsExperiment' is not defined",
     "output_type": "error",
     "traceback": [
      "\u001b[0;31m---------------------------------------------------------------------------\u001b[0m",
      "\u001b[0;31mNameError\u001b[0m                                 Traceback (most recent call last)",
      "\u001b[0;32m<ipython-input-8-8d63db320b65>\u001b[0m in \u001b[0;36m<module>\u001b[0;34m\u001b[0m\n\u001b[0;32m----> 1\u001b[0;31m MedianEstimationExperiment = DynamicsExperiment(\n\u001b[0m\u001b[1;32m      2\u001b[0m     \u001b[0mname\u001b[0m\u001b[0;34m=\u001b[0m\u001b[0;34m\"MedianEstimationExperiment\"\u001b[0m\u001b[0;34m,\u001b[0m\u001b[0;34m\u001b[0m\u001b[0;34m\u001b[0m\u001b[0m\n\u001b[1;32m      3\u001b[0m     \u001b[0mdescription\u001b[0m\u001b[0;34m=\u001b[0m\u001b[0;34m\"\"\u001b[0m\u001b[0;34m,\u001b[0m  \u001b[0;31m# TODO: description\u001b[0m\u001b[0;34m\u001b[0m\u001b[0;34m\u001b[0m\u001b[0m\n\u001b[1;32m      4\u001b[0m     \u001b[0msimulator\u001b[0m\u001b[0;34m=\u001b[0m\u001b[0mrepeated_classification\u001b[0m\u001b[0;34m,\u001b[0m\u001b[0;34m\u001b[0m\u001b[0;34m\u001b[0m\u001b[0m\n\u001b[1;32m      5\u001b[0m     \u001b[0msimulator_config\u001b[0m\u001b[0;34m=\u001b[0m\u001b[0mconstruct_config_median\u001b[0m\u001b[0;34m,\u001b[0m\u001b[0;34m\u001b[0m\u001b[0;34m\u001b[0m\u001b[0m\n",
      "\u001b[0;31mNameError\u001b[0m: name 'DynamicsExperiment' is not defined"
     ]
    }
   ],
   "source": [
    "MedianEstimationExperiment = DynamicsExperiment(\n",
    "    name=\"MedianEstimationExperiment\",\n",
    "    description=\"\",  # TODO: description\n",
    "    simulator=repeated_classification,\n",
    "    simulator_config=construct_config_median,\n",
    "    intervention=repeated_classification.Intervention(time=0, train_classifier=dro),\n",
    "    state_sampler=sample_initial_states_median,\n",
    "    propensity_scorer=0.5,\n",
    "    outcome_extractor=extract_outcomes,\n",
    "    covariate_builder=lambda run: 0,  # TODO: change\n",
    ")"
   ]
  },
  {
   "cell_type": "code",
   "execution_count": null,
   "metadata": {},
   "outputs": [],
   "source": []
  }
 ],
 "metadata": {
  "kernelspec": {
   "display_name": "Python 3",
   "language": "python",
   "name": "python3"
  },
  "language_info": {
   "codemirror_mode": {
    "name": "ipython",
    "version": 3
   },
   "file_extension": ".py",
   "mimetype": "text/x-python",
   "name": "python",
   "nbconvert_exporter": "python",
   "pygments_lexer": "ipython3",
   "version": "3.7.4"
  }
 },
 "nbformat": 4,
 "nbformat_minor": 2
}

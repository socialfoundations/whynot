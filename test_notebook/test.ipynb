{
 "cells": [
  {
   "cell_type": "code",
   "execution_count": 1,
   "metadata": {
    "scrolled": false
   },
   "outputs": [],
   "source": [
    "import whynot as wn\n",
    "import numpy as np\n",
    "from sklearn.svm import SVC\n",
    "from whynot import repeated_classification\n",
    "import matplotlib.pyplot as plt\n",
    "%matplotlib inline\n",
    "import warnings\n",
    "warnings.filterwarnings('ignore')"
   ]
  },
  {
   "cell_type": "markdown",
   "metadata": {},
   "source": [
    "# Two Gaussians"
   ]
  },
  {
   "cell_type": "markdown",
   "metadata": {},
   "source": [
    "Visualize generated distribution, intended to look like graph on [page 3](https://arxiv.org/pdf/1806.08010.pdf)"
   ]
  },
  {
   "cell_type": "code",
   "execution_count": 2,
   "metadata": {},
   "outputs": [
    {
     "name": "stdout",
     "output_type": "stream",
     "text": [
      "init:\n",
      "State(expected_populations=array([1000, 1000]), populations=array([1000, 1000]), features=array([[-0.77772302,  0.1576571 ],\n",
      "       [-1.92419207,  0.59477888],\n",
      "       [-1.02722383,  1.60756065],\n",
      "       ...,\n",
      "       [ 0.99399113, -1.1371566 ],\n",
      "       [ 1.67438921, -0.28905644],\n",
      "       [-0.20357598,  0.90431934]]), labels=array([1, 1, 1, ..., 0, 1, 1]), classifier_params=array([0.02708867, 3.79396743, 0.0417196 ]), risks=array([0.165, 0.184]))\n"
     ]
    },
    {
     "data": {
      "image/png": "[encoded data removed]",
      "text/plain": [
       "<Figure size 648x432 with 1 Axes>"
      ]
     },
     "metadata": {
      "needs_background": "light"
     },
     "output_type": "display_data"
    }
   ],
   "source": [
    "def graph_two_gaussians(features, labels, params=None):\n",
    "    plt.figure(figsize=(9, 6))\n",
    "\n",
    "    plt.scatter(*features[labels.astype(bool)].T, marker='+', color='k')\n",
    "    plt.scatter(*features[(1 - labels).astype(bool)].T, marker='_', color='r')\n",
    "    \n",
    "    xlims = np.array([-3, 3])\n",
    "    if params is not None:\n",
    "        plt.plot(xlims, -params[0] / params[1] * xlims - params[2] / params[1], color='b')\n",
    "\n",
    "    plt.xlim(xlims)\n",
    "    plt.ylim((-2, 2))\n",
    "\n",
    "    plt.show()\n",
    "\n",
    "\n",
    "init = repeated_classification.experiments.sample_initial_states_gaussians(np.random.RandomState())\n",
    "print('init:\\n' + str(init))\n",
    "\n",
    "graph_two_gaussians(init.features, init.labels)"
   ]
  },
  {
   "cell_type": "markdown",
   "metadata": {},
   "source": [
    "Run to see progress at each step"
   ]
  },
  {
   "cell_type": "code",
   "execution_count": 4,
   "metadata": {
    "scrolled": false
   },
   "outputs": [
    {
     "name": "stdout",
     "output_type": "stream",
     "text": [
      "\n",
      "0: expected pops [1584.1905 1589.0404], risks [0.1792 0.1894], params [-3.9188e-02  3.7601e+00 -1.3130e-04]\n",
      "20: expected pops [2314.9842 2321.4916], risks [0.1815 0.1998], params [-0.0336  3.5821  0.0246]\n",
      "40: expected pops [2087.5507 2574.4227], risks [0.2011 0.1789], params [0.1026 3.6635 0.0243]\n",
      "60: expected pops [2309.0848 2396.2824], risks [0.1905 0.1936], params [9.6497e-03 3.5383e+00 2.6416e-03]\n",
      "80: expected pops [2240.392  2314.2433], risks [0.1816 0.1791], params [-0.0388  3.8104  0.    ]\n",
      "100: expected pops [2206.6259 2396.8191], risks [0.178  0.1896], params [ 0.0083  3.6296 -0.1056]\n",
      "120: expected pops [2328.8432 2277.8556], risks [0.1806 0.1864], params [-2.8368e-03  3.6579e+00  4.3640e-02]\n",
      "140: expected pops [2162.0774 2445.5048], risks [0.1951 0.1905], params [0.0381 3.4736 0.0128]\n",
      "160: expected pops [2390.0025 2250.4607], risks [0.1816 0.1804], params [-0.0232  3.9329 -0.0645]\n",
      "180: expected pops [2170.9214 2265.8139], risks [0.1785 0.1803], params [0.0314 3.7511 0.0217]\n",
      "200: expected pops [2203.5867 2258.2786], risks [0.1909 0.1847], params [0.0076 3.7158 0.0642]\n",
      "220: expected pops [2511.3171 1927.6842], risks [0.176  0.1956], params [-0.0866  3.7056 -0.0471]\n",
      "240: expected pops [2171.8184 2370.8754], risks [0.1825 0.1604], params [0.0099 3.8148 0.0201]\n",
      "260: expected pops [1973.0295 2629.794 ], risks [0.206  0.1777], params [0.1214 3.5939 0.    ]\n",
      "280: expected pops [1925.7454 2629.9454], risks [0.1813 0.1746], params [ 0.0516  3.7697 -0.045 ]\n",
      "300: expected pops [2362.0943 2618.2032], risks [0.1905 0.1875], params [-1.4330e-03  3.5505e+00  3.1642e-02]\n",
      "320: expected pops [2198.8545 2394.6681], risks [0.1901 0.1818], params [ 0.0212  3.5741 -0.008 ]\n",
      "340: expected pops [2491.8445 2303.7406], risks [0.1854 0.1832], params [2.3745e-03 3.6676e+00 0.0000e+00]\n",
      "360: expected pops [2518.5354 2089.5189], risks [0.1816 0.1827], params [-0.0465  3.7319  0.0233]\n",
      "380: expected pops [2611.5429 2048.6621], risks [0.187  0.2053], params [-0.0739  3.5922 -0.0112]\n",
      "400: expected pops [2262.8995 2078.7131], risks [0.1865 0.2   ], params [-0.0583  3.5479  0.0311]\n",
      "420: expected pops [2367.2714 2165.7944], risks [0.1912 0.2065], params [-0.0483  3.4147  0.0514]\n",
      "440: expected pops [2452.3295 2194.6876], risks [0.1925 0.1897], params [-0.0635  3.671   0.0136]\n",
      "460: expected pops [2123.5446 2181.2702], risks [0.1918 0.1853], params [ 0.032   3.6448 -0.0438]\n",
      "480: expected pops [2393.5265 2177.0869], risks [0.1804 0.1792], params [ 7.1131e-03  3.9337e+00 -5.5734e-04]\n",
      "\n",
      "0: expected pops [1584.1905 1589.0404], risks [0.1792 0.1894], params [-3.9186e-02  3.7601e+00 -1.1410e-04]\n",
      "20: expected pops [2314.9842 2321.4916], risks [0.1815 0.1998], params [-0.0336  3.5821  0.0246]\n",
      "40: expected pops [2091.0269 2583.645 ], risks [0.2019 0.1819], params [0.1153 3.6442 0.0261]\n",
      "60: expected pops [2281.6857 2481.978 ], risks [0.1906 0.1897], params [ 0.0257  3.5631 -0.0094]\n",
      "80: expected pops [2194.3415 2383.8631], risks [0.195  0.1817], params [-0.0161  3.7404 -0.0099]\n",
      "100: expected pops [2127.0214 2572.5704], risks [0.1853 0.1873], params [ 0.1218  3.641  -0.0938]\n",
      "120: expected pops [2103.9985 2333.4192], risks [0.1846 0.1841], params [0.0197 3.6769 0.0265]\n",
      "140: expected pops [2175.2949 2331.5594], risks [0.1909 0.1921], params [ 0.0277  3.4659 -0.0193]\n",
      "160: expected pops [1991.4774 2521.4522], risks [0.2016 0.1702], params [ 0.1145  3.7009 -0.0121]\n",
      "180: expected pops [2394.498  2314.8841], risks [0.1911 0.1876], params [-0.0235  3.6604  0.1152]\n",
      "200: expected pops [2224.3131 2263.4574], risks [0.1873 0.1845], params [0.0092 3.7309 0.076 ]\n",
      "220: expected pops [2524.429  1962.5493], risks [0.1857 0.1997], params [-0.0442  3.5515 -0.0163]\n",
      "240: expected pops [2237.3201 2196.2864], risks [0.1689 0.1816], params [0.     3.8029 0.0122]\n",
      "260: expected pops [2112.8128 2593.6359], risks [0.2067 0.1747], params [ 0.0328  3.6229 -0.0241]\n",
      "280: expected pops [1930.7406 2694.9573], risks [0.2075 0.1856], params [0.1072 3.4928 0.0055]\n",
      "300: expected pops [2321.225  2622.7917], risks [0.181  0.1776], params [ 0.0044  3.8118 -0.0218]\n",
      "320: expected pops [2462.8418 2284.0799], risks [0.1862 0.1863], params [ 1.9814e-02  3.7173e+00 -2.0442e-03]\n",
      "340: expected pops [2499.321  2199.5802], risks [0.1861 0.186 ], params [-0.1234  3.6375  0.0289]\n",
      "360: expected pops [2454.6145 2338.1808], risks [0.1833 0.1906], params [0.0322 3.6564 0.0186]\n",
      "380: expected pops [2542.609  1961.1507], risks [0.1712 0.1842], params [-0.0606  3.9178  0.0146]\n",
      "400: expected pops [2089.9695 2414.9434], risks [0.2151 0.1764], params [ 0.0688  3.6343 -0.0442]\n",
      "420: expected pops [2243.5065 2168.1515], risks [0.1779 0.1887], params [0.022  3.6242 0.0458]\n",
      "440: expected pops [2373.1196 2305.9599], risks [0.1822 0.1985], params [-0.0481  3.6281  0.006 ]\n",
      "460: expected pops [2466.8433 2308.0108], risks [0.1958 0.1919], params [-0.0488  3.6811 -0.0387]\n",
      "480: expected pops [2445.4973 2134.4911], risks [0.1982 0.1852], params [-0.0518  3.514  -0.0126]\n"
     ]
    },
    {
     "data": {
      "text/plain": [
       "Dataset(covariates=array([[0]]), treatments=array([0]), outcomes=array([0.18721835]), true_effects=array([-0.00842317]), causal_graph=None)"
      ]
     },
     "execution_count": 4,
     "metadata": {},
     "output_type": "execute_result"
    }
   ],
   "source": [
    "import whynot as wn\n",
    "import numpy as np\n",
    "from sklearn.svm import SVC\n",
    "from sklearn.linear_model import LogisticRegression\n",
    "from whynot import repeated_classification\n",
    "import matplotlib.pyplot as plt\n",
    "%matplotlib inline\n",
    "import warnings\n",
    "warnings.filterwarnings('ignore')\n",
    "\n",
    "repeated_classification.TwoGaussiansExperiment.run(1)"
   ]
  },
  {
   "cell_type": "markdown",
   "metadata": {},
   "source": [
    "Using `scipy.optimize.minimize` generally fits slightly better than using linear SVM"
   ]
  },
  {
   "cell_type": "code",
   "execution_count": 5,
   "metadata": {},
   "outputs": [
    {
     "name": "stdout",
     "output_type": "stream",
     "text": [
      "linear SVM with C =   0.01 :    2070 / 2500 correct\n",
      "linear SVM with C =   0.10 :    2066 / 2500 correct\n",
      "linear SVM with C =   1.00 :    2071 / 2500 correct\n",
      "linear SVM with C =  10.00 :    2069 / 2500 correct\n",
      "Logistic regression with l1 :    2064 / 2500 correct\n",
      "Logistic regression with l2 :    2066 / 2500 correct\n",
      "scipy.optimize.minimize    :    2251 / 2500 correct\n"
     ]
    }
   ],
   "source": [
    "config = repeated_classification.experiments.construct_config_gaussians()\n",
    "rng = np.random.RandomState()\n",
    "\n",
    "POPULATIONS = [2000, 500]  # modify\n",
    "\n",
    "features, labels = [], []\n",
    "for pop, dist in list(zip(POPULATIONS, config.group_distributions)):\n",
    "    features_k, labels_k = dist(pop, rng)\n",
    "    features.append(features_k)\n",
    "    labels.append(labels_k)\n",
    "features = np.concatenate(features, axis=0)\n",
    "labels = np.concatenate(labels, axis=0)\n",
    "\n",
    "# SVM\n",
    "c_values = [0.01, 0.1, 1, 10]\n",
    "models = [SVC(C=c, kernel='linear').fit(features, labels) for c in c_values]\n",
    "params = [np.concatenate([m.coef_.flatten(), m.intercept_.flatten()]) for m in models]\n",
    "accuracies = [\n",
    "    np.count_nonzero(labels == repeated_classification.experiments.linear_classifier_2d(features, p, None))\n",
    "    for p in params\n",
    "]\n",
    "for (c, acc) in zip(c_values, accuracies):\n",
    "    print('linear SVM with C = {: >6.2f} :  {:>6d} / {} correct'.format(c, acc, len(labels)))\n",
    "\n",
    "# Logistic regression\n",
    "penalties = ['l1', 'l2']\n",
    "models = [LogisticRegression(penalty=p).fit(features, labels) for p in penalties]\n",
    "params = [np.concatenate([m.coef_.flatten(), m.intercept_.flatten()]) for m in models]\n",
    "accuracies = [\n",
    "    np.count_nonzero(labels == repeated_classification.experiments.linear_classifier_2d(features, p, None))\n",
    "    for p in params\n",
    "]\n",
    "for (p, acc) in zip(penalties, accuracies):\n",
    "    print('Logistic regression with {} :  {:>6d} / {} correct'.format(p, acc, len(labels)))\n",
    "\n",
    "# ERM with scipy.optimize.minimize\n",
    "erm_params = repeated_classification.experiments.erm(\n",
    "    config,\n",
    "    features,\n",
    "    labels,\n",
    "    [0, 1, 0],\n",
    "    rng,\n",
    "    method='Powell'\n",
    ")\n",
    "erm_acc = np.count_nonzero(\n",
    "    labels == repeated_classification.experiments.linear_classifier_2d(features, erm_params, None)\n",
    ")\n",
    "print('scipy.optimize.minimize    :  {: >6d} / {} correct'.format(erm_acc, len(labels)))"
   ]
  },
  {
   "cell_type": "markdown",
   "metadata": {},
   "source": [
    "# Median Estimation"
   ]
  },
  {
   "cell_type": "code",
   "execution_count": 6,
   "metadata": {},
   "outputs": [
    {
     "data": {
      "image/png": "[encoded data removed]",
      "text/plain": [
       "<Figure size 648x432 with 1 Axes>"
      ]
     },
     "metadata": {
      "needs_background": "light"
     },
     "output_type": "display_data"
    }
   ],
   "source": [
    "def graph_median_setup(pop1, pop2):\n",
    "    data = np.concatenate([np.random.normal(-1, 0.2, pop1), np.random.normal(1, 0.2, pop2)], axis=0)\n",
    "    plt.figure(figsize=(9, 6))\n",
    "    plt.hist(data, bins=50)\n",
    "    plt.show()\n",
    "\n",
    "\n",
    "graph_median_setup(1000, 500)"
   ]
  },
  {
   "cell_type": "code",
   "execution_count": 7,
   "metadata": {
    "scrolled": false
   },
   "outputs": [
    {
     "name": "stdout",
     "output_type": "stream",
     "text": [
      "\n",
      "0: expected pops [1365.5552 1362.1342], risks [0.4823 1.5168], params [-0.5147]\n",
      "20: expected pops [6368.319  1166.4715], risks [0.1645 1.9597], params [-0.9537]\n",
      "40: expected pops [6620.6543 1165.8878], risks [0.1603 1.9497], params [-0.9493]\n",
      "60: expected pops [6606.7429 1165.0504], risks [0.1613 1.9535], params [-0.9569]\n",
      "80: expected pops [6600.8614 1165.4812], risks [0.1604 1.9514], params [-0.9563]\n",
      "100: expected pops [6629.886 1166.805], risks [0.1636 1.9475], params [-0.9524]\n",
      "120: expected pops [6633.8233 1165.6729], risks [0.1633 1.9533], params [-0.9539]\n",
      "140: expected pops [6617.6033 1164.9357], risks [0.1623 1.9602], params [-0.9581]\n",
      "160: expected pops [6632.8483 1164.2678], risks [0.1617 1.9501], params [-0.9549]\n",
      "180: expected pops [6644.8713 1166.2583], risks [0.1636 1.9634], params [-0.9558]\n",
      "\n",
      "0: expected pops [1365.5552 1362.1342], risks [0.9905 1.0074], params [-0.0054]\n",
      "20: expected pops [1580.0383 1586.7064], risks [0.9952 1.0017], params [-0.0067]\n",
      "40: expected pops [1579.7242 1580.2432], risks [1.0013 0.9926], params [0.0052]\n",
      "60: expected pops [1578.6976 1590.01  ], risks [0.9989 0.9955], params [-0.003]\n",
      "80: expected pops [1578.8092 1584.9011], risks [1.004  1.0091], params [-0.0058]\n",
      "100: expected pops [1579.3347 1577.8924], risks [1.0015 0.9952], params [0.0105]\n",
      "120: expected pops [1586.913  1581.8053], risks [0.9973 1.006 ], params [-0.0072]\n",
      "140: expected pops [1582.5821 1583.5694], risks [0.9832 0.9982], params [-0.0099]\n",
      "160: expected pops [1583.0684 1582.0189], risks [1.0041 1.0115], params [-0.0071]\n",
      "180: expected pops [1584.0865 1586.1204], risks [0.9938 1.0094], params [-0.0013]\n"
     ]
    },
    {
     "data": {
      "text/plain": [
       "Dataset(covariates=array([[0]]), treatments=array([1]), outcomes=array([1.0085]), true_effects=array([-0.9414]), causal_graph=None)"
      ]
     },
     "execution_count": 7,
     "metadata": {},
     "output_type": "execute_result"
    }
   ],
   "source": [
    "import whynot as wn\n",
    "import numpy as np\n",
    "from sklearn.svm import SVC\n",
    "from whynot import repeated_classification\n",
    "import matplotlib.pyplot as plt\n",
    "%matplotlib inline\n",
    "\n",
    "repeated_classification.MedianEstimationExperiment.run(1, parallelize=False)"
   ]
  },
  {
   "cell_type": "markdown",
   "metadata": {},
   "source": [
    "two gaussians:\n",
    "logistic regression with not 0-1 loss\n",
    "different retention\n",
    "\n",
    "\n",
    "\n",
    "\n",
    "Walk through how to run this experiment\n",
    "\n",
    "Intervention on retention dynamics\n",
    "\n",
    "some kind of dynamic intervention to showcase more of whynot\n",
    "\n",
    "performative prediction"
   ]
  },
  {
   "cell_type": "code",
   "execution_count": 8,
   "metadata": {},
   "outputs": [
    {
     "ename": "NameError",
     "evalue": "name 'DynamicsExperiment' is not defined",
     "output_type": "error",
     "traceback": [
      "\u001b[0;31m---------------------------------------------------------------------------\u001b[0m",
      "\u001b[0;31mNameError\u001b[0m                                 Traceback (most recent call last)",
      "\u001b[0;32m<ipython-input-8-8d63db320b65>\u001b[0m in \u001b[0;36m<module>\u001b[0;34m\u001b[0m\n\u001b[0;32m----> 1\u001b[0;31m MedianEstimationExperiment = DynamicsExperiment(\n\u001b[0m\u001b[1;32m      2\u001b[0m     \u001b[0mname\u001b[0m\u001b[0;34m=\u001b[0m\u001b[0;34m\"MedianEstimationExperiment\"\u001b[0m\u001b[0;34m,\u001b[0m\u001b[0;34m\u001b[0m\u001b[0;34m\u001b[0m\u001b[0m\n\u001b[1;32m      3\u001b[0m     \u001b[0mdescription\u001b[0m\u001b[0;34m=\u001b[0m\u001b[0;34m\"\"\u001b[0m\u001b[0;34m,\u001b[0m  \u001b[0;31m# TODO: description\u001b[0m\u001b[0;34m\u001b[0m\u001b[0;34m\u001b[0m\u001b[0m\n\u001b[1;32m      4\u001b[0m     \u001b[0msimulator\u001b[0m\u001b[0;34m=\u001b[0m\u001b[0mrepeated_classification\u001b[0m\u001b[0;34m,\u001b[0m\u001b[0;34m\u001b[0m\u001b[0;34m\u001b[0m\u001b[0m\n\u001b[1;32m      5\u001b[0m     \u001b[0msimulator_config\u001b[0m\u001b[0;34m=\u001b[0m\u001b[0mconstruct_config_median\u001b[0m\u001b[0;34m,\u001b[0m\u001b[0;34m\u001b[0m\u001b[0;34m\u001b[0m\u001b[0m\n",
      "\u001b[0;31mNameError\u001b[0m: name 'DynamicsExperiment' is not defined"
     ]
    }
   ],
   "source": [
    "MedianEstimationExperiment = DynamicsExperiment(\n",
    "    name=\"MedianEstimationExperiment\",\n",
    "    description=\"\",  # TODO: description\n",
    "    simulator=repeated_classification,\n",
    "    simulator_config=construct_config_median,\n",
    "    intervention=repeated_classification.Intervention(time=0, train_classifier=dro),\n",
    "    state_sampler=sample_initial_states_median,\n",
    "    propensity_scorer=0.5,\n",
    "    outcome_extractor=extract_outcomes,\n",
    "    covariate_builder=lambda run: 0,  # TODO: change\n",
    ")"
   ]
  },
  {
   "cell_type": "code",
   "execution_count": 3,
   "metadata": {},
   "outputs": [
    {
     "data": {
      "text/plain": [
       "[<matplotlib.lines.Line2D at 0x122e43590>]"
      ]
     },
     "execution_count": 3,
     "metadata": {},
     "output_type": "execute_result"
    },
    {
     "data": {
      "image/png": "[encoded data removed]",
      "text/plain": [
       "<Figure size 432x288 with 1 Axes>"
      ]
     },
     "metadata": {
      "needs_background": "light"
     },
     "output_type": "display_data"
    }
   ],
   "source": [
    "x = np.linspace(0, 1, 1000)\n",
    "k = 20\n",
    "f = lambda x: np.exp(-np.log(1 + np.exp(k * (x-0.18))))\n",
    "\n",
    "plt.plot(x, f(x))"
   ]
  },
  {
   "cell_type": "code",
   "execution_count": null,
   "metadata": {},
   "outputs": [],
   "source": []
  }
 ],
 "metadata": {
  "kernelspec": {
   "display_name": "Python 3",
   "language": "python",
   "name": "python3"
  },
  "language_info": {
   "codemirror_mode": {
    "name": "ipython",
    "version": 3
   },
   "file_extension": ".py",
   "mimetype": "text/x-python",
   "name": "python",
   "nbconvert_exporter": "python",
   "pygments_lexer": "ipython3",
   "version": "3.7.4"
  }
 },
 "nbformat": 4,
 "nbformat_minor": 2
}

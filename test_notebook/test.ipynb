{
 "cells": [
  {
   "cell_type": "code",
   "execution_count": 1,
   "metadata": {
    "scrolled": false
   },
   "outputs": [],
   "source": [
    "import whynot as wn\n",
    "import numpy as np\n",
    "from sklearn.svm import SVC\n",
    "from whynot import repeated_classification\n",
    "import matplotlib.pyplot as plt\n",
    "%matplotlib inline"
   ]
  },
  {
   "cell_type": "markdown",
   "metadata": {},
   "source": [
    "Visualize generated distribution, intended to look like graph on [page 3](https://arxiv.org/pdf/1806.08010.pdf)"
   ]
  },
  {
   "cell_type": "code",
   "execution_count": 2,
   "metadata": {},
   "outputs": [
    {
     "name": "stdout",
     "output_type": "stream",
     "text": [
      "init:\n",
      "State(expected_populations=array([1000, 1000]), populations=array([1000, 1000]), features=array([[-1.0692108 , -0.69905647],\n",
      "       [-0.92145739, -0.00878733],\n",
      "       [-1.07558466,  0.20669988],\n",
      "       ...,\n",
      "       [ 0.77041205,  0.7076799 ],\n",
      "       [ 0.7444506 , -0.77249392],\n",
      "       [ 1.06815913,  0.76290768]]), labels=array([0, 0, 1, ..., 1, 0, 1]), classifier_params=array([0.01438396, 3.6939874 , 0.0681274 ]), risks=array([0.204, 0.191]))\n"
     ]
    },
    {
     "data": {
      "image/png": "[encoded data removed]",
      "text/plain": [
       "<Figure size 648x432 with 1 Axes>"
      ]
     },
     "metadata": {
      "needs_background": "light"
     },
     "output_type": "display_data"
    }
   ],
   "source": [
    "def graph(features, labels, params=None):\n",
    "    plt.figure(figsize=(9, 6))\n",
    "\n",
    "    plt.scatter(*features[labels.astype(bool)].T, marker='+', color='k')\n",
    "    plt.scatter(*features[(1 - labels).astype(bool)].T, marker='_', color='r')\n",
    "    \n",
    "    xlims = np.array([-3, 3])\n",
    "    if params is not None:\n",
    "        plt.plot(xlims, -params[0] / params[1] * xlims - params[2] / params[1], color='b')\n",
    "\n",
    "    plt.xlim(xlims)\n",
    "    plt.ylim((-2, 2))\n",
    "\n",
    "    plt.show()\n",
    "\n",
    "\n",
    "init = repeated_classification.experiments.sample_initial_states(np.random.RandomState())\n",
    "print('init:\\n' + str(init))\n",
    "\n",
    "graph(init.features, init.labels)"
   ]
  },
  {
   "cell_type": "markdown",
   "metadata": {},
   "source": [
    "Run to see progress at each step"
   ]
  },
  {
   "cell_type": "code",
   "execution_count": null,
   "metadata": {
    "scrolled": false
   },
   "outputs": [],
   "source": [
    "experiments = repeated_classification.get_experiments()\n",
    "experiments[0].run(1, parallelize=False)"
   ]
  },
  {
   "cell_type": "markdown",
   "metadata": {},
   "source": [
    "Using `scipy.optimize.minimize` generally fits slightly better than using linear SVM"
   ]
  },
  {
   "cell_type": "code",
   "execution_count": 4,
   "metadata": {},
   "outputs": [
    {
     "name": "stdout",
     "output_type": "stream",
     "text": [
      "linear SVM with C =   0.01 :    4906 / 6000 correct\n",
      "linear SVM with C =   0.10 :    4906 / 6000 correct\n",
      "linear SVM with C =   1.00 :    4908 / 6000 correct\n",
      "linear SVM with C =  10.00 :    4908 / 6000 correct\n",
      "scipy.optimize.minimize    :    4910 / 6000 correct\n"
     ]
    }
   ],
   "source": [
    "config = repeated_classification.experiments.construct_config()\n",
    "rng = np.random.RandomState()\n",
    "\n",
    "POPULATIONS = [3000, 3000]  # modify\n",
    "\n",
    "features, labels = [], []\n",
    "for pop, dist in list(zip(POPULATIONS, config.group_distributions)):\n",
    "    features_k, labels_k = dist(pop, rng)\n",
    "    features.append(features_k)\n",
    "    labels.append(labels_k)\n",
    "features = np.concatenate(features, axis=0)\n",
    "labels = np.concatenate(labels, axis=0)\n",
    "\n",
    "# SVM\n",
    "c_values = [0.01, 0.1, 1, 10]\n",
    "models = [SVC(C=c, kernel='linear').fit(features, labels) for c in c_values]\n",
    "params = [np.concatenate([m.coef_.flatten(), m.intercept_.flatten()]) for m in models]\n",
    "accuracies = [\n",
    "    np.count_nonzero(labels == repeated_classification.experiments.linear_classifier_2d(features, p, None))\n",
    "    for p in params\n",
    "]\n",
    "for (c, acc) in zip(c_values, accuracies):\n",
    "    print('linear SVM with C = {: >6.2f} :  {:>6d} / {} correct'.format(c, acc, len(labels)))\n",
    "\n",
    "# ERM with scipy.optimize.minimize\n",
    "erm_params = repeated_classification.experiments.empirical_risk_minimization(\n",
    "    repeated_classification.experiments.linear_classifier_2d,\n",
    "    repeated_classification.experiments.zero_one_loss,\n",
    "    features,\n",
    "    labels,\n",
    "    [0, 1, 0],\n",
    "    rng,\n",
    "    method='Powell'\n",
    ")\n",
    "erm_acc = np.count_nonzero(\n",
    "    labels == repeated_classification.experiments.linear_classifier_2d(features, erm_params, None)\n",
    ")\n",
    "print('scipy.optimize.minimize    :  {: >6d} / {} correct'.format(erm_acc, len(labels)))"
   ]
  },
  {
   "cell_type": "code",
   "execution_count": null,
   "metadata": {},
   "outputs": [],
   "source": []
  }
 ],
 "metadata": {
  "kernelspec": {
   "display_name": "Python 3",
   "language": "python",
   "name": "python3"
  },
  "language_info": {
   "codemirror_mode": {
    "name": "ipython",
    "version": 3
   },
   "file_extension": ".py",
   "mimetype": "text/x-python",
   "name": "python",
   "nbconvert_exporter": "python",
   "pygments_lexer": "ipython3",
   "version": "3.7.4"
  }
 },
 "nbformat": 4,
 "nbformat_minor": 2
}

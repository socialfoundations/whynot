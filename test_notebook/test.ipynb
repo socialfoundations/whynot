{
 "cells": [
  {
   "cell_type": "code",
   "execution_count": 2,
   "metadata": {
    "scrolled": false
   },
   "outputs": [],
   "source": [
    "import whynot as wn\n",
    "import numpy as np\n",
    "from whynot import repeated_classification\n",
    "import matplotlib.pyplot as plt\n",
    "%matplotlib inline"
   ]
  },
  {
   "cell_type": "code",
   "execution_count": 3,
   "metadata": {},
   "outputs": [
    {
     "name": "stdout",
     "output_type": "stream",
     "text": [
      "init:\n",
      "State(expected_populations=array([1000, 1000]), populations=array([1000, 1000]), features=array([[-0.76561371, -0.25437851],\n",
      "       [-0.84196525,  0.31171293],\n",
      "       [-1.0893013 ,  0.03542662],\n",
      "       ...,\n",
      "       [ 1.13537983, -0.45797462],\n",
      "       [ 1.40251041,  0.22298242],\n",
      "       [ 0.82508603, -0.45519677]]), labels=array([0, 1, 1, ..., 0, 1, 0]), classifier_params=array([ 0.01612094, -0.00621881]), risks=array([0.187, 0.208]))\n"
     ]
    },
    {
     "data": {
      "image/png": "[encoded data removed]",
      "text/plain": [
       "<Figure size 648x432 with 1 Axes>"
      ]
     },
     "metadata": {
      "needs_background": "light"
     },
     "output_type": "display_data"
    }
   ],
   "source": [
    "init = repeated_classification.experiments.sample_initial_states(np.random.RandomState())\n",
    "print('init:\\n' + str(init))\n",
    "\n",
    "plt.figure(figsize=(9, 6))\n",
    "\n",
    "plt.scatter(*init.features[init.labels.astype(bool)].T, marker='+', color='k')\n",
    "plt.scatter(*init.features[(1 - init.labels).astype(bool)].T, marker='_', color='r')\n",
    "\n",
    "plt.xlim((-3, 3))\n",
    "plt.ylim((-2, 2))\n",
    "\n",
    "plt.show()"
   ]
  },
  {
   "cell_type": "code",
   "execution_count": 4,
   "metadata": {
    "scrolled": false
   },
   "outputs": [
    {
     "name": "stdout",
     "output_type": "stream",
     "text": [
      "0\n",
      "50\n",
      "100\n",
      "150\n",
      "200\n",
      "250\n",
      "300\n",
      "350\n",
      "400\n",
      "450\n",
      "480: expected pops [5420.23667895 5275.82317863], risks [0.17896507 0.19207613]\n",
      "481: expected pops [5450.20366224 5262.46347312], risks [0.18086861 0.18944159]\n",
      "482: expected pops [5464.4329064  5265.53404825], risks [0.17777778 0.18793855]\n",
      "483: expected pops [5492.97816748 5275.93718844], risks [0.17922644 0.18346546]\n",
      "484: expected pops [5508.4912506  5307.98495228], risks [0.1751443  0.19687853]\n",
      "485: expected pops [5543.71040566 5262.95670011], risks [0.1898479  0.18800679]\n",
      "486: expected pops [5491.24861708 5273.48511233], risks [0.17236337 0.20196192]\n",
      "487: expected pops [5544.75849719 5208.44195635], risks [0.17538405 0.18880061]\n",
      "488: expected pops [5572.29628088 5225.08496194], risks [0.19030585 0.18888682]\n",
      "489: expected pops [5511.85570802 5238.13529451], risks [0.17740214 0.19254052]\n",
      "490: expected pops [5534.04073633 5229.58200406], risks [0.1825652  0.18421053]\n",
      "491: expected pops [5523.71747221 5266.23795068], risks [0.18745481 0.1809198 ]\n",
      "492: expected pops [5488.27007187 5313.47122148], risks [0.18210863 0.17345573]\n",
      "493: expected pops [5488.80874888 5391.81920429], risks [0.19010791 0.18692954]\n",
      "494: expected pops [5445.3427691  5383.92894047], risks [0.18350515 0.18094712]\n",
      "495: expected pops [5446.09430219 5409.72252449], risks [0.18681712 0.18221574]\n",
      "496: expected pops [5428.67063084 5423.98591288], risks [0.19559126 0.18241717]\n",
      "497: expected pops [5366.87011702 5434.55775972], risks [0.18439985 0.19005361]\n",
      "498: expected pops [5377.22008029 5401.70041511], risks [0.2      0.180569]\n",
      "499: expected pops [5301.77606423 5426.3207969 ], risks [0.18618965 0.18586387]\n",
      "0\n",
      "50\n",
      "100\n",
      "150\n",
      "200\n",
      "250\n",
      "300\n",
      "350\n",
      "400\n",
      "450\n",
      "480: expected pops [5420.23667895 5275.82317863], risks [0.17896507 0.19207613]\n",
      "481: expected pops [5450.20366224 5262.46347312], risks [0.18086861 0.18944159]\n",
      "482: expected pops [5464.4329064  5265.53404825], risks [0.17777778 0.18793855]\n",
      "483: expected pops [5492.97816748 5275.93718844], risks [0.17922644 0.18346546]\n",
      "484: expected pops [5508.4912506  5307.98495228], risks [0.1751443  0.19687853]\n",
      "485: expected pops [5543.71040566 5262.95670011], risks [0.1898479  0.18800679]\n",
      "486: expected pops [5491.24861708 5273.48511233], risks [0.17236337 0.20196192]\n",
      "487: expected pops [5544.75849719 5208.44195635], risks [0.17538405 0.18880061]\n",
      "488: expected pops [5572.29628088 5225.08496194], risks [0.19030585 0.18888682]\n",
      "489: expected pops [5511.85570802 5238.13529451], risks [0.17740214 0.19254052]\n",
      "490: expected pops [5534.04073633 5229.58200406], risks [0.1825652  0.18421053]\n",
      "491: expected pops [5523.71747221 5266.23795068], risks [0.18745481 0.1809198 ]\n",
      "492: expected pops [5488.27007187 5313.47122148], risks [0.18210863 0.17345573]\n",
      "493: expected pops [5488.80874888 5391.81920429], risks [0.19010791 0.18692954]\n",
      "494: expected pops [5445.3427691  5383.92894047], risks [0.18350515 0.18094712]\n",
      "495: expected pops [5446.09430219 5409.72252449], risks [0.18681712 0.18221574]\n",
      "496: expected pops [5428.67063084 5423.98591288], risks [0.19559126 0.18241717]\n",
      "497: expected pops [5366.87011702 5434.55775972], risks [0.18439985 0.19005361]\n",
      "498: expected pops [5377.22008029 5401.70041511], risks [0.2      0.180569]\n",
      "499: expected pops [5301.77606423 5426.3207969 ], risks [0.18618965 0.18586387]\n"
     ]
    },
    {
     "data": {
      "text/plain": [
       "Dataset(covariates=array([[0]]), treatments=array([0]), outcomes=array([0.97704803]), true_effects=array([0.]), causal_graph=None)"
      ]
     },
     "execution_count": 4,
     "metadata": {},
     "output_type": "execute_result"
    }
   ],
   "source": [
    "experiments = repeated_classification.get_experiments()\n",
    "experiments[0].run(1, parallelize=False)"
   ]
  },
  {
   "cell_type": "code",
   "execution_count": null,
   "metadata": {},
   "outputs": [],
   "source": []
  },
  {
   "cell_type": "code",
   "execution_count": null,
   "metadata": {},
   "outputs": [],
   "source": []
  }
 ],
 "metadata": {
  "kernelspec": {
   "display_name": "Python 3",
   "language": "python",
   "name": "python3"
  },
  "language_info": {
   "codemirror_mode": {
    "name": "ipython",
    "version": 3
   },
   "file_extension": ".py",
   "mimetype": "text/x-python",
   "name": "python",
   "nbconvert_exporter": "python",
   "pygments_lexer": "ipython3",
   "version": "3.7.4"
  }
 },
 "nbformat": 4,
 "nbformat_minor": 2
}

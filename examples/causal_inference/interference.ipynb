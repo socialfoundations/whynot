{
 "cells": [
  {
   "cell_type": "markdown",
   "metadata": {},
   "source": [
    "# Interference in randomized controlled trials\n",
    "\n",
    "One failure case for most causal inference methods is *interference* between experimental units. The problem arises when the treatment assignment to one individual affects the the outcomes of other individuals. This could be, for example, the consequence of network effects and interaction between individuals. \n",
    "\n",
    "* [Incarceration simulator](#Incarceration-simulator)\n",
    "* [Civil violence simulator](#Civil-violence-simulator)"
   ]
  },
  {
   "cell_type": "markdown",
   "metadata": {},
   "source": [
    "## Incarceration simulator"
   ]
  },
  {
   "cell_type": "markdown",
   "metadata": {},
   "source": [
    "To study this problem we will work with a simulator based on the paper:\n",
    "\n",
    "* *Lum K, Swarup S, Eubank S, Hawdon J. The contagious nature of imprisonment: an agent-based model to explain racial disparities in incarceration rates. J R Soc Interface. 2014;11(98):20140409. [doi:10.1098/rsif.2014.0409](https://dx.doi.org/10.1098%2Frsif.2014.0409)*\n",
    "\n",
    "The paper proposes an agent-based model that models incarceration as \"contagious\" in the sense that social ties to incarcerated individuals lead to a higher risk of being imprisoned. The simulation occurs on a fixed set of agents with a fixed set of social ties. What varies is the randomness with which incarceration is passed on and randomness in sentence length. Transition probabilities, and the sentence length distribution are based on real data. The paper shows that higher-on-average sentence lengths for black individuals than for whites lead to a disparity in incarceration rates that resembles the one observed in the United States."
   ]
  },
  {
   "cell_type": "markdown",
   "metadata": {},
   "source": [
    "### A sentence length experiment\n",
    "\n",
    "From a causal inference perspective, a natural question to ask is: \n",
    "\n",
    "* What is the effect of harsher sentences on total incarceration times in the population?\n",
    "\n",
    "To answer this question, imagine we had a randomized trial where individuals are randomly assigned either a sentence from the \"harsh\" sentencing distribution or a sentence from the more \"lenient\" sentence distribution. In fact, in reality researchers are often hoping to recover some form of randomization due to the fact that different judges lead to different sentencing distributions, and the assignment to judges is randomized in certain scenarios."
   ]
  },
  {
   "cell_type": "code",
   "execution_count": 1,
   "metadata": {},
   "outputs": [],
   "source": [
    "import numpy as np\n",
    "\n",
    "from whynot.simulators import incarceration"
   ]
  },
  {
   "cell_type": "code",
   "execution_count": 2,
   "metadata": {},
   "outputs": [],
   "source": [
    "[sentence_length_experiment] = incarceration.get_experiments()"
   ]
  },
  {
   "cell_type": "markdown",
   "metadata": {},
   "source": [
    "Let's understand what the experiment returns."
   ]
  },
  {
   "cell_type": "markdown",
   "metadata": {},
   "source": [
    "**NOTE: The following cell may take a few minutes to execute.** "
   ]
  },
  {
   "cell_type": "code",
   "execution_count": 3,
   "metadata": {},
   "outputs": [],
   "source": [
    "random_seed = 0\n",
    "\n",
    "# The first argument of .run is ignored as the simulator uses a fixed number of samples.\n",
    "dataset = sentence_length_experiment.run(None, random_seed)"
   ]
  },
  {
   "cell_type": "code",
   "execution_count": 4,
   "metadata": {},
   "outputs": [],
   "source": [
    "covariates = dataset.covariates\n",
    "\n",
    "# Fraction of times a harsh sentence was assigned to each individual under random assignment\n",
    "treatments = dataset.treatments \n",
    "\n",
    "# Time spent in prison for each individual\n",
    "outcomes = dataset.outcomes\n",
    "\n",
    "# Time spent in prison for each individual, had only harsh sentences been given\n",
    "outcomes_harsh_only = dataset.true_effects[0]\n",
    "\n",
    "# Time spent in prsion for each individual, had only lenient sentences been given\n",
    "outcomes_lenient_only = dataset.true_effects[1]"
   ]
  },
  {
   "cell_type": "code",
   "execution_count": 5,
   "metadata": {},
   "outputs": [
    {
     "name": "stdout",
     "output_type": "stream",
     "text": [
      "Number of agents:  8856\n"
     ]
    }
   ],
   "source": [
    "print('Number of agents: ', len(treatments))"
   ]
  },
  {
   "cell_type": "markdown",
   "metadata": {},
   "source": [
    "Here, `outcomes` is the number of months spent in prison for each individual, when prison sentences are assigned randomly to be either drawn from the lenient distribution or drawn from a harsher distribution. \n",
    "\n",
    "The harsh distribution has, per default, a mean of 17 months, while the lenient distribution has a mean of 14 months.\n",
    "\n",
    "Without interference, we could estimate the relative increase in total prison time due to harsh sentence as follows:"
   ]
  },
  {
   "cell_type": "code",
   "execution_count": 6,
   "metadata": {},
   "outputs": [
    {
     "name": "stdout",
     "output_type": "stream",
     "text": [
      "10663, 10303, 1.03\n"
     ]
    }
   ],
   "source": [
    "prison_time_treatment = np.sum(np.multiply(treatments, outcomes))\n",
    "prison_time_control = np.sum(np.multiply(1.0 - treatments, outcomes))\n",
    "relative_increase = prison_time_treatment / prison_time_control\n",
    "print(\"%d, %d, %.2f\" % (prison_time_treatment, prison_time_control, relative_increase))"
   ]
  },
  {
   "cell_type": "markdown",
   "metadata": {},
   "source": [
    "But in our setting, we cannot trust this estimate. The fact that one individual receive a long sentence makes it more likely for individuals in his social environment (parents, siblings, children, friends) to also end up incarcerated. Therefore, we contrast this result with simulating prison time had sentences always been drawn from the harsh distribution, and prison time had sentences always been drawn from the lenient distribution. These counterfactual quantities are provided by `dataset.true_effects`."
   ]
  },
  {
   "cell_type": "code",
   "execution_count": 7,
   "metadata": {},
   "outputs": [
    {
     "name": "stdout",
     "output_type": "stream",
     "text": [
      "56218, 11429, 4.92\n"
     ]
    }
   ],
   "source": [
    "prison_time_harsh = np.sum(outcomes_harsh_only)\n",
    "prison_time_lenient = np.sum(outcomes_lenient_only)\n",
    "relative_increase = prison_time_harsh / prison_time_lenient\n",
    "print(\"%d, %d, %.2f\" % (prison_time_harsh, prison_time_lenient, relative_increase))"
   ]
  },
  {
   "cell_type": "markdown",
   "metadata": {},
   "source": [
    "We can see that the relative increase is vastly higher here. This finding corresponds to the insight of the original study that found that relatively small increases in sentencing length can lead to large differences in incarceration rates as a consequence of interference effects."
   ]
  },
  {
   "cell_type": "markdown",
   "metadata": {},
   "source": [
    "**NOTE: The following cell can take several minutes to execute.** Decrease `num_trials` for faster execution."
   ]
  },
  {
   "cell_type": "code",
   "execution_count": 8,
   "metadata": {},
   "outputs": [],
   "source": [
    "from multiprocessing import Pool\n",
    "\n",
    "num_processors = 8\n",
    "num_trials = 16\n",
    "\n",
    "def counts(random_seed):\n",
    "    \"\"\"Run simulation and return prison time counts for treatment, control, and ground truth.\"\"\"\n",
    "    dataset = sentence_length_experiment.run(None ,random_seed)\n",
    "    return (np.sum(np.multiply(dataset.outcomes, dataset.treatments)),\n",
    "            np.sum(np.multiply(dataset.outcomes, 1.0 - dataset.treatments)),\n",
    "            np.sum(dataset.true_effects[0]), np.sum(dataset.true_effects[1]))\n",
    "\n",
    "prison_times = Pool(num_processors).map(counts, range(num_trials))"
   ]
  },
  {
   "cell_type": "code",
   "execution_count": 9,
   "metadata": {},
   "outputs": [
    {
     "name": "stdout",
     "output_type": "stream",
     "text": [
      "Relative increase in means under randomized assignment: 1.07\n",
      "Relative increase in means of ground truth: 3.65\n"
     ]
    }
   ],
   "source": [
    "print(\"Relative increase in means under randomized assignment: %.2f\" %\n",
    "     (np.mean([x[0] for x in prison_times])/np.mean([x[1] for x in prison_times])))\n",
    "print(\"Relative increase in means of ground truth: %.2f\" %\n",
    "     (np.mean([x[2] for x in prison_times])/np.mean([x[3] for x in prison_times])))"
   ]
  },
  {
   "cell_type": "markdown",
   "metadata": {},
   "source": [
    "## Civil violence simulator"
   ]
  },
  {
   "cell_type": "markdown",
   "metadata": {},
   "source": [
    "We will experiment with a second agent-based model derived from the \"civil violence\" model introduced in the work:\n",
    "\n",
    "*  *Modeling civil violence: An agent-based computational approach. Joshua M. Epstein.\n",
    "Proc. National Academy of Sciences May 2002, 99 (suppl 3) 7243-7250; DOI: [10.1073/pnas.092080199](https://doi.org/10.1073/pnas.092080199)*\n"
   ]
  },
  {
   "cell_type": "markdown",
   "metadata": {},
   "source": [
    "### Risk aversion experiment\n",
    "\n",
    "The treatment in the risk aversion experiment corresponds to increasing the risk aversion of an individual. The larger the risk aversion the less likely the agent is to participate in a riot."
   ]
  },
  {
   "cell_type": "code",
   "execution_count": 10,
   "metadata": {},
   "outputs": [],
   "source": [
    "from whynot.simulators import civil_violence\n",
    "\n",
    "[risk_aversion_experiment] = civil_violence.get_experiments()"
   ]
  },
  {
   "cell_type": "markdown",
   "metadata": {},
   "source": [
    "**Note: A single run of `.run` runs the simulator `num_samples` times to get ground truth efffects. This makes the call fairly slow. A call with `num_samples=100` might take around one hour.**"
   ]
  },
  {
   "cell_type": "code",
   "execution_count": 11,
   "metadata": {},
   "outputs": [],
   "source": [
    "dataset = risk_aversion_experiment.run(100, 1)"
   ]
  },
  {
   "cell_type": "markdown",
   "metadata": {},
   "source": [
    "In the absence of interference between units, we would be able to estimate the average treatment effect as follows."
   ]
  },
  {
   "cell_type": "code",
   "execution_count": 12,
   "metadata": {},
   "outputs": [
    {
     "name": "stdout",
     "output_type": "stream",
     "text": [
      "-1.11\n"
     ]
    }
   ],
   "source": [
    "active_days_treatment = np.mean(np.multiply(dataset.outcomes, dataset.treatments))\n",
    "active_days_control = np.mean(np.multiply(dataset.outcomes, 1.0 - dataset.treatments))\n",
    "active_days_joint_treatment_effect = active_days_treatment - active_days_control\n",
    "print(active_days_joint_treatment_effect)"
   ]
  },
  {
   "cell_type": "markdown",
   "metadata": {},
   "source": [
    "However, this estimate does not correspond to the causal effect of unilaterally increasing an agent's risk aversion in isolation of the other agents. The more agents are risk averse to begin with, the fewer agents become active. The fewer agents are active, the fewer other agents become active via the contagion dynamic. Hence, we'd espect that the isolated treatment effect of risk aversion is greater in the sense that it lowers the number of active days of an agent by a greater amount.\n",
    "\n",
    "This is what we can get at via the true effects available in the data set."
   ]
  },
  {
   "cell_type": "code",
   "execution_count": 13,
   "metadata": {},
   "outputs": [
    {
     "name": "stdout",
     "output_type": "stream",
     "text": [
      "-184.53\n"
     ]
    }
   ],
   "source": [
    "active_days_isolated_treatment_effect = np.mean(dataset.true_effects)\n",
    "print(active_days_isolated_treatment_effect)"
   ]
  }
 ],
 "metadata": {
  "kernelspec": {
   "display_name": "Python 3",
   "language": "python",
   "name": "python3"
  },
  "language_info": {
   "codemirror_mode": {
    "name": "ipython",
    "version": 3
   },
   "file_extension": ".py",
   "mimetype": "text/x-python",
   "name": "python",
   "nbconvert_exporter": "python",
   "pygments_lexer": "ipython3",
   "version": "3.6.8"
  }
 },
 "nbformat": 4,
 "nbformat_minor": 2
}

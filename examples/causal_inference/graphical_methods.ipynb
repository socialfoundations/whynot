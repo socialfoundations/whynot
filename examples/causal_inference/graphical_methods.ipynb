{
 "cells": [
  {
   "cell_type": "markdown",
   "metadata": {},
   "source": [
    "# Generating Causal Graphs with WhyNot"
   ]
  },
  {
   "cell_type": "markdown",
   "metadata": {},
   "source": [
    "WhyNot comes equipped with tools to automatically generate *the causal graph* associated with experiments on the dynamical system simulators. Using ideas from recent work in [automatic differentiation](https://github.com/HIPS/autograd), WhyNot traces the simulator execution and the user-provided functions to select covariates, assign treatment, and compute the desired outcome to build up the corresponding causal graph. The graph is returned with the dataset as a Networkx graph object. \n",
    "\n",
    "This notebook demonstrates how to construct and manipulate the causal graph, and then combines the causal graph with the recent [DoWhy](https://github.com/microsoft/dowhy) package to perform causal inference using a graphical approach.\n",
    "\n",
    "\n",
    "**Note**: This feature is still experimental, and there are likely a few rough edges. Only the HIV, Lotka-Volterra, and Opioid Epidemic simulators support causal graph generation at present. We are rapidly working on extending this feature to all of the dynamical system models."
   ]
  },
  {
   "cell_type": "code",
   "execution_count": 1,
   "metadata": {},
   "outputs": [
    {
     "name": "stdout",
     "output_type": "stream",
     "text": [
      "The autoreload extension is already loaded. To reload it, use:\n",
      "  %reload_ext autoreload\n"
     ]
    }
   ],
   "source": [
    "%load_ext autoreload\n",
    "%autoreload 2\n",
    "\n",
    "import whynot as wn\n",
    "import networkx as nx\n",
    "import pandas as pd"
   ]
  },
  {
   "cell_type": "code",
   "execution_count": 2,
   "metadata": {},
   "outputs": [],
   "source": [
    "# To enable tracing of user-generated functions to construct the experiment,\n",
    "# we have to import a thinly-wrapped version of numpy\n",
    "import whynot.traceable_numpy as np"
   ]
  },
  {
   "cell_type": "markdown",
   "metadata": {},
   "source": [
    "To showcase graph construction, we conduct a simple experiment on the Lotka-Volterra simulator to illustrate how to use causal graph construction. \n",
    "- The Lotka-Volterra simulator consists of two states, the rabbit population and the fox population. \n",
    "- The dynamics of the simulator are fully connected, so both the number of rabbits and foxes at time $t$ influence the number of rabbits at time $t+1$ and similarly for foxes. \n",
    "- We run the simulator for six time steps. \n",
    "- On the third time steps, we intervene to reduce the `fox_growth` parameter, i.e. the factor describing how rabbits are needed to sustain a fox. \n",
    "- To generate confounding, treatment is more likely when the fox poulation at time step 3 is low. \n",
    "- The outcome is the total fox population at time 6.\n",
    "- The observed covariates is the fox and rabbit population at the time of intervention."
   ]
  },
  {
   "cell_type": "code",
   "execution_count": 3,
   "metadata": {},
   "outputs": [],
   "source": [
    "# User-defined helper functions for the experiment\n",
    "\n",
    "def sample_initial_states(rng):\n",
    "    \"\"\"Initial state distribution\"\"\"\n",
    "    rabbits = rng.randint(10, 100)\n",
    "    # Ensure the number of rabbits is greater than number of foxes.\n",
    "    foxes = rng.uniform(0.1, 0.8) * rabbits\n",
    "    return wn.lotka_volterra.State(rabbits=rabbits, foxes=foxes)\n",
    "\n",
    "def soft_threshold(x, threshold, r=20):\n",
    "    \"\"\"A continuous relaxation of the threshold function. If x > tau, return ~1, if x < tau, returns ~0.\"\"\"\n",
    "    return 1. / (np.exp(r * (threshold  - x)) + 1)\n",
    "\n",
    "\n",
    "def confounded_propensity_scores(untreated_run, intervention):\n",
    "    \"\"\"Return confounded treatment assignment probability.\n",
    "    Treatment is more likely for runs with low initial fox population.\n",
    "    \"\"\"\n",
    "    return 0.3 + 0.4 * (1. - soft_threshold(untreated_run[intervention.time].foxes, threshold=7))\n",
    "\n",
    "def covariate_observer(run, intervention):\n",
    "    \"\"\"Return the full state at the time step before and at the time of intervention.\"\"\"\n",
    "    prev_state = run[max(intervention.time - 1, 0)].values()\n",
    "    curr_state = run[intervention.time].values()\n",
    "    return np.concatenate([prev_state, curr_state])\n",
    "\n",
    "def outcome_extractor(run, config):\n",
    "    \"\"\"Final fox population.\"\"\"\n",
    "    return run[config.end_time].foxes"
   ]
  },
  {
   "cell_type": "code",
   "execution_count": 4,
   "metadata": {},
   "outputs": [],
   "source": [
    "# Construct the experiment\n",
    "exp = wn.DynamicsExperiment(\n",
    "    name=\"lotka_volterra_confounding\",\n",
    "    description=(\"Determine effect of reducing rabbits needed to sustain a fox. Treament confounded by initial fox population.\"),\n",
    "    simulator=wn.lotka_volterra,\n",
    "    simulator_config=wn.lotka_volterra.Config(fox_growth=0.75, delta_t=1, end_time=6),\n",
    "    intervention=wn.lotka_volterra.Intervention(time=3, fox_growth=0.4),\n",
    "    state_sampler=sample_initial_states,\n",
    "    propensity_scorer=confounded_propensity_scores,\n",
    "    outcome_extractor=outcome_extractor,\n",
    "    covariate_builder=covariate_observer)"
   ]
  },
  {
   "cell_type": "markdown",
   "metadata": {},
   "source": [
    "To generate the causal graph associated with the experiment, pass `causal_graph=True` into the `experiment.run` function."
   ]
  },
  {
   "cell_type": "code",
   "execution_count": 5,
   "metadata": {},
   "outputs": [],
   "source": [
    "dset = exp.run(num_samples=100, causal_graph=True)"
   ]
  },
  {
   "cell_type": "code",
   "execution_count": 6,
   "metadata": {},
   "outputs": [],
   "source": [
    "# The causal graph is a networkx object\n",
    "graph = dset.causal_graph"
   ]
  },
  {
   "cell_type": "code",
   "execution_count": 7,
   "metadata": {},
   "outputs": [
    {
     "data": {
      "text/plain": [
       "NodeView(('rabbits_0', 'foxes_0', 'rabbit_growth_0', 'rabbit_death_0', 'fox_death_0', 'fox_growth_0', 'rabbits_1', 'foxes_1', 'rabbit_growth_1', 'rabbit_death_1', 'fox_death_1', 'fox_growth_1', 'rabbits_2', 'foxes_2', 'rabbit_growth_2', 'rabbit_death_2', 'fox_death_2', 'fox_growth_2', 'rabbits_3', 'foxes_3', 'rabbit_growth_3', 'rabbit_death_3', 'fox_death_3', 'fox_growth_3', 'rabbits_4', 'foxes_4', 'rabbit_growth_4', 'rabbit_death_4', 'fox_death_4', 'fox_growth_4', 'rabbits_5', 'foxes_5', 'rabbit_growth_5', 'rabbit_death_5', 'fox_death_5', 'fox_growth_5', 'rabbits_6', 'foxes_6', 'rabbit_growth_6', 'rabbit_death_6', 'fox_death_6', 'fox_growth_6', 'Treatment', 'Outcome'))"
      ]
     },
     "execution_count": 7,
     "metadata": {},
     "output_type": "execute_result"
    }
   ],
   "source": [
    "# The nodes in the causal graphs are the state variables for the unrolled dynamics,\n",
    "# the configuration parameters, the treatment, and the outcome\n",
    "graph.nodes"
   ]
  },
  {
   "cell_type": "code",
   "execution_count": 8,
   "metadata": {},
   "outputs": [
    {
     "data": {
      "text/plain": [
       "InEdgeDataView([('foxes_3', 'Treatment')])"
      ]
     },
     "execution_count": 8,
     "metadata": {},
     "output_type": "execute_result"
    }
   ],
   "source": [
    "# Treatment only directly depends on the fox population at time 3\n",
    "graph.in_edges(\"Treatment\")"
   ]
  },
  {
   "cell_type": "code",
   "execution_count": 9,
   "metadata": {},
   "outputs": [
    {
     "data": {
      "text/plain": [
       "OutEdgeDataView([('Treatment', 'fox_growth_3'), ('Treatment', 'fox_growth_4'), ('Treatment', 'fox_growth_5'), ('Treatment', 'fox_growth_6')])"
      ]
     },
     "execution_count": 9,
     "metadata": {},
     "output_type": "execute_result"
    }
   ],
   "source": [
    "# Treatment affects fox_growth at all times steps >=3 \n",
    "graph.out_edges(\"Treatment\")"
   ]
  },
  {
   "cell_type": "code",
   "execution_count": 10,
   "metadata": {},
   "outputs": [
    {
     "data": {
      "text/plain": [
       "InEdgeDataView([('foxes_6', 'Outcome')])"
      ]
     },
     "execution_count": 10,
     "metadata": {},
     "output_type": "execute_result"
    }
   ],
   "source": [
    "# The outcome only depends on the final fox population\n",
    "graph.in_edges(\"Outcome\")"
   ]
  },
  {
   "cell_type": "code",
   "execution_count": 11,
   "metadata": {},
   "outputs": [
    {
     "name": "stdout",
     "output_type": "stream",
     "text": [
      "rabbits_2\n",
      "foxes_2\n",
      "rabbits_3\n",
      "foxes_3\n",
      "Treatment\n",
      "Outcome\n"
     ]
    }
   ],
   "source": [
    "# The observed covariates are foxes and rabbits at the step before intervention, i.e. step 2\n",
    "for node, data in graph.nodes.items():\n",
    "    if data[\"observed\"] == \"yes\":\n",
    "        print(node)"
   ]
  },
  {
   "cell_type": "markdown",
   "metadata": {},
   "source": [
    "With access to the causal graph, we can use causal inference methods based on graphical analysis. We make use of the [DoWhy package](https://github.com/microsoft/dowhy) to demonstrate how combine data from WhyNot with graphical methods."
   ]
  },
  {
   "cell_type": "code",
   "execution_count": 12,
   "metadata": {},
   "outputs": [
    {
     "data": {
      "text/html": [
       "<div>\n",
       "<style scoped>\n",
       "    .dataframe tbody tr th:only-of-type {\n",
       "        vertical-align: middle;\n",
       "    }\n",
       "\n",
       "    .dataframe tbody tr th {\n",
       "        vertical-align: top;\n",
       "    }\n",
       "\n",
       "    .dataframe thead th {\n",
       "        text-align: right;\n",
       "    }\n",
       "</style>\n",
       "<table border=\"1\" class=\"dataframe\">\n",
       "  <thead>\n",
       "    <tr style=\"text-align: right;\">\n",
       "      <th></th>\n",
       "      <th>rabbits_2</th>\n",
       "      <th>foxes_2</th>\n",
       "      <th>rabbits_3</th>\n",
       "      <th>foxes_3</th>\n",
       "      <th>Treatment</th>\n",
       "      <th>Outcome</th>\n",
       "    </tr>\n",
       "  </thead>\n",
       "  <tbody>\n",
       "    <tr>\n",
       "      <th>0</th>\n",
       "      <td>5.251042</td>\n",
       "      <td>10.091993</td>\n",
       "      <td>7.699480</td>\n",
       "      <td>3.550094</td>\n",
       "      <td>1.0</td>\n",
       "      <td>2.766330</td>\n",
       "    </tr>\n",
       "    <tr>\n",
       "      <th>1</th>\n",
       "      <td>0.992871</td>\n",
       "      <td>7.090575</td>\n",
       "      <td>1.846604</td>\n",
       "      <td>1.746722</td>\n",
       "      <td>1.0</td>\n",
       "      <td>0.068187</td>\n",
       "    </tr>\n",
       "    <tr>\n",
       "      <th>2</th>\n",
       "      <td>3.218797</td>\n",
       "      <td>6.540883</td>\n",
       "      <td>5.994306</td>\n",
       "      <td>2.015959</td>\n",
       "      <td>0.0</td>\n",
       "      <td>13.268573</td>\n",
       "    </tr>\n",
       "    <tr>\n",
       "      <th>3</th>\n",
       "      <td>0.266265</td>\n",
       "      <td>7.378253</td>\n",
       "      <td>0.492295</td>\n",
       "      <td>1.690392</td>\n",
       "      <td>0.0</td>\n",
       "      <td>0.035348</td>\n",
       "    </tr>\n",
       "    <tr>\n",
       "      <th>4</th>\n",
       "      <td>0.586202</td>\n",
       "      <td>7.098729</td>\n",
       "      <td>1.095395</td>\n",
       "      <td>1.679466</td>\n",
       "      <td>0.0</td>\n",
       "      <td>0.075772</td>\n",
       "    </tr>\n",
       "  </tbody>\n",
       "</table>\n",
       "</div>"
      ],
      "text/plain": [
       "   rabbits_2    foxes_2  rabbits_3   foxes_3  Treatment    Outcome\n",
       "0   5.251042  10.091993   7.699480  3.550094        1.0   2.766330\n",
       "1   0.992871   7.090575   1.846604  1.746722        1.0   0.068187\n",
       "2   3.218797   6.540883   5.994306  2.015959        0.0  13.268573\n",
       "3   0.266265   7.378253   0.492295  1.690392        0.0   0.035348\n",
       "4   0.586202   7.098729   1.095395  1.679466        0.0   0.075772"
      ]
     },
     "execution_count": 12,
     "metadata": {},
     "output_type": "execute_result"
    }
   ],
   "source": [
    "# Convert the dataset into a pandas datafrom\n",
    "data = np.concatenate([dset.covariates, dset.treatments.reshape(-1, 1), dset.outcomes.reshape(-1, 1)], axis=1)\n",
    "df = pd.DataFrame(data, columns=graph.graph[\"covariate_names\"] + [\"Treatment\", \"Outcome\"])\n",
    "df.head()"
   ]
  },
  {
   "cell_type": "code",
   "execution_count": null,
   "metadata": {},
   "outputs": [],
   "source": [
    "# Install DoWhy\n",
    "!pip install dowhy"
   ]
  },
  {
   "cell_type": "code",
   "execution_count": 14,
   "metadata": {},
   "outputs": [],
   "source": [
    "from dowhy.causal_model import CausalModel"
   ]
  },
  {
   "cell_type": "code",
   "execution_count": 17,
   "metadata": {},
   "outputs": [],
   "source": [
    "# DoWhy expects a direct edge from Treatment->Outcome\n",
    "graph.add_edges_from([(\"Treatment\", \"Outcome\")])\n",
    "del graph.graph[\"covariate_names\"]\n",
    "nx.write_gml(graph, \"lotka_volterra_confounding.gml\")"
   ]
  },
  {
   "cell_type": "code",
   "execution_count": 18,
   "metadata": {},
   "outputs": [
    {
     "name": "stderr",
     "output_type": "stream",
     "text": [
      "INFO:dowhy.causal_model:Model to find the causal effect of treatment ['Treatment'] on outcome ['Outcome']\n"
     ]
    }
   ],
   "source": [
    "model = CausalModel(\n",
    "    data=df,\n",
    "    treatment=\"Treatment\",\n",
    "    outcome=\"Outcome\",\n",
    "    graph=\"lotka_volterra_confounding.gml\")"
   ]
  },
  {
   "cell_type": "code",
   "execution_count": 19,
   "metadata": {},
   "outputs": [
    {
     "name": "stderr",
     "output_type": "stream",
     "text": [
      "INFO:dowhy.causal_identifier:Common causes of treatment and outcome:['fox_death_1', 'rabbit_growth_0', 'rabbit_death_1', 'rabbits_1', 'foxes_1', 'foxes_0', 'rabbits_2', 'fox_growth_1', 'rabbit_growth_1', 'foxes_3', 'foxes_2', 'fox_death_2', 'fox_growth_2', 'fox_death_0', 'rabbits_0', 'rabbit_death_2', 'fox_growth_0', 'rabbit_death_0']\n",
      "WARNING:dowhy.causal_identifier:There are unobserved common causes. Causal effect cannot be identified.\n"
     ]
    },
    {
     "name": "stdout",
     "output_type": "stream",
     "text": [
      "WARN: Do you want to continue by ignoring these unobserved confounders? [y/n] y\n"
     ]
    },
    {
     "name": "stderr",
     "output_type": "stream",
     "text": [
      "INFO:dowhy.causal_identifier:Instrumental variables for treatment and outcome:[]\n"
     ]
    },
    {
     "name": "stdout",
     "output_type": "stream",
     "text": [
      "{'estimand': Derivative(Expectation(Outcome|rabbits_2,foxes_3,foxes_2), Treatment), 'assumptions': {'Unconfoundedness': 'If U→Treatment and U→Outcome then P(Outcome|Treatment,rabbits_2,foxes_3,foxes_2,U) = P(Outcome|Treatment,rabbits_2,foxes_3,foxes_2)'}}\n",
      "Estimand type: ate\n",
      "### Estimand : 1\n",
      "Estimand name: backdoor\n",
      "Estimand expression:\n",
      "    d                                                     \n",
      "──────────(Expectation(Outcome|rabbits_2,foxes_3,foxes_2))\n",
      "dTreatment                                                \n",
      "Estimand assumption 1, Unconfoundedness: If U→Treatment and U→Outcome then P(Outcome|Treatment,rabbits_2,foxes_3,foxes_2,U) = P(Outcome|Treatment,rabbits_2,foxes_3,foxes_2)\n",
      "### Estimand : 2\n",
      "Estimand name: iv\n",
      "No such variable found!\n",
      "\n"
     ]
    }
   ],
   "source": [
    "# Identify causal effect and return target estimands. There are unobserved common causes,\n",
    "# but there exists a set of variables that blocks all backdoor paths. DoWhy doesn't seem to account for this?\n",
    "identified_estimand = model.identify_effect()\n",
    "print(identified_estimand)"
   ]
  },
  {
   "cell_type": "code",
   "execution_count": 20,
   "metadata": {},
   "outputs": [
    {
     "name": "stderr",
     "output_type": "stream",
     "text": [
      "INFO:dowhy.causal_estimator:INFO: Using Propensity Score Matching Estimator\n",
      "INFO:dowhy.causal_estimator:b: Outcome~Treatment+rabbits_2+foxes_3+foxes_2\n"
     ]
    },
    {
     "name": "stdout",
     "output_type": "stream",
     "text": [
      "*** Causal Estimate ***\n",
      "\n",
      "## Target estimand\n",
      "Estimand type: ate\n",
      "### Estimand : 1\n",
      "Estimand name: backdoor\n",
      "Estimand expression:\n",
      "    d                                                     \n",
      "──────────(Expectation(Outcome|rabbits_2,foxes_3,foxes_2))\n",
      "dTreatment                                                \n",
      "Estimand assumption 1, Unconfoundedness: If U→Treatment and U→Outcome then P(Outcome|Treatment,rabbits_2,foxes_3,foxes_2,U) = P(Outcome|Treatment,rabbits_2,foxes_3,foxes_2)\n",
      "### Estimand : 2\n",
      "Estimand name: iv\n",
      "No such variable found!\n",
      "\n",
      "## Realized estimand\n",
      "b: Outcome~Treatment+rabbits_2+foxes_3+foxes_2\n",
      "## Estimate\n",
      "Value: -7.655575689477137\n",
      "\n"
     ]
    },
    {
     "name": "stderr",
     "output_type": "stream",
     "text": [
      "/Users/JohnMiller/research/dowhy/dowhy/causal_estimators/propensity_score_matching_estimator.py:51: FutureWarning: `item` has been deprecated and will be removed in a future version\n",
      "  control_outcome = control.iloc[indices[i]][self._outcome_name].item()\n"
     ]
    }
   ],
   "source": [
    "# Estimate the target estimand using a statistical method.\n",
    "estimate = model.estimate_effect(identified_estimand,\n",
    "                                 method_name=\"backdoor.propensity_score_matching\")\n",
    "print(estimate)"
   ]
  },
  {
   "cell_type": "code",
   "execution_count": null,
   "metadata": {},
   "outputs": [],
   "source": []
  }
 ],
 "metadata": {
  "kernelspec": {
   "display_name": "Python 3",
   "language": "python",
   "name": "python3"
  },
  "language_info": {
   "codemirror_mode": {
    "name": "ipython",
    "version": 3
   },
   "file_extension": ".py",
   "mimetype": "text/x-python",
   "name": "python",
   "nbconvert_exporter": "python",
   "pygments_lexer": "ipython3",
   "version": "3.7.5"
  }
 },
 "nbformat": 4,
 "nbformat_minor": 2
}

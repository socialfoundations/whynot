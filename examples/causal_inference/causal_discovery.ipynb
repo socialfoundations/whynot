{
 "cells": [
  {
   "cell_type": "markdown",
   "metadata": {},
   "source": [
    "# Causal Discovery with WhyNot"
   ]
  },
  {
   "cell_type": "markdown",
   "metadata": {},
   "source": [
    "WhyNot provides tools to automatically construct *the causal graph* associated with runs of the dynamical system simulators.\n",
    "Building off of work in [automatic differentiation](https://github.com/HIPS/autograd), WhyNot traces the evoluation of the state variables\n",
    "during simulation and builds up the corresponding causal graph. This allows the developer to write complicated simulators using raw Python\n",
    "and Numpy and then automatically extract the graph of the dynamics in a way that is more flexible and less error-prone than tracking the dynamics by hand.\n",
    "\n",
    "\n",
    "In this notebook, we leverage these tools to test causal discovery algorithms. In particular, we run an experiment to discover the causal structure of the dynamics for the [HIV simulator](https://whynot-docs.readthedocs-hosted.com/en/latest/simulators.html#adams-hiv-simulator). We then evaluate the performance of the IC* (Inductive Causation with latent variables) algorithm from Pearl, 2000. We use the independence tests and IC implementation provided by the [causality](https://www.github.com/akelleh/causality) package.\n",
    "\n",
    "\n",
    "**Note**: This feature is still experimental, and there are likely a few rough edges."
   ]
  },
  {
   "cell_type": "code",
   "execution_count": 3,
   "metadata": {},
   "outputs": [
    {
     "name": "stdout",
     "output_type": "stream",
     "text": [
      "The autoreload extension is already loaded. To reload it, use:\n",
      "  %reload_ext autoreload\n"
     ]
    }
   ],
   "source": [
    "%load_ext autoreload\n",
    "%autoreload 2\n",
    "\n",
    "import itertools\n",
    "import whynot as wn\n",
    "import numpy as np\n",
    "import pandas as pd\n",
    "\n",
    "import scripts.causal_search as utils"
   ]
  },
  {
   "cell_type": "markdown",
   "metadata": {},
   "source": [
    "## Learning the dynamics of the HIV simulator\n",
    "\n",
    "We run an experiment to discover the causal structure of the dynamics for the HIV simulator. Rather than try to learn the structure for the entire unrolled dynamics, we instead focus on learning the causal structure of the dynamics *for a single time step*. \n",
    "\n",
    "There are 6 states in the simulator. Given a state $x_t \\in \\mathbb{R}^6$, the dynamics evolve according to $x_{t+1} = f(x_t) \\in \\mathbb{R}^6$, and we wish to uncover how each component of $x_{t+1}$, e.g. \"infected CD4+ T-lymphocytes\", depends on the components of $x_t$, e.g. \"infected macrophages.\" \n",
    "\n",
    "Hence, in this experiment, there are 12 nodes (one for each component of the state at time steps $t$ and $t+1$), and 20 directed edges between them determined by tracing the simulator execution."
   ]
  },
  {
   "cell_type": "markdown",
   "metadata": {},
   "source": [
    "## Generating data\n",
    "\n",
    "We first generate the initial state. Each initial state is an IID draw from the state distribution given by\n",
    "randomly perturbing the default simulator state.\n",
    "\n"
   ]
  },
  {
   "cell_type": "code",
   "execution_count": 4,
   "metadata": {},
   "outputs": [],
   "source": [
    "def sample_initial_state():\n",
    "    \"\"\"Sample initial state by randomly perturbing the default state.\"\"\"\n",
    "    state = wn.hiv.State().values()\n",
    "    perturbed = state * np.random.uniform(low=0.95, high=1.05, size=6)\n",
    "    return wn.hiv.State(*perturbed)\n",
    "\n",
    "initial_states = [sample_initial_state() for _ in range(500)]"
   ]
  },
  {
   "cell_type": "markdown",
   "metadata": {},
   "source": [
    "Given initial states, we run the simulator for a single time step forward."
   ]
  },
  {
   "cell_type": "code",
   "execution_count": 6,
   "metadata": {},
   "outputs": [],
   "source": [
    "config = wn.hiv.Config(delta_t=1.0, start_time=0, end_time=1)\n",
    "runs = [wn.hiv.simulate(init_state, config) for init_state in initial_states]"
   ]
  },
  {
   "cell_type": "markdown",
   "metadata": {},
   "source": [
    "## Extracting the causal graph\n",
    "\n",
    "WhyNot provides tools to automatically construct the causal graph from simulator executions. "
   ]
  },
  {
   "cell_type": "code",
   "execution_count": 11,
   "metadata": {},
   "outputs": [
    {
     "name": "stdout",
     "output_type": "stream",
     "text": [
      "Number of nodes: 12, Number of edges: 20\n",
      "['uninfected_T1_0.0', 'infected_T1_0.0', 'uninfected_T2_0.0', 'infected_T2_0.0', 'free_virus_0.0', 'immune_response_0.0', 'uninfected_T1_1.0', 'infected_T1_1.0', 'uninfected_T2_1.0', 'infected_T2_1.0', 'free_virus_1.0', 'immune_response_1.0']\n"
     ]
    }
   ],
   "source": [
    "true_graph = wn.causal_graphs.build_dynamics_graph(wn.hiv, runs, config)\n",
    "\n",
    "print(f\"Number of nodes: {len(true_graph.nodes)}, Number of edges: {len(true_graph.edges)}\")\n",
    "print(true_graph.nodes)"
   ]
  },
  {
   "cell_type": "markdown",
   "metadata": {},
   "source": [
    "## Running the IC* algorithm for causal discovery \n",
    "\n",
    "We first reformat the generated data into a dataframe, and then we pass this dataframe to the IC* algorithm\n",
    "to learn the underlying structure between the variables."
   ]
  },
  {
   "cell_type": "code",
   "execution_count": 13,
   "metadata": {},
   "outputs": [
    {
     "data": {
      "text/html": [
       "<div>\n",
       "<style scoped>\n",
       "    .dataframe tbody tr th:only-of-type {\n",
       "        vertical-align: middle;\n",
       "    }\n",
       "\n",
       "    .dataframe tbody tr th {\n",
       "        vertical-align: top;\n",
       "    }\n",
       "\n",
       "    .dataframe thead th {\n",
       "        text-align: right;\n",
       "    }\n",
       "</style>\n",
       "<table border=\"1\" class=\"dataframe\">\n",
       "  <thead>\n",
       "    <tr style=\"text-align: right;\">\n",
       "      <th></th>\n",
       "      <th>uninfected_T1_0.0</th>\n",
       "      <th>infected_T1_0.0</th>\n",
       "      <th>uninfected_T2_0.0</th>\n",
       "      <th>infected_T2_0.0</th>\n",
       "      <th>free_virus_0.0</th>\n",
       "      <th>immune_response_0.0</th>\n",
       "      <th>uninfected_T1_1.0</th>\n",
       "      <th>infected_T1_1.0</th>\n",
       "      <th>uninfected_T2_1.0</th>\n",
       "      <th>infected_T2_1.0</th>\n",
       "      <th>free_virus_1.0</th>\n",
       "      <th>immune_response_1.0</th>\n",
       "    </tr>\n",
       "  </thead>\n",
       "  <tbody>\n",
       "    <tr>\n",
       "      <th>0</th>\n",
       "      <td>9.945398e+05</td>\n",
       "      <td>0.000096</td>\n",
       "      <td>3156.788491</td>\n",
       "      <td>0.000100</td>\n",
       "      <td>1.046378</td>\n",
       "      <td>10.106029</td>\n",
       "      <td>9.945924e+05</td>\n",
       "      <td>1.485004</td>\n",
       "      <td>3156.502390</td>\n",
       "      <td>0.589193</td>\n",
       "      <td>8.163717</td>\n",
       "      <td>10.109272</td>\n",
       "    </tr>\n",
       "    <tr>\n",
       "      <th>1</th>\n",
       "      <td>1.005778e+06</td>\n",
       "      <td>0.000100</td>\n",
       "      <td>3111.359607</td>\n",
       "      <td>0.000098</td>\n",
       "      <td>0.997685</td>\n",
       "      <td>10.311317</td>\n",
       "      <td>1.005719e+06</td>\n",
       "      <td>1.448924</td>\n",
       "      <td>3111.559890</td>\n",
       "      <td>0.560389</td>\n",
       "      <td>7.900592</td>\n",
       "      <td>10.294816</td>\n",
       "    </tr>\n",
       "    <tr>\n",
       "      <th>2</th>\n",
       "      <td>9.589165e+05</td>\n",
       "      <td>0.000103</td>\n",
       "      <td>3229.393540</td>\n",
       "      <td>0.000096</td>\n",
       "      <td>1.044209</td>\n",
       "      <td>9.528145</td>\n",
       "      <td>9.593237e+05</td>\n",
       "      <td>1.351149</td>\n",
       "      <td>3228.407837</td>\n",
       "      <td>0.568524</td>\n",
       "      <td>7.591201</td>\n",
       "      <td>9.584920</td>\n",
       "    </tr>\n",
       "    <tr>\n",
       "      <th>3</th>\n",
       "      <td>1.038134e+06</td>\n",
       "      <td>0.000097</td>\n",
       "      <td>3261.808979</td>\n",
       "      <td>0.000101</td>\n",
       "      <td>0.995414</td>\n",
       "      <td>10.051760</td>\n",
       "      <td>1.037752e+06</td>\n",
       "      <td>1.660425</td>\n",
       "      <td>3260.407173</td>\n",
       "      <td>0.652166</td>\n",
       "      <td>9.012320</td>\n",
       "      <td>10.061156</td>\n",
       "    </tr>\n",
       "    <tr>\n",
       "      <th>4</th>\n",
       "      <td>9.507572e+05</td>\n",
       "      <td>0.000100</td>\n",
       "      <td>3156.497745</td>\n",
       "      <td>0.000102</td>\n",
       "      <td>0.965206</td>\n",
       "      <td>9.537344</td>\n",
       "      <td>9.512458e+05</td>\n",
       "      <td>1.194011</td>\n",
       "      <td>3156.323130</td>\n",
       "      <td>0.495346</td>\n",
       "      <td>6.701102</td>\n",
       "      <td>9.591946</td>\n",
       "    </tr>\n",
       "  </tbody>\n",
       "</table>\n",
       "</div>"
      ],
      "text/plain": [
       "   uninfected_T1_0.0  infected_T1_0.0  uninfected_T2_0.0  infected_T2_0.0  \\\n",
       "0       9.945398e+05         0.000096        3156.788491         0.000100   \n",
       "1       1.005778e+06         0.000100        3111.359607         0.000098   \n",
       "2       9.589165e+05         0.000103        3229.393540         0.000096   \n",
       "3       1.038134e+06         0.000097        3261.808979         0.000101   \n",
       "4       9.507572e+05         0.000100        3156.497745         0.000102   \n",
       "\n",
       "   free_virus_0.0  immune_response_0.0  uninfected_T1_1.0  infected_T1_1.0  \\\n",
       "0        1.046378            10.106029       9.945924e+05         1.485004   \n",
       "1        0.997685            10.311317       1.005719e+06         1.448924   \n",
       "2        1.044209             9.528145       9.593237e+05         1.351149   \n",
       "3        0.995414            10.051760       1.037752e+06         1.660425   \n",
       "4        0.965206             9.537344       9.512458e+05         1.194011   \n",
       "\n",
       "   uninfected_T2_1.0  infected_T2_1.0  free_virus_1.0  immune_response_1.0  \n",
       "0        3156.502390         0.589193        8.163717            10.109272  \n",
       "1        3111.559890         0.560389        7.900592            10.294816  \n",
       "2        3228.407837         0.568524        7.591201             9.584920  \n",
       "3        3260.407173         0.652166        9.012320            10.061156  \n",
       "4        3156.323130         0.495346        6.701102             9.591946  "
      ]
     },
     "execution_count": 13,
     "metadata": {},
     "output_type": "execute_result"
    }
   ],
   "source": [
    "# Generate a dataset consisting of all of the simulator covariates, unrolled over time\n",
    "def flatten(run):\n",
    "    \"\"\"Flatten the covariates into a single long observation\"\"\"\n",
    "    return np.concatenate([state.values() for state in run.states])\n",
    "\n",
    "data = np.array([flatten(run) for run in runs]) \n",
    "columns = [f\"{name}_{time}\" for time, name in itertools.product(runs[0].times, wn.hiv.State.variable_names())]\n",
    "df_hiv = pd.DataFrame(data, columns=columns)\n",
    "df_hiv.head()"
   ]
  },
  {
   "cell_type": "markdown",
   "metadata": {},
   "source": [
    "### Run the search algorithm. \n",
    "\n",
    "This might take a while."
   ]
  },
  {
   "cell_type": "code",
   "execution_count": 14,
   "metadata": {},
   "outputs": [],
   "source": [
    "ic_algorithm = IC(RobustRegressionTest)\n",
    "estimated_graph = ic_algorithm.search(df_hiv, variable_types={column: 'c' for column in columns})"
   ]
  },
  {
   "cell_type": "markdown",
   "metadata": {},
   "source": [
    "## Evaluating the results\n",
    "\n",
    "How well did the causal structure learning algorithm perform?"
   ]
  },
  {
   "cell_type": "code",
   "execution_count": 15,
   "metadata": {},
   "outputs": [
    {
     "name": "stdout",
     "output_type": "stream",
     "text": [
      "Original Graph: 20 edges, Estimated Graph: 14 edges\n",
      "Undirected Edge F1 Score: 0.29\n",
      "Directed Edge F1 Score: 0.09\n"
     ]
    }
   ],
   "source": [
    "print(\"Original Graph: {} edges, Estimated Graph: {} edges\".format(len(true_graph.edges), len(estimated_graph.edges)))\n",
    "print(\"Undirected Edge F1 Score: {:.2f}\".format(undirected_f1(true_graph, estimated_graph)))\n",
    "print(\"Directed Edge F1 Score: {:.2f}\".format(directed_f1(true_graph, estimated_graph)))"
   ]
  }
 ],
 "metadata": {
  "kernelspec": {
   "display_name": "Python 3",
   "language": "python",
   "name": "python3"
  },
  "language_info": {
   "codemirror_mode": {
    "name": "ipython",
    "version": 3
   },
   "file_extension": ".py",
   "mimetype": "text/x-python",
   "name": "python",
   "nbconvert_exporter": "python",
   "pygments_lexer": "ipython3",
   "version": "3.7.5"
  }
 },
 "nbformat": 4,
 "nbformat_minor": 2
}

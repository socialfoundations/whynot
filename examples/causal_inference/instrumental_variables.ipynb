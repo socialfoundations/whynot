{
 "cells": [
  {
   "cell_type": "markdown",
   "metadata": {},
   "source": [
    "# Exploring Instrumental Variables with the [HIV Simulator](https://whynot-docs.readthedocs-hosted.com/en/latest/simulators.html#adams-hiv-simulator)\n"
   ]
  },
  {
   "cell_type": "markdown",
   "metadata": {},
   "source": [
    "This notebook demonstrates how to generate non-trivial observational datasets with WhyNot and uses the dataset to explore instrumental variables.\n",
    "\n",
    "We start by importing necessary packages."
   ]
  },
  {
   "cell_type": "code",
   "execution_count": 1,
   "metadata": {},
   "outputs": [],
   "source": [
    "import whynot as wn\n",
    "import numpy as np\n",
    "import statsmodels.api as sm\n",
    "from sklearn.linear_model import LogisticRegression"
   ]
  },
  {
   "cell_type": "markdown",
   "metadata": {},
   "source": [
    "# Instrumental Variables Background"
   ]
  },
  {
   "cell_type": "markdown",
   "metadata": {},
   "source": [
    "Suppose that we measure a set of features $X_1,\\dots,X_n$, and a target outcome $Y$, for multiple different units. Some fraction of the units receives a treatment; hence, we also have access to a binary variable $T$ which indicates whether the given unit was treated or not."
   ]
  },
  {
   "cell_type": "markdown",
   "metadata": {},
   "source": [
    "We are interested in finding the average causal effect of treating a unit. In the language of causality, we want to find\n",
    "$$$$\n",
    "$$\\mathbb{E}[Y|\\text{do}(T=1)] - \\mathbb{E}[Y|\\text{do}(T=0)].$$"
   ]
  },
  {
   "cell_type": "markdown",
   "metadata": {},
   "source": [
    "We assume that the outcome is generated as a linear function of the features and the treatment:\n",
    "$$$$\n",
    "$$Y = \\alpha T + \\sum_{i=1}^n \\beta_i X_i.$$"
   ]
  },
  {
   "cell_type": "markdown",
   "metadata": {},
   "source": [
    "If the treatment is uncorrelated with the feature variables, ordinary least squares (OLS) yields unbiased results, giving $\\alpha$ in expectation. However, the treatment is often correlated with the features; the fact that a unit receives a treatment indicates that a treatment was necessary in the first place."
   ]
  },
  {
   "cell_type": "markdown",
   "metadata": {},
   "source": [
    "One way to get around this issue is by using instrumental variables (IVs). A valid instrument $Z$ is a variable which is independent of $X_1,\\dots,X_n$, and affects $Y$ only through $T$. Then, one way to estimate $\\alpha$ is to first \"guess\" $T$ from $Z$ (denoted $\\hat T$), and then regress $Y$ onto $\\{\\hat T, X_1,\\dots,X_n\\}$ (instead of $\\{T, X_1,\\dots,X_n\\}$). When $T$ is continuous, one common approach to estimating $\\alpha$ is using two-stage least-squares (2SLS), in which $\\hat T$ is obtained by regressing $T$ onto $Z$."
   ]
  },
  {
   "cell_type": "markdown",
   "metadata": {},
   "source": [
    "For a concrete example, suppose a researcher wishes to estimate the causal effect of quitting smoking on general health. Correlation between qutting smoking and general health does not necessarily imply that qutting smoking improves health, because other variables, such as exercising, might affect both one's general health and the decision to quit smoking. It is at best difficult and expensive to conduct controlled experiments on smoking status in the general population. However, the researcher may attempt to estimate the causal effect of quitting smoking on health from observational data by using the tax rate for tobacco products as an instrument for smoking. The tax rate for tobacco products is a reasonable choice for an instrument because the researcher assumes that it can only be correlated with health through its effect on whether an individual quits smoking or not. If the researcher then finds tobacco taxes and state of health to be correlated, this may be viewed as evidence that quitting smoking causes changes in health."
   ]
  },
  {
   "cell_type": "markdown",
   "metadata": {},
   "source": [
    "# Setting up the simulator"
   ]
  },
  {
   "cell_type": "markdown",
   "metadata": {},
   "source": [
    "We design an experiment on the [HIV simulator](https://whynot-docs.readthedocs-hosted.com/en/latest/simulators.html#adams-hiv-simulator) to demonstrate how to use instrumental variables to solve non-trivial causal inference problems.\n",
    "We consider an experiment where units (in this case, people) are more likely to receive effective treatment if their indicators of infection are worse. In other words, **treatment status is confounded with indicators of infection.**"
   ]
  },
  {
   "cell_type": "markdown",
   "metadata": {},
   "source": [
    "First, we write a function to generate the initial state (covariates) for each unit."
   ]
  },
  {
   "cell_type": "code",
   "execution_count": 2,
   "metadata": {},
   "outputs": [],
   "source": [
    "def initial_covariate_distribution(rng):\n",
    "    \"\"\"Sample initial state by randomly perturbing the default state.\n",
    "    \n",
    "    Parameters\n",
    "    ----------\n",
    "        rng: numpy random number generator.\n",
    "        \n",
    "    Return\n",
    "    ------\n",
    "        wn.hiv.State: Initial state of the simulator.\n",
    "    \"\"\"\n",
    "    def random_scale(scale, base=10):\n",
    "        \"\"\"Make 10**(-scale) to 10**scale smaller/bigger uniformly.\"\"\"\n",
    "        return rng.choice(np.logspace(-scale, scale, base=base, num=50))\n",
    "\n",
    "    state = wn.hiv.State()\n",
    "    state.uninfected_T1 *= random_scale(0.33)\n",
    "    state.infected_T1 *= random_scale(0.33)\n",
    "    state.uninfected_T2 *= random_scale(0.33)\n",
    "    state.infected_T2 *= random_scale(0.33)\n",
    "    state.free_virus *= random_scale(0.33)\n",
    "    state.immune_response *= random_scale(0.33)\n",
    "    \n",
    "    # Whether or not the unit is \"enrolled in the study\"\n",
    "    state.instrument = int(rng.rand() < 0.5)\n",
    "    return state"
   ]
  },
  {
   "cell_type": "markdown",
   "metadata": {},
   "source": [
    "Next, we write a function describing the probability of treatment assignment.\n",
    "\n",
    "In our model, the probability of treatment is higher if immune response and free virus are above a critical threshold. As an instrument, we suppose each unit is enrolled in the trial with some probability. Only \"enrolled\" units are actually treated."
   ]
  },
  {
   "cell_type": "code",
   "execution_count": 4,
   "metadata": {},
   "outputs": [],
   "source": [
    "def treatment_propensity(intervention, untreated_run):\n",
    "    \"\"\"Probability of treating each unit.\n",
    "\n",
    "    We are more likely to treat units with high immune response and free virus\n",
    "    at the time of intervention.\n",
    "    \n",
    "    Parameters\n",
    "    -----------\n",
    "        intervention: whynot.simulator.hiv.Intervention\n",
    "        untreated_run: whynot.dynamics.run\n",
    "            Rollout of the simulator without treatment.\n",
    "\n",
    "    Returns\n",
    "    -------\n",
    "        treatment_prob: Probability of assigning the unit to treatment.\n",
    "\n",
    "    \"\"\"\n",
    "    # Only treat units if they are enrolled in the study\n",
    "    run = untreated_run\n",
    "    if run.initial_state.instrument > 0:\n",
    "        if run[intervention.time].immune_response > 10 and run[intervention.time].free_virus > 1:\n",
    "            return 0.8\n",
    "    \n",
    "        return 0.2\n",
    "    \n",
    "    return 0."
   ]
  },
  {
   "cell_type": "markdown",
   "metadata": {},
   "source": [
    "Finally, we put these pieces together into a `DynamicsExperiment`. The covariates we have access to are 6 variables which are indicative of the individual's health, along with the instrument. The target outcome is the amount of infected macrophages (which should be lower after receiving treatment)."
   ]
  },
  {
   "cell_type": "code",
   "execution_count": 5,
   "metadata": {},
   "outputs": [],
   "source": [
    "# Construct an experiment on the HIV simulator. For detailed information on the space of configuration and intervention\n",
    "# parameters, see https://whynot-docs.readthedocs-hosted.com/en/latest/simulator_configs/hiv.html\n",
    "experiment = wn.DynamicsExperiment(\n",
    "    name=\"hiv_confounding\",\n",
    "    description=\"Study effect of increasing drug efficacy to decrease infected macrophages (cells/ml) with confounding.\",\n",
    "    # which simulator to use\n",
    "    simulator=wn.hiv,\n",
    "    # Configuration parameters for each rollout. Run for 150 steps.\n",
    "    simulator_config=wn.hiv.Config(epsilon_1=0.1, end_time=150),\n",
    "    # What intervention to perform in the simulator. \n",
    "    # In time step 100, increase drug efficacy from 0.1 to 0.5\n",
    "    intervention=wn.hiv.Intervention(time=100, epsilon_1=0.5),     \n",
    "    # Initial distribution over covariates\n",
    "    state_sampler=initial_covariate_distribution,\n",
    "    # Treatment assignment rule\n",
    "    propensity_scorer=treatment_propensity,\n",
    "    # Measured outcome: Infected macrophages (cells/ml) at step 150\n",
    "    outcome_extractor=lambda run: run[149].infected_T2,\n",
    "    # Observed covariates: Covariates of each unit at time of treatment and the instrument\n",
    "    covariate_builder=lambda intervention, run: np.append(run[100].values(), run.initial_state.instrument))"
   ]
  },
  {
   "cell_type": "code",
   "execution_count": 6,
   "metadata": {},
   "outputs": [
    {
     "data": {
      "text/plain": [
       "'Study effect of increasing drug efficacy to decrease infected macrophages (cells/ml) with confounding.'"
      ]
     },
     "execution_count": 6,
     "metadata": {},
     "output_type": "execute_result"
    }
   ],
   "source": [
    "experiment.description"
   ]
  },
  {
   "cell_type": "markdown",
   "metadata": {},
   "source": [
    "We gather data from 500 individuals, who are more likely to receive treatment if they show signs of severe infection."
   ]
  },
  {
   "cell_type": "code",
   "execution_count": 7,
   "metadata": {},
   "outputs": [
    {
     "data": {
      "application/vnd.jupyter.widget-view+json": {
       "model_id": "683594b07e7045efbd8a16f038d00fd8",
       "version_major": 2,
       "version_minor": 0
      },
      "text/plain": [
       "HBox(children=(IntProgress(value=0, max=500), HTML(value='')))"
      ]
     },
     "metadata": {},
     "output_type": "display_data"
    },
    {
     "name": "stdout",
     "output_type": "stream",
     "text": [
      "\n"
     ]
    }
   ],
   "source": [
    "dset = experiment.run(num_samples=500, show_progress=True)"
   ]
  },
  {
   "cell_type": "markdown",
   "metadata": {},
   "source": [
    "Since we can simulate counterfactual outcomes, we get the exact causal effect of receiving treatment for each individual, as well as the average causal effect."
   ]
  },
  {
   "cell_type": "code",
   "execution_count": 8,
   "metadata": {},
   "outputs": [
    {
     "name": "stdout",
     "output_type": "stream",
     "text": [
      "The average causal effect of receiving treatment is: 0.33\n"
     ]
    }
   ],
   "source": [
    "print(\"The average causal effect of receiving treatment is: {:.2f}\".format(dset.sate))"
   ]
  },
  {
   "cell_type": "code",
   "execution_count": 9,
   "metadata": {},
   "outputs": [],
   "source": [
    "# Split into covariates and the instrument\n",
    "(observations, T, Y) = dset.covariates, dset.treatments, dset.outcomes\n",
    "X, Z = observations[:, :-1], observations[:, -1:]"
   ]
  },
  {
   "cell_type": "markdown",
   "metadata": {},
   "source": [
    "First we run plain OLS to estimate the average causal effect."
   ]
  },
  {
   "cell_type": "code",
   "execution_count": 10,
   "metadata": {},
   "outputs": [
    {
     "name": "stdout",
     "output_type": "stream",
     "text": [
      "Relative Error in causal estimate of OLS: 1.99\n"
     ]
    }
   ],
   "source": [
    "ols_predictors = X\n",
    "ols_predictors = np.concatenate([T.reshape(-1,1), ols_predictors], axis=1)\n",
    "ols_model = sm.OLS(Y, ols_predictors)\n",
    "ols_results = ols_model.fit()\n",
    "est_ols = ols_results.params[0] # treatment is the first predictor\n",
    "ols_rel_error = np.abs((est_ols - dset.sate) / dset.sate)\n",
    "print(\"Relative Error in causal estimate of OLS: {:.2f}\".format(ols_rel_error))"
   ]
  },
  {
   "cell_type": "markdown",
   "metadata": {},
   "source": [
    "To eliminate the bias, we turn to instrumental variables. \"Enrollment\" in the study $Z$ is a valid instrumental variable in this setting. We first predict the treatment indicator $\\hat T$ from the instrument $Z$ using logistic regression, and then run OLS to regress $Y$ onto $\\hat T$ and the other variables."
   ]
  },
  {
   "cell_type": "code",
   "execution_count": 11,
   "metadata": {},
   "outputs": [],
   "source": [
    "instrument = Z - np.mean(Z)\n",
    "logistic_model = LogisticRegression(random_state=0, solver='lbfgs', multi_class='multinomial').fit(instrument.reshape(-1,1),T)\n",
    "T_hat = logistic_model.predict(instrument.reshape(-1,1))"
   ]
  },
  {
   "cell_type": "code",
   "execution_count": 12,
   "metadata": {},
   "outputs": [
    {
     "name": "stdout",
     "output_type": "stream",
     "text": [
      "Relative Error in causal estimate of IV: 0.70935\n"
     ]
    }
   ],
   "source": [
    "iv_features = np.concatenate([T_hat.reshape(-1,1), X], axis=1)\n",
    "iv_model = sm.OLS(Y, iv_features)\n",
    "iv_results = iv_model.fit()\n",
    "\n",
    "est_iv = iv_results.params[0]\n",
    "iv_rel_error = np.abs((est_iv - dset.sate) / dset.sate)\n",
    "print(\"Relative Error in causal estimate of IV: {:.5f}\".format(iv_rel_error))"
   ]
  },
  {
   "cell_type": "code",
   "execution_count": null,
   "metadata": {},
   "outputs": [],
   "source": []
  }
 ],
 "metadata": {
  "kernelspec": {
   "display_name": "Python 3",
   "language": "python",
   "name": "python3"
  },
  "language_info": {
   "codemirror_mode": {
    "name": "ipython",
    "version": 3
   },
   "file_extension": ".py",
   "mimetype": "text/x-python",
   "name": "python",
   "nbconvert_exporter": "python",
   "pygments_lexer": "ipython3",
   "version": "3.7.5"
  }
 },
 "nbformat": 4,
 "nbformat_minor": 2
}

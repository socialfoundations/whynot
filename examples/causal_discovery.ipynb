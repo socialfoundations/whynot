{
 "cells": [
  {
   "cell_type": "markdown",
   "metadata": {},
   "source": [
    "# Causal Discovery with WhyNot"
   ]
  },
  {
   "cell_type": "markdown",
   "metadata": {},
   "source": [
    "WhyNot provides tools to automatically construct *the causal graph* associated with runs of the dynamical system simulators.\n",
    "Building off of work in [automatic differentiation](https://github.com/HIPS/autograd), WhyNot traces the evoluation of the state variables\n",
    "during simulation and builds up the corresponding causal graph. This allows the developer to write complicated simulators using raw Python\n",
    "and Numpy and then automatically extract the graph of the dynamics in a way that is more flexible and less error-prone than tracking the dynamics by hand.\n",
    "\n",
    "\n",
    "In this notebook, we leverage these tools to test causal discovery algorithms. In particular, using the HIV simulator, we generate a dataset\n",
    "of rollouts of the dynamics, as well as the associated causal graph. We then evaluate the performance of the IC* (Inductive Causation with latent\n",
    "variables) algorithm from Pearl, 2000. We use the independence tests and IC implementation provided by the [causality](https://www.github.com/akelleh/causality) package.\n",
    "\n",
    "\n",
    "**Note**: This feature is still experimental, and there are likely a few rough edges. Only the HIV, Lotka-Volterra, and Opioid Epidemic simulators support causal graph generation at present. We are rapidly working on extending this feature to all of the dynamical system models."
   ]
  },
  {
   "cell_type": "code",
   "execution_count": 1,
   "metadata": {},
   "outputs": [
    {
     "name": "stdout",
     "output_type": "stream",
     "text": [
      "The autoreload extension is already loaded. To reload it, use:\n",
      "  %reload_ext autoreload\n"
     ]
    }
   ],
   "source": [
    "%load_ext autoreload\n",
    "%autoreload 2\n",
    "\n",
    "import itertools\n",
    "import whynot as wn\n",
    "import numpy as np\n",
    "import pandas as pd\n",
    "\n",
    "from causal_search import directed_f1, IC, RobustRegressionTest, undirected_f1"
   ]
  },
  {
   "cell_type": "markdown",
   "metadata": {},
   "source": [
    "## Sanity Checks\n",
    "First, we sanity check the implementation of the IC algorithm on a simple data example provided by the [causality](https://github.com/akelleh/causality) package."
   ]
  },
  {
   "cell_type": "code",
   "execution_count": 2,
   "metadata": {},
   "outputs": [],
   "source": [
    "# Toy dataset generation\n",
    "samples = 200\n",
    "x1 = np.random.normal(size=samples)\n",
    "x2 = x1 + np.random.normal(size=samples)\n",
    "x3 = x1 + np.random.normal(size=samples)\n",
    "x4 = x2 + x3 + np.random.normal(size=samples)\n",
    "x5 = x4 + np.random.normal(size=samples)\n",
    "\n",
    "# load the data into a dataframe:\n",
    "X = pd.DataFrame({'x1' : x1, 'x2' : x2, 'x3' : x3, 'x4' : x4, 'x5' : x5})\n",
    "\n",
    "# define the variable types: 'c' is 'continuous'.  The variables defined here\n",
    "# are the ones the search is performed over  -- NOT all the variables defined\n",
    "# in the data frame.\n",
    "variable_types = {'x1' : 'c', 'x2' : 'c', 'x3' : 'c', 'x4' : 'c', 'x5' : 'c'}\n",
    "\n",
    "# run the search\n",
    "ic_algorithm = IC(RobustRegressionTest)\n",
    "graph = ic_algorithm.search(X, variable_types)"
   ]
  },
  {
   "cell_type": "code",
   "execution_count": 3,
   "metadata": {},
   "outputs": [
    {
     "name": "stdout",
     "output_type": "stream",
     "text": [
      "('x1', 'x2') {'marked': False, 'arrows': []}\n",
      "('x2', 'x4') {'marked': False, 'arrows': ['x4']}\n",
      "('x3', 'x4') {'marked': False, 'arrows': ['x4']}\n",
      "('x4', 'x5') {'marked': True, 'arrows': ['x5']}\n"
     ]
    }
   ],
   "source": [
    "# View the edges estimated by the IC algorithm\n",
    "for edge, data in graph.edges.items():\n",
    "    print(edge, data)"
   ]
  },
  {
   "cell_type": "markdown",
   "metadata": {},
   "source": [
    "## Learning the Dynamics of the HIV Simulator\n",
    "\n",
    "Now, we run an experiment to discover the causal structure of the dynamics for the HIV simulator. Rather than try to learn the structure\n",
    "for the entire unrolled dynamics, we instead focus on learning the causal structure of the dynamics *for a single time step*. There are 6 states\n",
    "in the simulator, given a state $x_0 \\in \\mathbb{R}^6$, the dynamics evolve $x_{1} = f(x_0) \\in \\mathbb{R}^6$, and we wish to uncover how each\n",
    "component of $x_{1}$, e.g. \"infected CD4+ T-lymphocytes\", depends on the components of $x_0$, e.g. \"infected macrophages.\" Hence, in this experiment,\n",
    "there are 12 nodes (one for each component of the state at time steps 0 and 1), and 20 directed edges between them determined by tracing the simulator execution."
   ]
  },
  {
   "cell_type": "code",
   "execution_count": 4,
   "metadata": {},
   "outputs": [],
   "source": [
    "# Set up the initial simulator data. Each sample is an IID draw from a state distribution.\n",
    "num_samples = 500\n",
    "\n",
    "def sample_initial_state():\n",
    "    \"\"\"Sample initial state by randomly perturbing the default state.\"\"\"\n",
    "    state = wn.hiv.State().values()\n",
    "    perturbed = state * np.random.uniform(low=0.95, high=1.05, size=6)\n",
    "    return wn.hiv.State(*perturbed)\n",
    "\n",
    "initial_states = [sample_initial_state() for _ in range(num_samples)]\n",
    "\n",
    "# For illustrative purposes, only run the dynamics for a single time-step\n",
    "config = wn.hiv.Config(delta_t=1.0, end_time=1)"
   ]
  },
  {
   "cell_type": "code",
   "execution_count": 5,
   "metadata": {},
   "outputs": [],
   "source": [
    "# Rollout the simulator from each of the initial conditions\n",
    "runs = [wn.hiv.simulate(init_state, config) for init_state in initial_states]"
   ]
  },
  {
   "cell_type": "code",
   "execution_count": 6,
   "metadata": {},
   "outputs": [
    {
     "name": "stdout",
     "output_type": "stream",
     "text": [
      "Number of nodes: 12, Number of edges: 20\n",
      "\n",
      "['uninfected_T1_0.0', 'infected_T1_0.0', 'uninfected_T2_0.0', 'infected_T2_0.0', 'free_virus_0.0', 'immune_response_0.0', 'uninfected_T1_1.0', 'infected_T1_1.0', 'uninfected_T2_1.0', 'infected_T2_1.0', 'free_virus_1.0', 'immune_response_1.0']\n"
     ]
    }
   ],
   "source": [
    "# Use WhyNot, to extract the underlying causal graph for this process\n",
    "true_graph = wn.causal_graphs.build_dynamics_graph(wn.hiv, runs, config)\n",
    "\n",
    "print(\"Number of nodes: {}, Number of edges: {}\\n\".format(len(true_graph.nodes), len(true_graph.edges)))\n",
    "print(true_graph.nodes)"
   ]
  },
  {
   "cell_type": "code",
   "execution_count": 7,
   "metadata": {},
   "outputs": [
    {
     "data": {
      "text/html": [
       "<div>\n",
       "<style scoped>\n",
       "    .dataframe tbody tr th:only-of-type {\n",
       "        vertical-align: middle;\n",
       "    }\n",
       "\n",
       "    .dataframe tbody tr th {\n",
       "        vertical-align: top;\n",
       "    }\n",
       "\n",
       "    .dataframe thead th {\n",
       "        text-align: right;\n",
       "    }\n",
       "</style>\n",
       "<table border=\"1\" class=\"dataframe\">\n",
       "  <thead>\n",
       "    <tr style=\"text-align: right;\">\n",
       "      <th></th>\n",
       "      <th>uninfected_T1_0.0</th>\n",
       "      <th>infected_T1_0.0</th>\n",
       "      <th>uninfected_T2_0.0</th>\n",
       "      <th>infected_T2_0.0</th>\n",
       "      <th>free_virus_0.0</th>\n",
       "      <th>immune_response_0.0</th>\n",
       "      <th>uninfected_T1_1.0</th>\n",
       "      <th>infected_T1_1.0</th>\n",
       "      <th>uninfected_T2_1.0</th>\n",
       "      <th>infected_T2_1.0</th>\n",
       "      <th>free_virus_1.0</th>\n",
       "      <th>immune_response_1.0</th>\n",
       "    </tr>\n",
       "  </thead>\n",
       "  <tbody>\n",
       "    <tr>\n",
       "      <th>0</th>\n",
       "      <td>9.703097e+05</td>\n",
       "      <td>0.000098</td>\n",
       "      <td>3347.233742</td>\n",
       "      <td>0.000101</td>\n",
       "      <td>1.040125</td>\n",
       "      <td>10.051451</td>\n",
       "      <td>9.706034e+05</td>\n",
       "      <td>1.439246</td>\n",
       "      <td>3345.015988</td>\n",
       "      <td>0.620209</td>\n",
       "      <td>8.106310</td>\n",
       "      <td>10.059732</td>\n",
       "    </tr>\n",
       "    <tr>\n",
       "      <th>1</th>\n",
       "      <td>1.001275e+06</td>\n",
       "      <td>0.000100</td>\n",
       "      <td>3147.733603</td>\n",
       "      <td>0.000098</td>\n",
       "      <td>1.003686</td>\n",
       "      <td>9.835796</td>\n",
       "      <td>1.001260e+06</td>\n",
       "      <td>1.451263</td>\n",
       "      <td>3147.560211</td>\n",
       "      <td>0.570337</td>\n",
       "      <td>7.948844</td>\n",
       "      <td>9.864060</td>\n",
       "    </tr>\n",
       "    <tr>\n",
       "      <th>2</th>\n",
       "      <td>9.685274e+05</td>\n",
       "      <td>0.000100</td>\n",
       "      <td>3110.889795</td>\n",
       "      <td>0.000098</td>\n",
       "      <td>0.996485</td>\n",
       "      <td>9.542907</td>\n",
       "      <td>9.688391e+05</td>\n",
       "      <td>1.288066</td>\n",
       "      <td>3111.143843</td>\n",
       "      <td>0.517111</td>\n",
       "      <td>7.145058</td>\n",
       "      <td>9.597626</td>\n",
       "    </tr>\n",
       "    <tr>\n",
       "      <th>3</th>\n",
       "      <td>1.001273e+06</td>\n",
       "      <td>0.000098</td>\n",
       "      <td>3142.639336</td>\n",
       "      <td>0.000099</td>\n",
       "      <td>0.986170</td>\n",
       "      <td>9.871409</td>\n",
       "      <td>1.001259e+06</td>\n",
       "      <td>1.424074</td>\n",
       "      <td>3142.530275</td>\n",
       "      <td>0.558756</td>\n",
       "      <td>7.797275</td>\n",
       "      <td>9.896090</td>\n",
       "    </tr>\n",
       "    <tr>\n",
       "      <th>4</th>\n",
       "      <td>1.004812e+06</td>\n",
       "      <td>0.000096</td>\n",
       "      <td>3334.378382</td>\n",
       "      <td>0.000096</td>\n",
       "      <td>1.023971</td>\n",
       "      <td>9.579640</td>\n",
       "      <td>1.004762e+06</td>\n",
       "      <td>1.571770</td>\n",
       "      <td>3332.253451</td>\n",
       "      <td>0.651737</td>\n",
       "      <td>8.701689</td>\n",
       "      <td>9.632993</td>\n",
       "    </tr>\n",
       "  </tbody>\n",
       "</table>\n",
       "</div>"
      ],
      "text/plain": [
       "   uninfected_T1_0.0  infected_T1_0.0  uninfected_T2_0.0  infected_T2_0.0  \\\n",
       "0       9.703097e+05         0.000098        3347.233742         0.000101   \n",
       "1       1.001275e+06         0.000100        3147.733603         0.000098   \n",
       "2       9.685274e+05         0.000100        3110.889795         0.000098   \n",
       "3       1.001273e+06         0.000098        3142.639336         0.000099   \n",
       "4       1.004812e+06         0.000096        3334.378382         0.000096   \n",
       "\n",
       "   free_virus_0.0  immune_response_0.0  uninfected_T1_1.0  infected_T1_1.0  \\\n",
       "0        1.040125            10.051451       9.706034e+05         1.439246   \n",
       "1        1.003686             9.835796       1.001260e+06         1.451263   \n",
       "2        0.996485             9.542907       9.688391e+05         1.288066   \n",
       "3        0.986170             9.871409       1.001259e+06         1.424074   \n",
       "4        1.023971             9.579640       1.004762e+06         1.571770   \n",
       "\n",
       "   uninfected_T2_1.0  infected_T2_1.0  free_virus_1.0  immune_response_1.0  \n",
       "0        3345.015988         0.620209        8.106310            10.059732  \n",
       "1        3147.560211         0.570337        7.948844             9.864060  \n",
       "2        3111.143843         0.517111        7.145058             9.597626  \n",
       "3        3142.530275         0.558756        7.797275             9.896090  \n",
       "4        3332.253451         0.651737        8.701689             9.632993  "
      ]
     },
     "execution_count": 7,
     "metadata": {},
     "output_type": "execute_result"
    }
   ],
   "source": [
    "# Generate a dataset consisting of all of the simulator covariates, unrolled over time\n",
    "def flatten(run):\n",
    "    \"\"\"Flatten the covariates into a single long observation\"\"\"\n",
    "    return np.concatenate([state.values() for state in run.states])\n",
    "\n",
    "data = np.array([flatten(run) for run in runs]) \n",
    "columns = [f\"{name}_{time}\" for time, name in itertools.product(runs[0].times, wn.hiv.State.variable_names())]\n",
    "df_hiv = pd.DataFrame(data, columns=columns)\n",
    "df_hiv.head()"
   ]
  },
  {
   "cell_type": "code",
   "execution_count": 56,
   "metadata": {},
   "outputs": [],
   "source": [
    "# Run the search algorithm (this takes a while)\n",
    "# All variables are continuous\n",
    "variable_types = {column: 'c' for column in columns}\n",
    "ic_algorithm = IC(RobustRegressionTest)\n",
    "estimated_graph = ic_algorithm.search(df_hiv, variable_types)"
   ]
  },
  {
   "cell_type": "code",
   "execution_count": 57,
   "metadata": {
    "scrolled": true
   },
   "outputs": [
    {
     "name": "stdout",
     "output_type": "stream",
     "text": [
      "('uninfected_T1_0.0', 'uninfected_T1_1.0') {'marked': False, 'arrows': []}\n",
      "('uninfected_T1_0.0', 'infected_T1_1.0') {'marked': False, 'arrows': ['infected_T1_1.0']}\n",
      "('uninfected_T2_0.0', 'immune_response_0.0') {'marked': False, 'arrows': []}\n",
      "('uninfected_T2_0.0', 'uninfected_T2_1.0') {'marked': False, 'arrows': ['uninfected_T2_1.0']}\n",
      "('uninfected_T2_0.0', 'immune_response_1.0') {'marked': False, 'arrows': []}\n",
      "('immune_response_0.0', 'uninfected_T2_1.0') {'marked': False, 'arrows': ['uninfected_T2_1.0']}\n",
      "('immune_response_0.0', 'immune_response_1.0') {'marked': False, 'arrows': []}\n",
      "('uninfected_T1_1.0', 'infected_T1_1.0') {'marked': False, 'arrows': ['infected_T1_1.0']}\n",
      "('infected_T1_1.0', 'infected_T2_1.0') {'marked': False, 'arrows': ['infected_T1_1.0', 'infected_T1_1.0', 'infected_T2_1.0']}\n",
      "('infected_T1_1.0', 'free_virus_1.0') {'marked': True, 'arrows': ['free_virus_1.0', 'free_virus_1.0']}\n",
      "('uninfected_T2_1.0', 'free_virus_1.0') {'marked': False, 'arrows': ['uninfected_T2_1.0', 'uninfected_T2_1.0', 'uninfected_T2_1.0', 'free_virus_1.0']}\n",
      "('uninfected_T2_1.0', 'immune_response_1.0') {'marked': False, 'arrows': ['uninfected_T2_1.0']}\n",
      "('infected_T2_1.0', 'free_virus_1.0') {'marked': True, 'arrows': ['infected_T2_1.0']}\n"
     ]
    }
   ],
   "source": [
    "for edge, data in estimated_graph.edges.items():\n",
    "    print(edge, data)"
   ]
  },
  {
   "cell_type": "code",
   "execution_count": 58,
   "metadata": {},
   "outputs": [
    {
     "name": "stdout",
     "output_type": "stream",
     "text": [
      "Original Graph: 20 edges, Estimated Graph: 13 edges\n",
      "Undirected Edge F1 Score: 0.24\n",
      "Directed Edge F1 Score: 0.14\n"
     ]
    }
   ],
   "source": [
    "# How well did the causal structure learning algorithm perform?\n",
    "print(\"Original Graph: {} edges, Estimated Graph: {} edges\".format(len(true_graph.edges), len(estimated_graph.edges)))\n",
    "print(\"Undirected Edge F1 Score: {:.2f}\".format(undirected_f1(true_graph, estimated_graph)))\n",
    "print(\"Directed Edge F1 Score: {:.2f}\".format(directed_f1(true_graph, estimated_graph)))"
   ]
  },
  {
   "cell_type": "code",
   "execution_count": null,
   "metadata": {},
   "outputs": [],
   "source": []
  }
 ],
 "metadata": {
  "kernelspec": {
   "display_name": "Python 3",
   "language": "python",
   "name": "python3"
  },
  "language_info": {
   "codemirror_mode": {
    "name": "ipython",
    "version": 3
   },
   "file_extension": ".py",
   "mimetype": "text/x-python",
   "name": "python",
   "nbconvert_exporter": "python",
   "pygments_lexer": "ipython3",
   "version": "3.7.5"
  }
 },
 "nbformat": 4,
 "nbformat_minor": 2
}

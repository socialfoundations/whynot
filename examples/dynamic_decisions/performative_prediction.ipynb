{
 "cells": [
  {
   "cell_type": "markdown",
   "metadata": {},
   "source": [
    "# Performative Prediciton: A Case Study in Strategic Classification"
   ]
  },
  {
   "cell_type": "code",
   "execution_count": 1,
   "metadata": {},
   "outputs": [
    {
     "name": "stdout",
     "output_type": "stream",
     "text": [
      "The autoreload extension is already loaded. To reload it, use:\n",
      "  %reload_ext autoreload\n"
     ]
    }
   ],
   "source": [
    "%load_ext autoreload\n",
    "%autoreload 2\n",
    "\n",
    "import numpy as np\n",
    "from utils.optimization import logistic_regression\n",
    "\n",
    "import whynot as wn\n",
    "import whynot.gym as gym"
   ]
  },
  {
   "cell_type": "markdown",
   "metadata": {},
   "source": [
    "## 1) Set up Repeated Classification Environment\n",
    "\n",
    "We perform our experiments on the *Give me a credit* dataset available at https://www.kaggle.com/c/GiveMeSomeCredit. The dataset contains features of individuals and an indicator variable on whether they defaulted on a loan or not."
   ]
  },
  {
   "cell_type": "code",
   "execution_count": 4,
   "metadata": {
    "scrolled": true
   },
   "outputs": [
    {
     "data": {
      "text/plain": [
       "[1]"
      ]
     },
     "execution_count": 4,
     "metadata": {},
     "output_type": "execute_result"
    }
   ],
   "source": [
    "# Make the Credit environment and set random seed.\n",
    "np.random.seed(0)\n",
    "env = gym.make('Credit-v0')\n",
    "env.seed(1)"
   ]
  },
  {
   "cell_type": "code",
   "execution_count": 5,
   "metadata": {},
   "outputs": [
    {
     "data": {
      "text/plain": [
       "array([[-0.0227904 ,  0.81170814, -0.10910125, ..., -0.05447654,\n",
       "        -0.74176455,  1.        ],\n",
       "       [-0.02210369,  0.46512671, -0.10910125, ...,  0.23555616,\n",
       "        -0.74176455,  1.        ],\n",
       "       [-0.02173707, -0.71325019,  0.17667678, ..., -0.05447654,\n",
       "        -0.74176455,  1.        ],\n",
       "       ...,\n",
       "       [-0.02268837,  0.04922898, -0.10910125, ..., -0.05447654,\n",
       "        -0.74176455,  1.        ],\n",
       "       [-0.02225384, -0.78256647, -0.10910125, ..., -0.05447654,\n",
       "         0.9998099 ,  1.        ],\n",
       "       [-0.02228875, -1.05983163,  0.46245481, ..., -0.05447654,\n",
       "         0.12902268,  1.        ]])"
      ]
     },
     "execution_count": 5,
     "metadata": {},
     "output_type": "execute_result"
    }
   ],
   "source": [
    "env.reset()[0]"
   ]
  },
  {
   "cell_type": "markdown",
   "metadata": {},
   "source": [
    "## 2) Simulation\n",
    "\n",
    "### Initial ERM Classifier\n",
    "\n",
    "We train a logistic regression classifier on the given set of features and labels. \n",
    "This corresponds to the classical supervised learning procedure."
   ]
  },
  {
   "cell_type": "code",
   "execution_count": 14,
   "metadata": {},
   "outputs": [
    {
     "name": "stdout",
     "output_type": "stream",
     "text": [
      "Accuracy:  0.7208149479762488\n",
      "Loss:  0.6100457881235787\n",
      "Condition Number:  1.1674064432758535e-05\n",
      "Norm:  2.449254451036605\n"
     ]
    },
    {
     "data": {
      "text/plain": [
       "array([-0.00685752, -0.38023149,  1.74532448, -0.04753519, -0.44431336,\n",
       "        0.01090135,  1.55568933,  0.09787015,  0.1344509 ,  0.09312879,\n",
       "       -0.38958459])"
      ]
     },
     "execution_count": 14,
     "metadata": {},
     "output_type": "execute_result"
    }
   ],
   "source": [
    "# fit logistic regression model we treat as the truth\n",
    "base_features, base_labels = env.initial_state.values()\n",
    "num_agents, num_features = base_features.shape\n",
    "\n",
    "lam = 1.0 / num_agents\n",
    "theta_true, loss_list, smoothness = logistic_regression(base_features, base_labels, lam, 'Exact')\n",
    "\n",
    "print('Accuracy: ', ((base_features.dot(theta_true) > 0)  == base_labels).mean())\n",
    "print('Loss: ', loss_list[-1])\n",
    "print('Condition Number: ', lam / (smoothness + lam))\n",
    "print('Norm: ', np.linalg.norm(theta_true))\n",
    "theta_true"
   ]
  },
  {
   "cell_type": "code",
   "execution_count": 13,
   "metadata": {},
   "outputs": [
    {
     "data": {
      "text/plain": [
       "5.447513210219535e-05"
      ]
     },
     "execution_count": 13,
     "metadata": {},
     "output_type": "execute_result"
    }
   ],
   "source": [
    "lam"
   ]
  },
  {
   "cell_type": "markdown",
   "metadata": {},
   "source": [
    "### Repeated ERM\n",
    "\n",
    "We simulate the effect of performativity. Therefore we perform `num_iters` rounds. In each round the following three steps are performed: i) we train an ERM classifier on the current set of features, ii) the classifier is deployed and iii) the individuals react strategically to the deployed calssifier, inducing a new set of fetaures for the next round"
   ]
  },
  {
   "cell_type": "markdown",
   "metadata": {},
   "source": [
    "a) configure experiment"
   ]
  },
  {
   "cell_type": "code",
   "execution_count": 17,
   "metadata": {},
   "outputs": [],
   "source": [
    "# problems parameters\n",
    "num_iters    = 25\n",
    "eps_list = [1]#, 1]#, 50] #100]\n",
    "num_eps  = len(eps_list)\n",
    "\n",
    "# define which method to run: 'Exact' or 'RGD'\n",
    "method = 'Exact'  "
   ]
  },
  {
   "cell_type": "markdown",
   "metadata": {},
   "source": [
    "b) setup summary statistics"
   ]
  },
  {
   "cell_type": "code",
   "execution_count": 18,
   "metadata": {},
   "outputs": [],
   "source": [
    "theta_list         = [[np.copy(theta_true)] for _ in range(num_eps)]\n",
    "theta_gaps         = [[] for _ in range(num_eps)]\n",
    "ll_list            = [[] for _ in range(num_eps)]\n",
    "acc_list_start     = [[] for _ in range(num_eps)]\n",
    "acc_list_end       = [[] for _ in range(num_eps)]\n",
    "lp_list_start      = [[] for _ in range(num_eps)]\n",
    "lp_list_end        = [[] for _ in range(num_eps)]"
   ]
  },
  {
   "cell_type": "markdown",
   "metadata": {},
   "source": [
    "c) simulate experiment"
   ]
  },
  {
   "cell_type": "code",
   "execution_count": null,
   "metadata": {
    "scrolled": true
   },
   "outputs": [
    {
     "name": "stdout",
     "output_type": "stream",
     "text": [
      "Running epsilon =  1\n",
      "\n",
      "0\n",
      "\n",
      "[[array([-0.00685752, -0.38023149,  1.74532448, -0.04753519, -0.44431336,\n",
      "        0.01090135,  1.55568933,  0.09787015,  0.1344509 ,  0.09312879,\n",
      "       -0.38958459])]]\n",
      "1\n",
      "\n",
      "[[array([-0.00685752, -0.38023149,  1.74532448, -0.04753519, -0.44431336,\n",
      "        0.01090135,  1.55568933,  0.09787015,  0.1344509 ,  0.09312879,\n",
      "       -0.38958459]), array([-0.00685855, -0.38023149,  1.7453067 , -0.04753594, -0.44432084,\n",
      "        0.01089886,  1.55560498,  0.09787351,  0.13455141,  0.09312899,\n",
      "       -0.37984058])]]\n",
      "2\n",
      "\n",
      "[[array([-0.00685752, -0.38023149,  1.74532448, -0.04753519, -0.44431336,\n",
      "        0.01090135,  1.55568933,  0.09787015,  0.1344509 ,  0.09312879,\n",
      "       -0.38958459]), array([-0.00685855, -0.38023149,  1.7453067 , -0.04753594, -0.44432084,\n",
      "        0.01089886,  1.55560498,  0.09787351,  0.13455141,  0.09312899,\n",
      "       -0.37984058]), array([-0.00685948, -0.38023152,  1.74529054, -0.04753663, -0.44432768,\n",
      "        0.01089658,  1.55552742,  0.09787655,  0.13464267,  0.09312919,\n",
      "       -0.37009575])]]\n",
      "3\n",
      "\n",
      "[[array([-0.00685752, -0.38023149,  1.74532448, -0.04753519, -0.44431336,\n",
      "        0.01090135,  1.55568933,  0.09787015,  0.1344509 ,  0.09312879,\n",
      "       -0.38958459]), array([-0.00685855, -0.38023149,  1.7453067 , -0.04753594, -0.44432084,\n",
      "        0.01089886,  1.55560498,  0.09787351,  0.13455141,  0.09312899,\n",
      "       -0.37984058]), array([-0.00685948, -0.38023152,  1.74529054, -0.04753663, -0.44432768,\n",
      "        0.01089658,  1.55552742,  0.09787655,  0.13464267,  0.09312919,\n",
      "       -0.37009575]), array([-0.00686031, -0.38023159,  1.74527606, -0.04753725, -0.44433391,\n",
      "        0.01089452,  1.555457  ,  0.09787926,  0.13472433,  0.09312938,\n",
      "       -0.36035024])]]\n",
      "4\n",
      "\n",
      "[[array([-0.00685752, -0.38023149,  1.74532448, -0.04753519, -0.44431336,\n",
      "        0.01090135,  1.55568933,  0.09787015,  0.1344509 ,  0.09312879,\n",
      "       -0.38958459]), array([-0.00685855, -0.38023149,  1.7453067 , -0.04753594, -0.44432084,\n",
      "        0.01089886,  1.55560498,  0.09787351,  0.13455141,  0.09312899,\n",
      "       -0.37984058]), array([-0.00685948, -0.38023152,  1.74529054, -0.04753663, -0.44432768,\n",
      "        0.01089658,  1.55552742,  0.09787655,  0.13464267,  0.09312919,\n",
      "       -0.37009575]), array([-0.00686031, -0.38023159,  1.74527606, -0.04753725, -0.44433391,\n",
      "        0.01089452,  1.555457  ,  0.09787926,  0.13472433,  0.09312938,\n",
      "       -0.36035024]), array([-0.00686145, -0.38023092,  1.74522916, -0.04753787, -0.44433763,\n",
      "        0.01088882,  1.55520682,  0.09788078,  0.13501637,  0.09312968,\n",
      "       -0.35060196])]]\n",
      "5\n",
      "\n",
      "[[array([-0.00685752, -0.38023149,  1.74532448, -0.04753519, -0.44431336,\n",
      "        0.01090135,  1.55568933,  0.09787015,  0.1344509 ,  0.09312879,\n",
      "       -0.38958459]), array([-0.00685855, -0.38023149,  1.7453067 , -0.04753594, -0.44432084,\n",
      "        0.01089886,  1.55560498,  0.09787351,  0.13455141,  0.09312899,\n",
      "       -0.37984058]), array([-0.00685948, -0.38023152,  1.74529054, -0.04753663, -0.44432768,\n",
      "        0.01089658,  1.55552742,  0.09787655,  0.13464267,  0.09312919,\n",
      "       -0.37009575]), array([-0.00686031, -0.38023159,  1.74527606, -0.04753725, -0.44433391,\n",
      "        0.01089452,  1.555457  ,  0.09787926,  0.13472433,  0.09312938,\n",
      "       -0.36035024]), array([-0.00686145, -0.38023092,  1.74522916, -0.04753787, -0.44433763,\n",
      "        0.01088882,  1.55520682,  0.09788078,  0.13501637,  0.09312968,\n",
      "       -0.35060196]), array([-0.0068623 , -0.38023067,  1.74520123, -0.0475384 , -0.4443418 ,\n",
      "        0.01088531,  1.55505887,  0.09788243,  0.13518681,  0.09312992,\n",
      "       -0.34085469])]]\n",
      "6\n",
      "\n",
      "[[array([-0.00685752, -0.38023149,  1.74532448, -0.04753519, -0.44431336,\n",
      "        0.01090135,  1.55568933,  0.09787015,  0.1344509 ,  0.09312879,\n",
      "       -0.38958459]), array([-0.00685855, -0.38023149,  1.7453067 , -0.04753594, -0.44432084,\n",
      "        0.01089886,  1.55560498,  0.09787351,  0.13455141,  0.09312899,\n",
      "       -0.37984058]), array([-0.00685948, -0.38023152,  1.74529054, -0.04753663, -0.44432768,\n",
      "        0.01089658,  1.55552742,  0.09787655,  0.13464267,  0.09312919,\n",
      "       -0.37009575]), array([-0.00686031, -0.38023159,  1.74527606, -0.04753725, -0.44433391,\n",
      "        0.01089452,  1.555457  ,  0.09787926,  0.13472433,  0.09312938,\n",
      "       -0.36035024]), array([-0.00686145, -0.38023092,  1.74522916, -0.04753787, -0.44433763,\n",
      "        0.01088882,  1.55520682,  0.09788078,  0.13501637,  0.09312968,\n",
      "       -0.35060196]), array([-0.0068623 , -0.38023067,  1.74520123, -0.0475384 , -0.4443418 ,\n",
      "        0.01088531,  1.55505887,  0.09788243,  0.13518681,  0.09312992,\n",
      "       -0.34085469]), array([-0.00686346, -0.3802297 ,  1.74514114, -0.04753893, -0.44434357,\n",
      "        0.01087821,  1.55473337,  0.09788292,  0.13556439,  0.09313028,\n",
      "       -0.33110534])]]\n"
     ]
    }
   ],
   "source": [
    "for c, eps in enumerate(eps_list):\n",
    "    \n",
    "    # initial theta\n",
    "    theta = np.copy(theta_true)\n",
    "\n",
    "    print('Running epsilon =  {}\\n'.format(eps))\n",
    "    \n",
    "    env.config.epsilon = eps\n",
    "    env.config.l2_penalty = lam\n",
    "    env.reset()\n",
    "    \n",
    "    for t in range(num_iters):\n",
    "        \n",
    "        (X_strat, Y), loss_start, _, _ = env.step(theta)\n",
    "        \n",
    "        # evaluate initial loss on the current distribution\n",
    "        # performative loss value of previous theta\n",
    "        acc = ((X_strat.dot(theta) > 0) == Y).mean()\n",
    "        \n",
    "        acc_list_start[c].append(acc)\n",
    "        lp_list_start[c].append(loss_start)\n",
    "        \n",
    "        # learn on induced distribution\n",
    "        theta_init = None if method == 'Exact' else np.copy(theta)\n",
    "        \n",
    "        theta_new, ll, _ = logistic_regression(X_strat, Y, lam, method, tol=1e-7, \n",
    "                                                                 theta_init=theta_init)\n",
    "        \n",
    "        print(t)\n",
    "        print()\n",
    "        print(theta_list)\n",
    "        # keep track of statistics\n",
    "        ll_list[c].append(ll)\n",
    "        theta_list[c].append(np.copy(theta_new))\n",
    "\n",
    "        # evaluate final loss on the current distribution\n",
    "        loss_end = wn.credit.strategic_logistic_loss(env.config, X_strat, Y, theta_new)\n",
    "        acc = ((X_strat.dot(theta_new) > 0) == Y).mean()\n",
    "        \n",
    "        lp_list_end[c].append(loss_end)        \n",
    "        acc_list_end[c].append(acc)\n",
    "        \n",
    "        theta = np.copy(theta_new)"
   ]
  },
  {
   "cell_type": "markdown",
   "metadata": {},
   "source": [
    "## 3) Visualization of Results"
   ]
  },
  {
   "cell_type": "code",
   "execution_count": null,
   "metadata": {},
   "outputs": [],
   "source": [
    "import matplotlib.pyplot as plt\n",
    "from matplotlib import rc\n",
    "import matplotlib\n",
    "import matplotlib.ticker as mtick\n",
    "from matplotlib.ticker import FormatStrFormatter\n",
    "\n",
    "matplotlib.rcParams['mathtext.fontset'] = 'cm'\n",
    "matplotlib.rcParams['font.family'] = 'Times New Roman'\n",
    "\n",
    "%matplotlib inline"
   ]
  },
  {
   "cell_type": "markdown",
   "metadata": {},
   "source": [
    " ### Perfromative Risk\n",
    " \n",
    " We visualize the perfromative risk during the repeated risk minimization procedure. We illustrate the risk at the beginning and at the end of each round, correcting the two values with a blue line and indicate the distribution shift with a dashed green line."
   ]
  },
  {
   "cell_type": "code",
   "execution_count": null,
   "metadata": {},
   "outputs": [],
   "source": [
    "# visualize loss trajectory\n",
    "\n",
    "for c in range(num_eps):\n",
    "    plt.figure(figsize=(15,6))\n",
    "    offset = 0.8\n",
    "    plt.title('Perfromative Risk during {}, eps={}'.format(method,eps_list[c]))\n",
    "    for i in range(2,num_iters):\n",
    "        plt.plot([i,i+offset],[lp_list_start[c][i],lp_list_end[c][i]],'b*-')\n",
    "        if i<num_iters-1:\n",
    "            plt.plot([i+offset, i+1],[lp_list_end[c][i],lp_list_start[c][i+1]],'g--')\n",
    "\n",
    "    plt.xlabel('Iteration',fontsize = 18)\n",
    "    plt.ylabel('Loss',fontsize = 18) \n",
    "    plt.tick_params(labelsize=18)\n",
    "    plt.yscale('log')"
   ]
  },
  {
   "cell_type": "code",
   "execution_count": null,
   "metadata": {},
   "outputs": [],
   "source": [
    "# visualize accuracy trajectory\n",
    "\n",
    "for c in range(num_eps):\n",
    "    fig = plt.figure(figsize=(15,6))\n",
    "    ax = fig.gca()\n",
    "    offset = 0.8\n",
    "    \n",
    "    for i in range(1,num_iters):\n",
    "        # gain of RRM step\n",
    "        plt.plot([i,i+offset],[acc_list_start[c][i],acc_list_end[c][i]],'b*-')\n",
    "        if i<num_iters-1:\n",
    "            plt.plot([i+offset, i+1],[acc_list_end[c][i],acc_list_start[c][i+1]],'g:')\n",
    "\n",
    "    plt.xlabel('Iteration', fontsize = 18)\n",
    "    plt.tick_params(labelsize=18)\n",
    "    plt.title(\"Accuracy during {}, eps='{}'\".format(method, eps_list[c]), fontsize = 18)"
   ]
  },
  {
   "cell_type": "code",
   "execution_count": null,
   "metadata": {},
   "outputs": [],
   "source": []
  }
 ],
 "metadata": {
  "kernelspec": {
   "display_name": "Python 3",
   "language": "python",
   "name": "python3"
  },
  "language_info": {
   "codemirror_mode": {
    "name": "ipython",
    "version": 3
   },
   "file_extension": ".py",
   "mimetype": "text/x-python",
   "name": "python",
   "nbconvert_exporter": "python",
   "pygments_lexer": "ipython3",
   "version": "3.7.5"
  }
 },
 "nbformat": 4,
 "nbformat_minor": 4
}

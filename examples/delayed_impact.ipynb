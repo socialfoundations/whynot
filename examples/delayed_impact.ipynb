{
 "cells": [
  {
   "cell_type": "markdown",
   "metadata": {},
   "source": [
    "# Decision making in dynamics.\n",
    "\n",
    "This notebook explores causal inference in the context of decision making with dynamics. As our starting point, we use the lending simulator introduced in [Delayed Impact of Fair Machine Learning](https://arxiv.org/abs/1803.04383). \n",
    "\n",
    "To connect this simulator with causal inference, we exploit it's representation as a structural causal model introduced in [Causal Modeling for Fairness in Dynamical Systems](https://arxiv.org/abs/1909.09141). All of the interventions we consider, including the \"credit bureau\" intervention, were introduced by Creager et al. For more details, see\n",
    "\n",
    "1. Creager, Elliot, et al. \"Causal Modeling for Fairness in Dynamical Systems.\" arXiv preprint 1909.09141, 2019.\n",
    "\n",
    "2. Liu, Lydia, et al. \"Delayed Impact of Fair Machine Learning.\" International Conference on Machine Learning. 2018."
   ]
  },
  {
   "cell_type": "code",
   "execution_count": 1,
   "metadata": {},
   "outputs": [],
   "source": [
    "%load_ext autoreload\n",
    "%autoreload 2"
   ]
  },
  {
   "cell_type": "code",
   "execution_count": 2,
   "metadata": {
    "scrolled": true
   },
   "outputs": [],
   "source": [
    "import matplotlib.pylab as plt\n",
    "from tqdm.auto import tqdm\n",
    "\n",
    "import whynot as wn\n",
    "import whynot.traceable_numpy as np\n",
    "\n",
    "from whynot.simulators.lending.simulator import INV_CDFS, GROUP_SIZE_RATIO"
   ]
  },
  {
   "cell_type": "markdown",
   "metadata": {},
   "source": [
    "For illustrative purposes, we show how to construct the credit bureau intervention from [Creager et al.](https://arxiv.org/abs/1909.09141) in WhyNot. The user writes a handful of small functions, each determining a different aspect of the causal experiment."
   ]
  },
  {
   "cell_type": "code",
   "execution_count": 3,
   "metadata": {},
   "outputs": [],
   "source": [
    "def sample_initial_states(rng):\n",
    "    \"\"\"Sample initial states used on FICO data. Each initial state corresponds to an agent.\"\"\"\n",
    "    group = int(rng.uniform() < GROUP_SIZE_RATIO[1])\n",
    "    # Compute credit score via inverse CDF trick\n",
    "    score = INV_CDFS[group](rng.uniform())\n",
    "    return wn.lending.State(group=group, credit_score=score)"
   ]
  },
  {
   "cell_type": "code",
   "execution_count": 4,
   "metadata": {},
   "outputs": [],
   "source": [
    "@wn.parameter(\n",
    "    name=\"threshold_g0\", default=650, description=\"Lending threshold for group 0\")\n",
    "@wn.parameter(\n",
    "    name=\"threshold_g1\", default=650, description=\"Lending threshold for group 1\")\n",
    "def construct_config(threshold_g0, threshold_g1):\n",
    "    \"\"\"Return the experimental config for runs without intervention\"\"\"\n",
    "    # Each rollout is a single timestep and only the lending thresholds are varied.\n",
    "    return wn.lending.Config(\n",
    "        start_time=0, end_time=1, threshold_g0=threshold_g0, threshold_g1=threshold_g1\n",
    "    )\n"
   ]
  },
  {
   "cell_type": "code",
   "execution_count": 5,
   "metadata": {},
   "outputs": [],
   "source": [
    "def extract_outcomes(run):\n",
    "    \"\"\"Outcome is the score change Delta and the institutions profit after 1 step.\"\"\"\n",
    "    return [run.states[1].credit_score - run.states[0].credit_score, run.states[1].profits]"
   ]
  },
  {
   "cell_type": "code",
   "execution_count": 6,
   "metadata": {},
   "outputs": [],
   "source": [
    "def creditscore_threshold(score):\n",
    "    \"\"\"Alternate credit bureau scoring policy.\"\"\"\n",
    "    return max(score, 600)"
   ]
  },
  {
   "cell_type": "code",
   "execution_count": 7,
   "metadata": {},
   "outputs": [],
   "source": [
    "# Construct the experiment\n",
    "CreditBureauExperiment = wn.DynamicsExperiment(\n",
    "    name=\"CreditBureauExperiment\",\n",
    "    description=\"Intervention on the credit scoring mechanism.\",\n",
    "    simulator=wn.lending,\n",
    "    simulator_config=construct_config,\n",
    "    # Change the credit scoring mechanism on the first step.\n",
    "    intervention=wn.lending.Intervention(credit_scorer=creditscore_threshold, time=0),\n",
    "    state_sampler=sample_initial_states,\n",
    "    # All units are treated\n",
    "    propensity_scorer=1.0,\n",
    "    outcome_extractor=extract_outcomes,\n",
    "    # Only covariate is group membership\n",
    "    covariate_builder=lambda run: run.initial_state.group,\n",
    ")"
   ]
  },
  {
   "cell_type": "markdown",
   "metadata": {},
   "source": [
    "Compute average score changes for the minority, as well as institutional profits, as the minority threshold\n",
    "varies and the majority threshold is fixed."
   ]
  },
  {
   "cell_type": "code",
   "execution_count": null,
   "metadata": {},
   "outputs": [],
   "source": [
    "minority_thresholds = list(range(300, 800, 10))\n",
    "\n",
    "average_min_score_changes = []\n",
    "average_inst_profits = []\n",
    "for tau_0 in tqdm(minority_thresholds):\n",
    "    # Run the experiment to generate the dataset\n",
    "    dataset = CreditBureauExperiment.run(threshold_g0=tau_0, num_samples=1000, parallelize=True)    \n",
    "    \n",
    "    # Only consider score changes for the minority group\n",
    "    minority_locs = dataset.covariates[:, 0] == 0\n",
    "    minority_treated_locs = minority_locs & (dataset.treatments == 1)\n",
    "\n",
    "    score_changes = dataset.outcomes[:, 0]\n",
    "    minority_changes = score_changes[minority_treated_locs]\n",
    "    average_min_score_changes.append(np.mean(minority_changes))\n",
    "        \n",
    "    # Report profits over the entire group\n",
    "    ind_profits = dataset.outcomes[:, 1][dataset.treatments == 1]\n",
    "    average_inst_profits.append(np.mean(ind_profits))"
   ]
  },
  {
   "cell_type": "code",
   "execution_count": null,
   "metadata": {},
   "outputs": [],
   "source": [
    "_, axs = plt.subplots(1, 2, figsize=(12, 6))\n",
    "axs[0].plot(minority_thresholds, average_min_score_changes, label=\"Average Minority\\n Score Change\")\n",
    "axs[0].plot([600] * 20, np.linspace(-60, 20, 20), label=\"Credit Bureau Cutoff\", linestyle=\"--\", color=\"black\")\n",
    "axs[0].legend()\n",
    "axs[0].set_xlabel(\"Minority Threshold\")\n",
    "axs[0].set_ylabel(\"Score Change\")\n",
    "axs[1].plot(minority_thresholds, average_inst_profits, label=\"Average Profit\")\n",
    "axs[1].plot([600] * 20, np.linspace(0, 0.5, 20), label=\"Credit Bureau Cutoff\", linestyle=\"--\", color=\"black\")\n",
    "axs[1].set_xlabel(\"Minority Threshold\")\n",
    "axs[1].set_ylabel(\"Institutional Profit\")\n",
    "axs[1].legend();"
   ]
  },
  {
   "cell_type": "markdown",
   "metadata": {},
   "source": [
    "# Causal Inference Example\n",
    "\n",
    "Now, we slightly modify the CreditBureau example to show how WhyNot can also be used to address causal inference questions. Rather than treating all units or randomly assigning units to treatment (as in an RCT), suppose members of the minority group are more likely to receive the credit bureau intervention (75% chance) compared to members of the majority group (20% chance). Using this data, we wish to estimate the population-level causal effect of the credit intervention.\n"
   ]
  },
  {
   "cell_type": "code",
   "execution_count": 13,
   "metadata": {},
   "outputs": [],
   "source": [
    "def propensity_scorer(control_run):\n",
    "    \"\"\"Assign minority to treatment 75% of the time, compared to 25% for the majority\"\"\"\n",
    "    return 0.75 * (run.initial_state.group == 0) + 0.25 (run.initial_state.group == 1) "
   ]
  },
  {
   "cell_type": "code",
   "execution_count": 14,
   "metadata": {},
   "outputs": [
    {
     "ename": "ValueError",
     "evalue": "control_run in signature, but is not a parameter!",
     "output_type": "error",
     "traceback": [
      "\u001b[0;31m---------------------------------------------------------------------------\u001b[0m",
      "\u001b[0;31mValueError\u001b[0m                                Traceback (most recent call last)",
      "\u001b[0;32m<ipython-input-14-3902f174f608>\u001b[0m in \u001b[0;36m<module>\u001b[0;34m\u001b[0m\n\u001b[1;32m     11\u001b[0m     \u001b[0moutcome_extractor\u001b[0m\u001b[0;34m=\u001b[0m\u001b[0mextract_outcomes\u001b[0m\u001b[0;34m,\u001b[0m\u001b[0;34m\u001b[0m\u001b[0;34m\u001b[0m\u001b[0m\n\u001b[1;32m     12\u001b[0m     \u001b[0;31m# Only covariate is group membership\u001b[0m\u001b[0;34m\u001b[0m\u001b[0;34m\u001b[0m\u001b[0;34m\u001b[0m\u001b[0m\n\u001b[0;32m---> 13\u001b[0;31m     \u001b[0mcovariate_builder\u001b[0m\u001b[0;34m=\u001b[0m\u001b[0;32mlambda\u001b[0m \u001b[0mrun\u001b[0m\u001b[0;34m:\u001b[0m \u001b[0mrun\u001b[0m\u001b[0;34m.\u001b[0m\u001b[0minitial_state\u001b[0m\u001b[0;34m.\u001b[0m\u001b[0mgroup\u001b[0m\u001b[0;34m,\u001b[0m\u001b[0;34m\u001b[0m\u001b[0;34m\u001b[0m\u001b[0m\n\u001b[0m\u001b[1;32m     14\u001b[0m )\n",
      "\u001b[0;32m~/research/whynot/whynot/dynamics.py\u001b[0m in \u001b[0;36m__init__\u001b[0;34m(self, name, description, simulator_config, intervention, state_sampler, simulator, propensity_scorer, outcome_extractor, covariate_builder)\u001b[0m\n\u001b[1;32m    378\u001b[0m         \u001b[0mself\u001b[0m\u001b[0;34m.\u001b[0m\u001b[0moutcome_extractor\u001b[0m \u001b[0;34m=\u001b[0m \u001b[0moutcome_extractor\u001b[0m\u001b[0;34m\u001b[0m\u001b[0;34m\u001b[0m\u001b[0m\n\u001b[1;32m    379\u001b[0m         \u001b[0mself\u001b[0m\u001b[0;34m.\u001b[0m\u001b[0mcovariate_builder\u001b[0m \u001b[0;34m=\u001b[0m \u001b[0mcovariate_builder\u001b[0m\u001b[0;34m\u001b[0m\u001b[0;34m\u001b[0m\u001b[0m\n\u001b[0;32m--> 380\u001b[0;31m         \u001b[0mself\u001b[0m\u001b[0;34m.\u001b[0m\u001b[0mparameter_collection\u001b[0m \u001b[0;34m=\u001b[0m \u001b[0mself\u001b[0m\u001b[0;34m.\u001b[0m\u001b[0mget_parameters\u001b[0m\u001b[0;34m(\u001b[0m\u001b[0;34m)\u001b[0m\u001b[0;34m\u001b[0m\u001b[0;34m\u001b[0m\u001b[0m\n\u001b[0m\u001b[1;32m    381\u001b[0m \u001b[0;34m\u001b[0m\u001b[0m\n\u001b[1;32m    382\u001b[0m     \u001b[0;32mdef\u001b[0m \u001b[0mget_parameters\u001b[0m\u001b[0;34m(\u001b[0m\u001b[0mself\u001b[0m\u001b[0;34m)\u001b[0m\u001b[0;34m:\u001b[0m\u001b[0;34m\u001b[0m\u001b[0;34m\u001b[0m\u001b[0m\n",
      "\u001b[0;32m~/research/whynot/whynot/dynamics.py\u001b[0m in \u001b[0;36mget_parameters\u001b[0;34m(self)\u001b[0m\n\u001b[1;32m    406\u001b[0m             \u001b[0;34m\"treated_runs\"\u001b[0m\u001b[0;34m,\u001b[0m\u001b[0;34m\u001b[0m\u001b[0;34m\u001b[0m\u001b[0m\n\u001b[1;32m    407\u001b[0m         ]\n\u001b[0;32m--> 408\u001b[0;31m         \u001b[0mparams\u001b[0m \u001b[0;34m+=\u001b[0m \u001b[0mextract_params\u001b[0m\u001b[0;34m(\u001b[0m\u001b[0mself\u001b[0m\u001b[0;34m.\u001b[0m\u001b[0mpropensity_scorer\u001b[0m\u001b[0;34m,\u001b[0m \u001b[0mpropensity_args\u001b[0m\u001b[0;34m)\u001b[0m\u001b[0;34m\u001b[0m\u001b[0;34m\u001b[0m\u001b[0m\n\u001b[0m\u001b[1;32m    409\u001b[0m \u001b[0;34m\u001b[0m\u001b[0m\n\u001b[1;32m    410\u001b[0m         \u001b[0moutcome_args\u001b[0m \u001b[0;34m=\u001b[0m \u001b[0;34m[\u001b[0m\u001b[0;34m\"config\"\u001b[0m\u001b[0;34m,\u001b[0m \u001b[0;34m\"intervention\"\u001b[0m\u001b[0;34m,\u001b[0m \u001b[0;34m\"run\"\u001b[0m\u001b[0;34m]\u001b[0m\u001b[0;34m\u001b[0m\u001b[0;34m\u001b[0m\u001b[0m\n",
      "\u001b[0;32m~/research/whynot/whynot/framework.py\u001b[0m in \u001b[0;36mextract_params\u001b[0;34m(func, standard_args)\u001b[0m\n\u001b[1;32m    185\u001b[0m     \u001b[0;32mfor\u001b[0m \u001b[0marg\u001b[0m \u001b[0;32min\u001b[0m \u001b[0mmethod_args\u001b[0m\u001b[0;34m:\u001b[0m\u001b[0;34m\u001b[0m\u001b[0;34m\u001b[0m\u001b[0m\n\u001b[1;32m    186\u001b[0m         \u001b[0;32mif\u001b[0m \u001b[0marg\u001b[0m \u001b[0;32mnot\u001b[0m \u001b[0;32min\u001b[0m \u001b[0mstandard_args\u001b[0m \u001b[0;32mand\u001b[0m \u001b[0marg\u001b[0m \u001b[0;32mnot\u001b[0m \u001b[0;32min\u001b[0m \u001b[0mspecified_params\u001b[0m\u001b[0;34m:\u001b[0m\u001b[0;34m\u001b[0m\u001b[0;34m\u001b[0m\u001b[0m\n\u001b[0;32m--> 187\u001b[0;31m             \u001b[0;32mraise\u001b[0m \u001b[0mValueError\u001b[0m\u001b[0;34m(\u001b[0m\u001b[0;34mf\"{arg} in signature, but is not a parameter!\"\u001b[0m\u001b[0;34m)\u001b[0m\u001b[0;34m\u001b[0m\u001b[0;34m\u001b[0m\u001b[0m\n\u001b[0m\u001b[1;32m    188\u001b[0m \u001b[0;34m\u001b[0m\u001b[0m\n\u001b[1;32m    189\u001b[0m     \u001b[0;32mreturn\u001b[0m \u001b[0mspecified_params\u001b[0m\u001b[0;34m\u001b[0m\u001b[0;34m\u001b[0m\u001b[0m\n",
      "\u001b[0;31mValueError\u001b[0m: control_run in signature, but is not a parameter!"
     ]
    }
   ],
   "source": [
    "# Construct the experiment\n",
    "BiasedCreditBureauExperiment = wn.DynamicsExperiment(\n",
    "    name=\"BiasedCreditBureauExperiment\",\n",
    "    description=\"Intervention on the credit scoring mechanism, with treatment bias.\",\n",
    "    simulator=wn.lending,\n",
    "    simulator_config=construct_config,\n",
    "    # Change the credit scoring mechanism on the first step.\n",
    "    intervention=wn.lending.Intervention(credit_scorer=creditscore_threshold, time=0),\n",
    "    state_sampler=sample_initial_states,\n",
    "    propensity_scorer=propensity_scorer,\n",
    "    outcome_extractor=extract_outcomes,\n",
    "    # Only covariate is group membership\n",
    "    covariate_builder=lambda run: run.initial_state.group,\n",
    ")"
   ]
  },
  {
   "cell_type": "code",
   "execution_count": null,
   "metadata": {},
   "outputs": [],
   "source": [
    "dataset = CreditBureauExperiment.run(num_samples=25, causal_graph=True)\n",
    "for node in causal_graph.nodes:\n",
    "    print(node)\n",
    "    causal_graph = dataset.causal_graph\n",
    "for edge in causal_graph.edges:\n",
    "    print(edge)"
   ]
  }
 ],
 "metadata": {
  "kernelspec": {
   "display_name": "Python 3",
   "language": "python",
   "name": "python3"
  },
  "language_info": {
   "codemirror_mode": {
    "name": "ipython",
    "version": 3
   },
   "file_extension": ".py",
   "mimetype": "text/x-python",
   "name": "python",
   "nbconvert_exporter": "python",
   "pygments_lexer": "ipython3",
   "version": "3.7.5"
  }
 },
 "nbformat": 4,
 "nbformat_minor": 2
}
